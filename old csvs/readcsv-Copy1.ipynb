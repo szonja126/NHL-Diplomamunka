{
 "cells": [
  {
   "cell_type": "code",
   "execution_count": 2,
   "id": "e0b1557e",
   "metadata": {},
   "outputs": [],
   "source": [
    "import requests\n",
    "import pickle\n",
    "import pandas as pd\n",
    "import json as js\n",
    "import matplotlib.pyplot as plt\n",
    "import numpy as np\n",
    "import seaborn as sb\n",
    "from sklearn.cluster import KMeans\n",
    "from matplotlib.dates import DateFormatter, date2num\n",
    "import plotly.express as px\n",
    "import math\n",
    "#import matplotlib.lines as mlines"
   ]
  },
  {
   "cell_type": "code",
   "execution_count": 96,
   "id": "49bfa0cd",
   "metadata": {},
   "outputs": [],
   "source": [
    "players_df = pd.concat(map(pd.read_csv, ['players_df_500.csv', 'players_df_1082.csv']))\n",
    "teams_df = pd.concat(map(pd.read_csv, ['teams_df_500.csv', 'teams_df_1082.csv']))\n",
    "teams_df = teams_df.drop_duplicates()\n",
    "teams_df = teams_df.sort_values('id')\n",
    "games_df = pd.concat(map(pd.read_csv, ['games_df_500.csv', 'games_df_1082.csv']))\n",
    "#events_df = pd.read_csv('events_df.csv')\n",
    "#players_df\n",
    "#teams_df\n",
    "#games_df"
   ]
  },
  {
   "cell_type": "code",
   "execution_count": 1319,
   "id": "d6e6341b",
   "metadata": {},
   "outputs": [],
   "source": [
    "events_df = pd.concat(map(pd.read_csv, ['events_df_500.csv', 'events_df_1082.csv']))"
   ]
  },
  {
   "cell_type": "code",
   "execution_count": 1320,
   "id": "e106697f",
   "metadata": {},
   "outputs": [],
   "source": [
    "#EVENTS_DF cicomazas\n",
    "#Nullas sorok feltoltese hogy utana int-re valtoztathassuk\n",
    "events_df = events_df.fillna(0)\n",
    "events_df = events_df.astype({'player1Id': 'int64','player2Id':'int64','player3Id':'int64','player4Id':'int64',\n",
    "                              'coX': 'int64','coY':'int64'})"
   ]
  },
  {
   "cell_type": "code",
   "execution_count": 1321,
   "id": "99de8728",
   "metadata": {},
   "outputs": [],
   "source": [
    "#Distinct jatek datumok uj dataframeben mert az elejen elfelejtettem belevenni a read api-ba\n",
    "date_df =  games_df.loc[:,['pk','startDate']]\n",
    "#Ramergeljuk az events_df-re\n",
    "events_df = pd.merge(left=events_df, right=date_df, left_on='gameId', right_on='pk', how='left')\n",
    "events_df = events_df.drop(columns=['pk'])\n",
    "#A datum vegerol levagjuk a felesleges reszt hogy szep legyen\n",
    "events_df['startDate'] = events_df['startDate'].str[:10]"
   ]
  },
  {
   "cell_type": "code",
   "execution_count": 1329,
   "id": "47cbb769",
   "metadata": {},
   "outputs": [],
   "source": [
    "#A periodTime konvertalasa Timedelta tipusra\n",
    "events_df['periodTimeFull'] = pd.to_timedelta(events_df['periodTime'].apply(lambda x: f'00:{x}'))\n",
    "#periodtime atszamitasa teljes idotartamra a 3x20 perc helyett\n",
    "events_df['periodTimeFull']  = events_df['periodTimeFull'] + ((events_df['period']-1) * pd.to_timedelta('00:20:00'))\n",
    "#Kerekitjuk percekre\n",
    "events_df['periodTimeFull_rounded'] = events_df['periodTimeFull'].dt.round('60s')"
   ]
  },
  {
   "cell_type": "code",
   "execution_count": 1323,
   "id": "a8584efb",
   "metadata": {},
   "outputs": [
    {
     "name": "stderr",
     "output_type": "stream",
     "text": [
      "/var/folders/z6/nzpwwscs6qj7t6gldff9vtlw0000gn/T/ipykernel_77575/3733899911.py:4: SettingWithCopyWarning:\n",
      "\n",
      "\n",
      "A value is trying to be set on a copy of a slice from a DataFrame\n",
      "\n",
      "See the caveats in the documentation: https://pandas.pydata.org/pandas-docs/stable/user_guide/indexing.html#returning-a-view-versus-a-copy\n",
      "\n",
      "/var/folders/z6/nzpwwscs6qj7t6gldff9vtlw0000gn/T/ipykernel_77575/3733899911.py:5: SettingWithCopyWarning:\n",
      "\n",
      "\n",
      "A value is trying to be set on a copy of a slice from a DataFrame\n",
      "\n",
      "See the caveats in the documentation: https://pandas.pydata.org/pandas-docs/stable/user_guide/indexing.html#returning-a-view-versus-a-copy\n",
      "\n"
     ]
    }
   ],
   "source": [
    "#Tukrozzuk az esemenyeket az origora\n",
    "for idx, i in enumerate(events_df['coX']):\n",
    "    if i<0:\n",
    "        events_df['coX'].iloc[idx] = abs(events_df['coX'].iloc[idx])\n",
    "        events_df['coY'].iloc[idx] = events_df['coY'].iloc[idx]*-1"
   ]
  },
  {
   "cell_type": "code",
   "execution_count": 1324,
   "id": "3ca06629",
   "metadata": {},
   "outputs": [
    {
     "name": "stderr",
     "output_type": "stream",
     "text": [
      "/var/folders/z6/nzpwwscs6qj7t6gldff9vtlw0000gn/T/ipykernel_77575/1372240050.py:6: RuntimeWarning:\n",
      "\n",
      "divide by zero encountered in long_scalars\n",
      "\n",
      "/var/folders/z6/nzpwwscs6qj7t6gldff9vtlw0000gn/T/ipykernel_77575/1372240050.py:6: RuntimeWarning:\n",
      "\n",
      "invalid value encountered in long_scalars\n",
      "\n"
     ]
    }
   ],
   "source": [
    "#Shot distance and angle\n",
    "goalcenter_x = 89\n",
    "goalcenter_y = 0\n",
    "\n",
    "events_df['shot_angle'] = events_df[['coX','coY']].apply(\n",
    "    lambda row: np.arctan(row['coY']/(89-row['coX']))*(180/np.pi),\n",
    "    axis=1)\n",
    "\n",
    "events_df['shot_distance'] = events_df[['coX','coY']].apply(\n",
    "    lambda row: np.sqrt((row['coX']-goalcenter_x)**2 + (row['coY']-goalcenter_y)**2), axis=1)"
   ]
  },
  {
   "cell_type": "code",
   "execution_count": 1330,
   "id": "3aa4ce2e",
   "metadata": {},
   "outputs": [],
   "source": [
    "#events_df.dtypes\n",
    "#events_df[300:]\n",
    "events_df.to_csv('events_final.csv')"
   ]
  },
  {
   "cell_type": "code",
   "execution_count": 6,
   "id": "c6804959",
   "metadata": {
    "scrolled": true
   },
   "outputs": [
    {
     "data": {
      "text/html": [
       "<div>\n",
       "<style scoped>\n",
       "    .dataframe tbody tr th:only-of-type {\n",
       "        vertical-align: middle;\n",
       "    }\n",
       "\n",
       "    .dataframe tbody tr th {\n",
       "        vertical-align: top;\n",
       "    }\n",
       "\n",
       "    .dataframe thead th {\n",
       "        text-align: right;\n",
       "    }\n",
       "</style>\n",
       "<table border=\"1\" class=\"dataframe\">\n",
       "  <thead>\n",
       "    <tr style=\"text-align: right;\">\n",
       "      <th></th>\n",
       "      <th>currentAge</th>\n",
       "      <th>id</th>\n",
       "      <th>name</th>\n",
       "    </tr>\n",
       "  </thead>\n",
       "  <tbody>\n",
       "    <tr>\n",
       "      <th>0</th>\n",
       "      <td>28.2</td>\n",
       "      <td>3</td>\n",
       "      <td>New York Rangers</td>\n",
       "    </tr>\n",
       "    <tr>\n",
       "      <th>1</th>\n",
       "      <td>28.3</td>\n",
       "      <td>12</td>\n",
       "      <td>Carolina Hurricanes</td>\n",
       "    </tr>\n",
       "    <tr>\n",
       "      <th>2</th>\n",
       "      <td>28.3</td>\n",
       "      <td>7</td>\n",
       "      <td>Buffalo Sabres</td>\n",
       "    </tr>\n",
       "    <tr>\n",
       "      <th>3</th>\n",
       "      <td>28.3</td>\n",
       "      <td>29</td>\n",
       "      <td>Columbus Blue Jackets</td>\n",
       "    </tr>\n",
       "    <tr>\n",
       "      <th>4</th>\n",
       "      <td>28.4</td>\n",
       "      <td>52</td>\n",
       "      <td>Winnipeg Jets</td>\n",
       "    </tr>\n",
       "    <tr>\n",
       "      <th>5</th>\n",
       "      <td>28.7</td>\n",
       "      <td>1</td>\n",
       "      <td>New Jersey Devils</td>\n",
       "    </tr>\n",
       "    <tr>\n",
       "      <th>6</th>\n",
       "      <td>28.7</td>\n",
       "      <td>10</td>\n",
       "      <td>Toronto Maple Leafs</td>\n",
       "    </tr>\n",
       "    <tr>\n",
       "      <th>7</th>\n",
       "      <td>28.8</td>\n",
       "      <td>21</td>\n",
       "      <td>Colorado Avalanche</td>\n",
       "    </tr>\n",
       "    <tr>\n",
       "      <th>8</th>\n",
       "      <td>29.1</td>\n",
       "      <td>24</td>\n",
       "      <td>Anaheim Ducks</td>\n",
       "    </tr>\n",
       "    <tr>\n",
       "      <th>9</th>\n",
       "      <td>29.2</td>\n",
       "      <td>4</td>\n",
       "      <td>Philadelphia Flyers</td>\n",
       "    </tr>\n",
       "    <tr>\n",
       "      <th>10</th>\n",
       "      <td>29.3</td>\n",
       "      <td>9</td>\n",
       "      <td>Ottawa Senators</td>\n",
       "    </tr>\n",
       "    <tr>\n",
       "      <th>11</th>\n",
       "      <td>29.4</td>\n",
       "      <td>8</td>\n",
       "      <td>Montréal Canadiens</td>\n",
       "    </tr>\n",
       "    <tr>\n",
       "      <th>12</th>\n",
       "      <td>29.5</td>\n",
       "      <td>23</td>\n",
       "      <td>Vancouver Canucks</td>\n",
       "    </tr>\n",
       "    <tr>\n",
       "      <th>13</th>\n",
       "      <td>29.5</td>\n",
       "      <td>16</td>\n",
       "      <td>Chicago Blackhawks</td>\n",
       "    </tr>\n",
       "    <tr>\n",
       "      <th>14</th>\n",
       "      <td>29.6</td>\n",
       "      <td>53</td>\n",
       "      <td>Arizona Coyotes</td>\n",
       "    </tr>\n",
       "    <tr>\n",
       "      <th>15</th>\n",
       "      <td>29.6</td>\n",
       "      <td>5</td>\n",
       "      <td>Pittsburgh Penguins</td>\n",
       "    </tr>\n",
       "    <tr>\n",
       "      <th>16</th>\n",
       "      <td>29.6</td>\n",
       "      <td>20</td>\n",
       "      <td>Calgary Flames</td>\n",
       "    </tr>\n",
       "    <tr>\n",
       "      <th>17</th>\n",
       "      <td>29.7</td>\n",
       "      <td>22</td>\n",
       "      <td>Edmonton Oilers</td>\n",
       "    </tr>\n",
       "    <tr>\n",
       "      <th>18</th>\n",
       "      <td>29.8</td>\n",
       "      <td>13</td>\n",
       "      <td>Florida Panthers</td>\n",
       "    </tr>\n",
       "    <tr>\n",
       "      <th>19</th>\n",
       "      <td>30.0</td>\n",
       "      <td>17</td>\n",
       "      <td>Detroit Red Wings</td>\n",
       "    </tr>\n",
       "    <tr>\n",
       "      <th>20</th>\n",
       "      <td>30.0</td>\n",
       "      <td>14</td>\n",
       "      <td>Tampa Bay Lightning</td>\n",
       "    </tr>\n",
       "    <tr>\n",
       "      <th>21</th>\n",
       "      <td>30.0</td>\n",
       "      <td>2</td>\n",
       "      <td>New York Islanders</td>\n",
       "    </tr>\n",
       "    <tr>\n",
       "      <th>22</th>\n",
       "      <td>30.2</td>\n",
       "      <td>26</td>\n",
       "      <td>Los Angeles Kings</td>\n",
       "    </tr>\n",
       "    <tr>\n",
       "      <th>23</th>\n",
       "      <td>30.2</td>\n",
       "      <td>19</td>\n",
       "      <td>St. Louis Blues</td>\n",
       "    </tr>\n",
       "    <tr>\n",
       "      <th>24</th>\n",
       "      <td>30.5</td>\n",
       "      <td>54</td>\n",
       "      <td>Vegas Golden Knights</td>\n",
       "    </tr>\n",
       "    <tr>\n",
       "      <th>25</th>\n",
       "      <td>30.6</td>\n",
       "      <td>6</td>\n",
       "      <td>Boston Bruins</td>\n",
       "    </tr>\n",
       "    <tr>\n",
       "      <th>26</th>\n",
       "      <td>30.6</td>\n",
       "      <td>30</td>\n",
       "      <td>Minnesota Wild</td>\n",
       "    </tr>\n",
       "    <tr>\n",
       "      <th>27</th>\n",
       "      <td>30.7</td>\n",
       "      <td>15</td>\n",
       "      <td>Washington Capitals</td>\n",
       "    </tr>\n",
       "    <tr>\n",
       "      <th>28</th>\n",
       "      <td>30.9</td>\n",
       "      <td>28</td>\n",
       "      <td>San Jose Sharks</td>\n",
       "    </tr>\n",
       "    <tr>\n",
       "      <th>29</th>\n",
       "      <td>31.1</td>\n",
       "      <td>18</td>\n",
       "      <td>Nashville Predators</td>\n",
       "    </tr>\n",
       "    <tr>\n",
       "      <th>30</th>\n",
       "      <td>31.1</td>\n",
       "      <td>25</td>\n",
       "      <td>Dallas Stars</td>\n",
       "    </tr>\n",
       "  </tbody>\n",
       "</table>\n",
       "</div>"
      ],
      "text/plain": [
       "    currentAge  id                   name\n",
       "0         28.2   3       New York Rangers\n",
       "1         28.3  12    Carolina Hurricanes\n",
       "2         28.3   7         Buffalo Sabres\n",
       "3         28.3  29  Columbus Blue Jackets\n",
       "4         28.4  52          Winnipeg Jets\n",
       "5         28.7   1      New Jersey Devils\n",
       "6         28.7  10    Toronto Maple Leafs\n",
       "7         28.8  21     Colorado Avalanche\n",
       "8         29.1  24          Anaheim Ducks\n",
       "9         29.2   4    Philadelphia Flyers\n",
       "10        29.3   9        Ottawa Senators\n",
       "11        29.4   8     Montréal Canadiens\n",
       "12        29.5  23      Vancouver Canucks\n",
       "13        29.5  16     Chicago Blackhawks\n",
       "14        29.6  53        Arizona Coyotes\n",
       "15        29.6   5    Pittsburgh Penguins\n",
       "16        29.6  20         Calgary Flames\n",
       "17        29.7  22        Edmonton Oilers\n",
       "18        29.8  13       Florida Panthers\n",
       "19        30.0  17      Detroit Red Wings\n",
       "20        30.0  14    Tampa Bay Lightning\n",
       "21        30.0   2     New York Islanders\n",
       "22        30.2  26      Los Angeles Kings\n",
       "23        30.2  19        St. Louis Blues\n",
       "24        30.5  54   Vegas Golden Knights\n",
       "25        30.6   6          Boston Bruins\n",
       "26        30.6  30         Minnesota Wild\n",
       "27        30.7  15    Washington Capitals\n",
       "28        30.9  28        San Jose Sharks\n",
       "29        31.1  18    Nashville Predators\n",
       "30        31.1  25           Dallas Stars"
      ]
     },
     "execution_count": 6,
     "metadata": {},
     "output_type": "execute_result"
    }
   ],
   "source": [
    "#Data Exploratory: Atlagos eletkor\n",
    "avg_age = pd.DataFrame()\n",
    "avg_age = round(players_df.groupby('teamID')['currentAge'].mean(),1).sort_values()\n",
    "teamsname = teams_df[['id','name']]\n",
    "agebyteams = pd.merge(left=avg_age, right=teamsname, left_on='teamID', right_on='id', how='left')\n",
    "agebyteams"
   ]
  },
  {
   "cell_type": "code",
   "execution_count": 95,
   "id": "5ff592c4",
   "metadata": {},
   "outputs": [
    {
     "data": {
      "text/plain": [
       "Text(0.5, 0, 'Kor')"
      ]
     },
     "execution_count": 95,
     "metadata": {},
     "output_type": "execute_result"
    },
    {
     "data": {
      "image/png": "[encoded data removed]",
      "text/plain": [
       "<Figure size 432x288 with 1 Axes>"
      ]
     },
     "metadata": {
      "needs_background": "light"
     },
     "output_type": "display_data"
    }
   ],
   "source": [
    "#Data Exploratory: Atlagos eletkor histogram\n",
    "playersage = players_df[['id','currentAge']]\n",
    "playersage = playersage.drop_duplicates()\n",
    "playersage = playersage.drop(columns=['id'])\n",
    "plt.hist(playersage)\n",
    "plt.title('Jatekosok eletkoranak megoszlasa')\n",
    "plt.xlabel('Kor')"
   ]
  },
  {
   "cell_type": "code",
   "execution_count": 5,
   "id": "a6f2c10a",
   "metadata": {
    "scrolled": true
   },
   "outputs": [
    {
     "ename": "NameError",
     "evalue": "name 'events_df' is not defined",
     "output_type": "error",
     "traceback": [
      "\u001b[0;31m---------------------------------------------------------------------------\u001b[0m",
      "\u001b[0;31mNameError\u001b[0m                                 Traceback (most recent call last)",
      "Input \u001b[0;32mIn [5]\u001b[0m, in \u001b[0;36m<cell line: 3>\u001b[0;34m()\u001b[0m\n\u001b[1;32m      1\u001b[0m \u001b[38;5;66;03m#Uj dataframe meghatarozott ember meghatarozott esemenyeivel\u001b[39;00m\n\u001b[1;32m      2\u001b[0m sog_df \u001b[38;5;241m=\u001b[39m pd\u001b[38;5;241m.\u001b[39mDataFrame()\n\u001b[0;32m----> 3\u001b[0m sog_df \u001b[38;5;241m=\u001b[39m \u001b[43mevents_df\u001b[49m[events_df[\u001b[38;5;124m'\u001b[39m\u001b[38;5;124meventType\u001b[39m\u001b[38;5;124m'\u001b[39m]\u001b[38;5;241m.\u001b[39misin([\u001b[38;5;124m'\u001b[39m\u001b[38;5;124mGoal\u001b[39m\u001b[38;5;124m'\u001b[39m])]\n\u001b[1;32m      4\u001b[0m sog_df \u001b[38;5;241m=\u001b[39m sog_df[sog_df[\u001b[38;5;124m'\u001b[39m\u001b[38;5;124mplayer1Id\u001b[39m\u001b[38;5;124m'\u001b[39m]\u001b[38;5;241m.\u001b[39misin([\u001b[38;5;241m8471214\u001b[39m])]\n\u001b[1;32m      5\u001b[0m sog_df \u001b[38;5;241m=\u001b[39m sog_df\u001b[38;5;241m.\u001b[39mdrop_duplicates()\n",
      "\u001b[0;31mNameError\u001b[0m: name 'events_df' is not defined"
     ]
    }
   ],
   "source": [
    "#Uj dataframe meghatarozott ember meghatarozott esemenyeivel\n",
    "sog_df = pd.DataFrame()\n",
    "sog_df = events_df[events_df['eventType'].isin(['Goal'])]\n",
    "sog_df = sog_df[sog_df['player1Id'].isin([8471214])]\n",
    "sog_df = sog_df.drop_duplicates()\n",
    "\n",
    "sog_df"
   ]
  },
  {
   "cell_type": "code",
   "execution_count": 23,
   "id": "e8c5d8b0",
   "metadata": {
    "scrolled": true
   },
   "outputs": [
    {
     "data": {
      "image/png": "[encoded data removed]",
      "text/plain": [
       "<Figure size 432x288 with 1 Axes>"
      ]
     },
     "metadata": {
      "needs_background": "light"
     },
     "output_type": "display_data"
    }
   ],
   "source": [
    "#Meghatarozzuk, hany klaszter erdemes letrehozni a koordinatakra (a konyokpont erteke kell nekunk, ahonnan mar\n",
    "#nem novekszik tovabb lavanyosan a fgv.)\n",
    "K_clusters = range(1,10)\n",
    "kmeans = [KMeans(n_clusters=i) for i in K_clusters]\n",
    "Y_axis = events_df[['coX']]\n",
    "X_axis = events_df[['coY']]\n",
    "score = [kmeans[i].fit(Y_axis).score(Y_axis) for i in range(len(kmeans))]\n",
    "# Visualize\n",
    "plt.plot(K_clusters, score)\n",
    "plt.xlabel('Number of Clusters')\n",
    "plt.ylabel('Score')\n",
    "plt.title('Elbow Curve')\n",
    "plt.show()"
   ]
  },
  {
   "cell_type": "code",
   "execution_count": 4,
   "id": "b4ef554d",
   "metadata": {
    "scrolled": true
   },
   "outputs": [
    {
     "ename": "NameError",
     "evalue": "name 'sog_df' is not defined",
     "output_type": "error",
     "traceback": [
      "\u001b[0;31m---------------------------------------------------------------------------\u001b[0m",
      "\u001b[0;31mNameError\u001b[0m                                 Traceback (most recent call last)",
      "Input \u001b[0;32mIn [4]\u001b[0m, in \u001b[0;36m<cell line: 2>\u001b[0;34m()\u001b[0m\n\u001b[1;32m      1\u001b[0m \u001b[38;5;66;03m#Letrehozunk egy uj dataframet a vizualizaciohoz az x es y koordinatakkal\u001b[39;00m\n\u001b[0;32m----> 2\u001b[0m X \u001b[38;5;241m=\u001b[39m \u001b[43msog_df\u001b[49m\u001b[38;5;241m.\u001b[39mloc[:,[\u001b[38;5;124m'\u001b[39m\u001b[38;5;124mcoX\u001b[39m\u001b[38;5;124m'\u001b[39m,\u001b[38;5;124m'\u001b[39m\u001b[38;5;124mcoY\u001b[39m\u001b[38;5;124m'\u001b[39m]]\n\u001b[1;32m      4\u001b[0m X_round \u001b[38;5;241m=\u001b[39m sog_df\u001b[38;5;241m.\u001b[39mloc[:,[\u001b[38;5;124m'\u001b[39m\u001b[38;5;124mcoX\u001b[39m\u001b[38;5;124m'\u001b[39m,\u001b[38;5;124m'\u001b[39m\u001b[38;5;124mcoY\u001b[39m\u001b[38;5;124m'\u001b[39m]]\n\u001b[1;32m      6\u001b[0m \u001b[38;5;66;03m#Uj dataframe, szamok kerekitve a masodik fajta vizualizaciohoz, hogy a szinek jol nezzenek ki:\u001b[39;00m\n",
      "\u001b[0;31mNameError\u001b[0m: name 'sog_df' is not defined"
     ]
    }
   ],
   "source": [
    "#Letrehozunk egy uj dataframet a vizualizaciohoz az x es y koordinatakkal\n",
    "X = sog_df.loc[:,['coX','coY']]\n",
    "\n",
    "X_round = sog_df.loc[:,['coX','coY']]\n",
    "\n",
    "#Uj dataframe, szamok kerekitve a masodik fajta vizualizaciohoz, hogy a szinek jol nezzenek ki:\n",
    "for idx, i in X_round.iterrows():\n",
    "    X_round.loc[idx,'coX'] = (round(X_round.loc[idx,'coX']/5.0)*5.0)\n",
    "    X_round.loc[idx,'coY'] = (round(X_round.loc[idx,'coY']/5.0)*5.0)\n",
    "#X\n",
    "#X_round"
   ]
  },
  {
   "cell_type": "code",
   "execution_count": 3,
   "id": "f7e72ae6",
   "metadata": {},
   "outputs": [
    {
     "ename": "NameError",
     "evalue": "name 'X' is not defined",
     "output_type": "error",
     "traceback": [
      "\u001b[0;31m---------------------------------------------------------------------------\u001b[0m",
      "\u001b[0;31mNameError\u001b[0m                                 Traceback (most recent call last)",
      "Input \u001b[0;32mIn [3]\u001b[0m, in \u001b[0;36m<cell line: 3>\u001b[0;34m()\u001b[0m\n\u001b[1;32m      1\u001b[0m \u001b[38;5;66;03m#A meghatarozott klaszterszamot megadva klaszterekbe soroljuk a koordinatakat\u001b[39;00m\n\u001b[1;32m      2\u001b[0m kmeans \u001b[38;5;241m=\u001b[39m KMeans(n_clusters \u001b[38;5;241m=\u001b[39m \u001b[38;5;241m3\u001b[39m, init \u001b[38;5;241m=\u001b[39m\u001b[38;5;124m'\u001b[39m\u001b[38;5;124mk-means++\u001b[39m\u001b[38;5;124m'\u001b[39m)\n\u001b[0;32m----> 3\u001b[0m kmeans\u001b[38;5;241m.\u001b[39mfit(\u001b[43mX\u001b[49m[X\u001b[38;5;241m.\u001b[39mcolumns[\u001b[38;5;241m0\u001b[39m:\u001b[38;5;241m2\u001b[39m]]) \u001b[38;5;66;03m# Compute k-means clustering.\u001b[39;00m\n\u001b[1;32m      4\u001b[0m X[\u001b[38;5;124m'\u001b[39m\u001b[38;5;124mcluster_label\u001b[39m\u001b[38;5;124m'\u001b[39m] \u001b[38;5;241m=\u001b[39m kmeans\u001b[38;5;241m.\u001b[39mfit_predict(X[X\u001b[38;5;241m.\u001b[39mcolumns[\u001b[38;5;241m0\u001b[39m:\u001b[38;5;241m2\u001b[39m]])\n\u001b[1;32m      5\u001b[0m centers \u001b[38;5;241m=\u001b[39m kmeans\u001b[38;5;241m.\u001b[39mcluster_centers_ \u001b[38;5;66;03m# Coordinates of cluster centers.\u001b[39;00m\n",
      "\u001b[0;31mNameError\u001b[0m: name 'X' is not defined"
     ]
    }
   ],
   "source": [
    "#A meghatarozott klaszterszamot megadva klaszterekbe soroljuk a koordinatakat\n",
    "kmeans = KMeans(n_clusters = 3, init ='k-means++')\n",
    "kmeans.fit(X[X.columns[0:2]]) # Compute k-means clustering.\n",
    "X['cluster_label'] = kmeans.fit_predict(X[X.columns[0:2]])\n",
    "centers = kmeans.cluster_centers_ # Coordinates of cluster centers.\n",
    "labels = kmeans.predict(X[X.columns[0:2]]) # Labels of each point\n",
    "#X\n",
    "\n",
    "#Kiszamoljuk a pottyok meretet, a klaszterek elemszamat vesszuk es megszorozzuk valamennyiel, hogy nagyobb legyen.\n",
    "size = X.groupby(['cluster_label']).count()\n",
    "size = size['coX']*30\n",
    "\n",
    "#Ket valtozot inicializalunk aminek megadjuk az X es Y oszlopunkat, hogy kesobb be tudjuk taplalni a plot-ba\n",
    "coX = X['coX']\n",
    "coY = X['coY']\n",
    "img = plt.imread(\"Half_ice_hockey_rink.png\")\n",
    "fig, ax = plt.subplots()\n",
    "ax.imshow(img, extent=[0, 100, -42.5, 42.5])\n",
    "ax.scatter(coX, coY)\n",
    "plt.scatter(centers[:, 0], centers[:, 1], c='black', s=size, marker='H', alpha=0.8)\n",
    "plt.xlim(0,100)\n",
    "plt.ylim(-42.5,42.5)\n",
    "plt.show()\n",
    "centers"
   ]
  },
  {
   "cell_type": "code",
   "execution_count": 1184,
   "id": "2215541a",
   "metadata": {},
   "outputs": [
    {
     "data": {
      "text/html": [
       "<div>\n",
       "<style scoped>\n",
       "    .dataframe tbody tr th:only-of-type {\n",
       "        vertical-align: middle;\n",
       "    }\n",
       "\n",
       "    .dataframe tbody tr th {\n",
       "        vertical-align: top;\n",
       "    }\n",
       "\n",
       "    .dataframe thead th {\n",
       "        text-align: right;\n",
       "    }\n",
       "</style>\n",
       "<table border=\"1\" class=\"dataframe\">\n",
       "  <thead>\n",
       "    <tr style=\"text-align: right;\">\n",
       "      <th></th>\n",
       "      <th>player1Id</th>\n",
       "      <th>player2Id</th>\n",
       "      <th>count</th>\n",
       "    </tr>\n",
       "  </thead>\n",
       "  <tbody>\n",
       "    <tr>\n",
       "      <th>0</th>\n",
       "      <td>8471214</td>\n",
       "      <td>8474590</td>\n",
       "      <td>14</td>\n",
       "    </tr>\n",
       "    <tr>\n",
       "      <th>1</th>\n",
       "      <td>8471214</td>\n",
       "      <td>8475744</td>\n",
       "      <td>8</td>\n",
       "    </tr>\n",
       "    <tr>\n",
       "      <th>2</th>\n",
       "      <td>8471214</td>\n",
       "      <td>8473563</td>\n",
       "      <td>6</td>\n",
       "    </tr>\n",
       "    <tr>\n",
       "      <th>3</th>\n",
       "      <td>8471214</td>\n",
       "      <td>8475200</td>\n",
       "      <td>6</td>\n",
       "    </tr>\n",
       "    <tr>\n",
       "      <th>4</th>\n",
       "      <td>8471214</td>\n",
       "      <td>8476880</td>\n",
       "      <td>5</td>\n",
       "    </tr>\n",
       "    <tr>\n",
       "      <th>5</th>\n",
       "      <td>8471214</td>\n",
       "      <td>8471698</td>\n",
       "      <td>4</td>\n",
       "    </tr>\n",
       "    <tr>\n",
       "      <th>6</th>\n",
       "      <td>8471214</td>\n",
       "      <td>0</td>\n",
       "      <td>1</td>\n",
       "    </tr>\n",
       "    <tr>\n",
       "      <th>7</th>\n",
       "      <td>8471214</td>\n",
       "      <td>8469454</td>\n",
       "      <td>1</td>\n",
       "    </tr>\n",
       "    <tr>\n",
       "      <th>8</th>\n",
       "      <td>8471214</td>\n",
       "      <td>8476316</td>\n",
       "      <td>1</td>\n",
       "    </tr>\n",
       "    <tr>\n",
       "      <th>9</th>\n",
       "      <td>8471214</td>\n",
       "      <td>8477424</td>\n",
       "      <td>1</td>\n",
       "    </tr>\n",
       "    <tr>\n",
       "      <th>10</th>\n",
       "      <td>8471214</td>\n",
       "      <td>8477944</td>\n",
       "      <td>1</td>\n",
       "    </tr>\n",
       "    <tr>\n",
       "      <th>11</th>\n",
       "      <td>8471214</td>\n",
       "      <td>8478399</td>\n",
       "      <td>1</td>\n",
       "    </tr>\n",
       "  </tbody>\n",
       "</table>\n",
       "</div>"
      ],
      "text/plain": [
       "    player1Id  player2Id  count\n",
       "0     8471214    8474590     14\n",
       "1     8471214    8475744      8\n",
       "2     8471214    8473563      6\n",
       "3     8471214    8475200      6\n",
       "4     8471214    8476880      5\n",
       "5     8471214    8471698      4\n",
       "6     8471214          0      1\n",
       "7     8471214    8469454      1\n",
       "8     8471214    8476316      1\n",
       "9     8471214    8477424      1\n",
       "10    8471214    8477944      1\n",
       "11    8471214    8478399      1"
      ]
     },
     "execution_count": 1184,
     "metadata": {},
     "output_type": "execute_result"
    }
   ],
   "source": [
    "#Goal - Assist pairs\n",
    "Y = sog_df.loc[:,['player1Id','player2Id']]\n",
    "Y = Y.groupby(['player1Id', 'player2Id']).size().sort_values(ascending=False).reset_index(name='count') \n",
    "Y"
   ]
  },
  {
   "cell_type": "code",
   "execution_count": 1185,
   "id": "1fe1e4a6",
   "metadata": {},
   "outputs": [
    {
     "data": {
      "application/vnd.plotly.v1+json": {
       "config": {
        "plotlyServerURL": "https://plot.ly"
       },
       "data": [
        {
         "hovertemplate": "coX=%{x}<br>coY=%{y}<br>Number of events=%{marker.color}<extra></extra>",
         "legendgroup": "",
         "marker": {
          "color": [
           2,
           2,
           2,
           2,
           2,
           2,
           2,
           2,
           2,
           8,
           2,
           2,
           2,
           2,
           6,
           2,
           4,
           2,
           2,
           4,
           2,
           2,
           2,
           2,
           2,
           2,
           4,
           4,
           2,
           4,
           4,
           2,
           6,
           2,
           2,
           2
          ],
          "coloraxis": "coloraxis",
          "size": [
           2,
           2,
           2,
           2,
           2,
           2,
           2,
           2,
           2,
           8,
           2,
           2,
           2,
           2,
           6,
           2,
           4,
           2,
           2,
           4,
           2,
           2,
           2,
           2,
           2,
           2,
           4,
           4,
           2,
           4,
           4,
           2,
           6,
           2,
           2,
           2
          ],
          "sizemode": "area",
          "sizeref": 0.02,
          "symbol": "circle"
         },
         "mode": "markers",
         "name": "",
         "orientation": "v",
         "showlegend": false,
         "type": "scatter",
         "x": [
          5,
          50,
          60,
          55,
          65,
          65,
          35,
          70,
          75,
          80,
          50,
          65,
          70,
          75,
          80,
          50,
          80,
          60,
          70,
          80,
          20,
          55,
          60,
          75,
          80,
          30,
          50,
          55,
          60,
          65,
          70,
          75,
          55,
          75,
          55,
          70
         ],
         "xaxis": "x",
         "y": [
          -35,
          -25,
          -25,
          -20,
          -20,
          -10,
          -5,
          -5,
          -5,
          -5,
          0,
          0,
          0,
          0,
          0,
          5,
          5,
          10,
          10,
          10,
          15,
          15,
          15,
          15,
          15,
          20,
          20,
          20,
          20,
          20,
          20,
          20,
          25,
          25,
          30,
          30
         ],
         "yaxis": "y"
        }
       ],
       "layout": {
        "coloraxis": {
         "colorbar": {
          "title": {
           "text": "Number of events"
          }
         },
         "colorscale": [
          [
           0,
           "#0d0887"
          ],
          [
           0.1111111111111111,
           "#46039f"
          ],
          [
           0.2222222222222222,
           "#7201a8"
          ],
          [
           0.3333333333333333,
           "#9c179e"
          ],
          [
           0.4444444444444444,
           "#bd3786"
          ],
          [
           0.5555555555555556,
           "#d8576b"
          ],
          [
           0.6666666666666666,
           "#ed7953"
          ],
          [
           0.7777777777777778,
           "#fb9f3a"
          ],
          [
           0.8888888888888888,
           "#fdca26"
          ],
          [
           1,
           "#f0f921"
          ]
         ],
         "showscale": true
        },
        "height": 580,
        "images": [
         {
          "layer": "below",
          "opacity": 0.5,
          "sizex": 100,
          "sizey": 85,
          "sizing": "stretch",
          "source": "Half_ice_hockey_rink.png",
          "x": 0,
          "xref": "x",
          "y": 42,
          "yref": "y"
         }
        ],
        "legend": {
         "itemsizing": "constant",
         "tracegroupgap": 0
        },
        "margin": {
         "t": 60
        },
        "template": {
         "data": {
          "bar": [
           {
            "error_x": {
             "color": "#2a3f5f"
            },
            "error_y": {
             "color": "#2a3f5f"
            },
            "marker": {
             "line": {
              "color": "white",
              "width": 0.5
             },
             "pattern": {
              "fillmode": "overlay",
              "size": 10,
              "solidity": 0.2
             }
            },
            "type": "bar"
           }
          ],
          "barpolar": [
           {
            "marker": {
             "line": {
              "color": "white",
              "width": 0.5
             },
             "pattern": {
              "fillmode": "overlay",
              "size": 10,
              "solidity": 0.2
             }
            },
            "type": "barpolar"
           }
          ],
          "carpet": [
           {
            "aaxis": {
             "endlinecolor": "#2a3f5f",
             "gridcolor": "#C8D4E3",
             "linecolor": "#C8D4E3",
             "minorgridcolor": "#C8D4E3",
             "startlinecolor": "#2a3f5f"
            },
            "baxis": {
             "endlinecolor": "#2a3f5f",
             "gridcolor": "#C8D4E3",
             "linecolor": "#C8D4E3",
             "minorgridcolor": "#C8D4E3",
             "startlinecolor": "#2a3f5f"
            },
            "type": "carpet"
           }
          ],
          "choropleth": [
           {
            "colorbar": {
             "outlinewidth": 0,
             "ticks": ""
            },
            "type": "choropleth"
           }
          ],
          "contour": [
           {
            "colorbar": {
             "outlinewidth": 0,
             "ticks": ""
            },
            "colorscale": [
             [
              0,
              "#0d0887"
             ],
             [
              0.1111111111111111,
              "#46039f"
             ],
             [
              0.2222222222222222,
              "#7201a8"
             ],
             [
              0.3333333333333333,
              "#9c179e"
             ],
             [
              0.4444444444444444,
              "#bd3786"
             ],
             [
              0.5555555555555556,
              "#d8576b"
             ],
             [
              0.6666666666666666,
              "#ed7953"
             ],
             [
              0.7777777777777778,
              "#fb9f3a"
             ],
             [
              0.8888888888888888,
              "#fdca26"
             ],
             [
              1,
              "#f0f921"
             ]
            ],
            "type": "contour"
           }
          ],
          "contourcarpet": [
           {
            "colorbar": {
             "outlinewidth": 0,
             "ticks": ""
            },
            "type": "contourcarpet"
           }
          ],
          "heatmap": [
           {
            "colorbar": {
             "outlinewidth": 0,
             "ticks": ""
            },
            "colorscale": [
             [
              0,
              "#0d0887"
             ],
             [
              0.1111111111111111,
              "#46039f"
             ],
             [
              0.2222222222222222,
              "#7201a8"
             ],
             [
              0.3333333333333333,
              "#9c179e"
             ],
             [
              0.4444444444444444,
              "#bd3786"
             ],
             [
              0.5555555555555556,
              "#d8576b"
             ],
             [
              0.6666666666666666,
              "#ed7953"
             ],
             [
              0.7777777777777778,
              "#fb9f3a"
             ],
             [
              0.8888888888888888,
              "#fdca26"
             ],
             [
              1,
              "#f0f921"
             ]
            ],
            "type": "heatmap"
           }
          ],
          "heatmapgl": [
           {
            "colorbar": {
             "outlinewidth": 0,
             "ticks": ""
            },
            "colorscale": [
             [
              0,
              "#0d0887"
             ],
             [
              0.1111111111111111,
              "#46039f"
             ],
             [
              0.2222222222222222,
              "#7201a8"
             ],
             [
              0.3333333333333333,
              "#9c179e"
             ],
             [
              0.4444444444444444,
              "#bd3786"
             ],
             [
              0.5555555555555556,
              "#d8576b"
             ],
             [
              0.6666666666666666,
              "#ed7953"
             ],
             [
              0.7777777777777778,
              "#fb9f3a"
             ],
             [
              0.8888888888888888,
              "#fdca26"
             ],
             [
              1,
              "#f0f921"
             ]
            ],
            "type": "heatmapgl"
           }
          ],
          "histogram": [
           {
            "marker": {
             "pattern": {
              "fillmode": "overlay",
              "size": 10,
              "solidity": 0.2
             }
            },
            "type": "histogram"
           }
          ],
          "histogram2d": [
           {
            "colorbar": {
             "outlinewidth": 0,
             "ticks": ""
            },
            "colorscale": [
             [
              0,
              "#0d0887"
             ],
             [
              0.1111111111111111,
              "#46039f"
             ],
             [
              0.2222222222222222,
              "#7201a8"
             ],
             [
              0.3333333333333333,
              "#9c179e"
             ],
             [
              0.4444444444444444,
              "#bd3786"
             ],
             [
              0.5555555555555556,
              "#d8576b"
             ],
             [
              0.6666666666666666,
              "#ed7953"
             ],
             [
              0.7777777777777778,
              "#fb9f3a"
             ],
             [
              0.8888888888888888,
              "#fdca26"
             ],
             [
              1,
              "#f0f921"
             ]
            ],
            "type": "histogram2d"
           }
          ],
          "histogram2dcontour": [
           {
            "colorbar": {
             "outlinewidth": 0,
             "ticks": ""
            },
            "colorscale": [
             [
              0,
              "#0d0887"
             ],
             [
              0.1111111111111111,
              "#46039f"
             ],
             [
              0.2222222222222222,
              "#7201a8"
             ],
             [
              0.3333333333333333,
              "#9c179e"
             ],
             [
              0.4444444444444444,
              "#bd3786"
             ],
             [
              0.5555555555555556,
              "#d8576b"
             ],
             [
              0.6666666666666666,
              "#ed7953"
             ],
             [
              0.7777777777777778,
              "#fb9f3a"
             ],
             [
              0.8888888888888888,
              "#fdca26"
             ],
             [
              1,
              "#f0f921"
             ]
            ],
            "type": "histogram2dcontour"
           }
          ],
          "mesh3d": [
           {
            "colorbar": {
             "outlinewidth": 0,
             "ticks": ""
            },
            "type": "mesh3d"
           }
          ],
          "parcoords": [
           {
            "line": {
             "colorbar": {
              "outlinewidth": 0,
              "ticks": ""
             }
            },
            "type": "parcoords"
           }
          ],
          "pie": [
           {
            "automargin": true,
            "type": "pie"
           }
          ],
          "scatter": [
           {
            "marker": {
             "colorbar": {
              "outlinewidth": 0,
              "ticks": ""
             }
            },
            "type": "scatter"
           }
          ],
          "scatter3d": [
           {
            "line": {
             "colorbar": {
              "outlinewidth": 0,
              "ticks": ""
             }
            },
            "marker": {
             "colorbar": {
              "outlinewidth": 0,
              "ticks": ""
             }
            },
            "type": "scatter3d"
           }
          ],
          "scattercarpet": [
           {
            "marker": {
             "colorbar": {
              "outlinewidth": 0,
              "ticks": ""
             }
            },
            "type": "scattercarpet"
           }
          ],
          "scattergeo": [
           {
            "marker": {
             "colorbar": {
              "outlinewidth": 0,
              "ticks": ""
             }
            },
            "type": "scattergeo"
           }
          ],
          "scattergl": [
           {
            "marker": {
             "colorbar": {
              "outlinewidth": 0,
              "ticks": ""
             }
            },
            "type": "scattergl"
           }
          ],
          "scattermapbox": [
           {
            "marker": {
             "colorbar": {
              "outlinewidth": 0,
              "ticks": ""
             }
            },
            "type": "scattermapbox"
           }
          ],
          "scatterpolar": [
           {
            "marker": {
             "colorbar": {
              "outlinewidth": 0,
              "ticks": ""
             }
            },
            "type": "scatterpolar"
           }
          ],
          "scatterpolargl": [
           {
            "marker": {
             "colorbar": {
              "outlinewidth": 0,
              "ticks": ""
             }
            },
            "type": "scatterpolargl"
           }
          ],
          "scatterternary": [
           {
            "marker": {
             "colorbar": {
              "outlinewidth": 0,
              "ticks": ""
             }
            },
            "type": "scatterternary"
           }
          ],
          "surface": [
           {
            "colorbar": {
             "outlinewidth": 0,
             "ticks": ""
            },
            "colorscale": [
             [
              0,
              "#0d0887"
             ],
             [
              0.1111111111111111,
              "#46039f"
             ],
             [
              0.2222222222222222,
              "#7201a8"
             ],
             [
              0.3333333333333333,
              "#9c179e"
             ],
             [
              0.4444444444444444,
              "#bd3786"
             ],
             [
              0.5555555555555556,
              "#d8576b"
             ],
             [
              0.6666666666666666,
              "#ed7953"
             ],
             [
              0.7777777777777778,
              "#fb9f3a"
             ],
             [
              0.8888888888888888,
              "#fdca26"
             ],
             [
              1,
              "#f0f921"
             ]
            ],
            "type": "surface"
           }
          ],
          "table": [
           {
            "cells": {
             "fill": {
              "color": "#EBF0F8"
             },
             "line": {
              "color": "white"
             }
            },
            "header": {
             "fill": {
              "color": "#C8D4E3"
             },
             "line": {
              "color": "white"
             }
            },
            "type": "table"
           }
          ]
         },
         "layout": {
          "annotationdefaults": {
           "arrowcolor": "#2a3f5f",
           "arrowhead": 0,
           "arrowwidth": 1
          },
          "autotypenumbers": "strict",
          "coloraxis": {
           "colorbar": {
            "outlinewidth": 0,
            "ticks": ""
           }
          },
          "colorscale": {
           "diverging": [
            [
             0,
             "#8e0152"
            ],
            [
             0.1,
             "#c51b7d"
            ],
            [
             0.2,
             "#de77ae"
            ],
            [
             0.3,
             "#f1b6da"
            ],
            [
             0.4,
             "#fde0ef"
            ],
            [
             0.5,
             "#f7f7f7"
            ],
            [
             0.6,
             "#e6f5d0"
            ],
            [
             0.7,
             "#b8e186"
            ],
            [
             0.8,
             "#7fbc41"
            ],
            [
             0.9,
             "#4d9221"
            ],
            [
             1,
             "#276419"
            ]
           ],
           "sequential": [
            [
             0,
             "#0d0887"
            ],
            [
             0.1111111111111111,
             "#46039f"
            ],
            [
             0.2222222222222222,
             "#7201a8"
            ],
            [
             0.3333333333333333,
             "#9c179e"
            ],
            [
             0.4444444444444444,
             "#bd3786"
            ],
            [
             0.5555555555555556,
             "#d8576b"
            ],
            [
             0.6666666666666666,
             "#ed7953"
            ],
            [
             0.7777777777777778,
             "#fb9f3a"
            ],
            [
             0.8888888888888888,
             "#fdca26"
            ],
            [
             1,
             "#f0f921"
            ]
           ],
           "sequentialminus": [
            [
             0,
             "#0d0887"
            ],
            [
             0.1111111111111111,
             "#46039f"
            ],
            [
             0.2222222222222222,
             "#7201a8"
            ],
            [
             0.3333333333333333,
             "#9c179e"
            ],
            [
             0.4444444444444444,
             "#bd3786"
            ],
            [
             0.5555555555555556,
             "#d8576b"
            ],
            [
             0.6666666666666666,
             "#ed7953"
            ],
            [
             0.7777777777777778,
             "#fb9f3a"
            ],
            [
             0.8888888888888888,
             "#fdca26"
            ],
            [
             1,
             "#f0f921"
            ]
           ]
          },
          "colorway": [
           "#636efa",
           "#EF553B",
           "#00cc96",
           "#ab63fa",
           "#FFA15A",
           "#19d3f3",
           "#FF6692",
           "#B6E880",
           "#FF97FF",
           "#FECB52"
          ],
          "font": {
           "color": "#2a3f5f"
          },
          "geo": {
           "bgcolor": "white",
           "lakecolor": "white",
           "landcolor": "white",
           "showlakes": true,
           "showland": true,
           "subunitcolor": "#C8D4E3"
          },
          "hoverlabel": {
           "align": "left"
          },
          "hovermode": "closest",
          "mapbox": {
           "style": "light"
          },
          "paper_bgcolor": "white",
          "plot_bgcolor": "white",
          "polar": {
           "angularaxis": {
            "gridcolor": "#EBF0F8",
            "linecolor": "#EBF0F8",
            "ticks": ""
           },
           "bgcolor": "white",
           "radialaxis": {
            "gridcolor": "#EBF0F8",
            "linecolor": "#EBF0F8",
            "ticks": ""
           }
          },
          "scene": {
           "xaxis": {
            "backgroundcolor": "white",
            "gridcolor": "#DFE8F3",
            "gridwidth": 2,
            "linecolor": "#EBF0F8",
            "showbackground": true,
            "ticks": "",
            "zerolinecolor": "#EBF0F8"
           },
           "yaxis": {
            "backgroundcolor": "white",
            "gridcolor": "#DFE8F3",
            "gridwidth": 2,
            "linecolor": "#EBF0F8",
            "showbackground": true,
            "ticks": "",
            "zerolinecolor": "#EBF0F8"
           },
           "zaxis": {
            "backgroundcolor": "white",
            "gridcolor": "#DFE8F3",
            "gridwidth": 2,
            "linecolor": "#EBF0F8",
            "showbackground": true,
            "ticks": "",
            "zerolinecolor": "#EBF0F8"
           }
          },
          "shapedefaults": {
           "line": {
            "color": "#2a3f5f"
           }
          },
          "ternary": {
           "aaxis": {
            "gridcolor": "#DFE8F3",
            "linecolor": "#A2B1C6",
            "ticks": ""
           },
           "baxis": {
            "gridcolor": "#DFE8F3",
            "linecolor": "#A2B1C6",
            "ticks": ""
           },
           "bgcolor": "white",
           "caxis": {
            "gridcolor": "#DFE8F3",
            "linecolor": "#A2B1C6",
            "ticks": ""
           }
          },
          "title": {
           "x": 0.05
          },
          "xaxis": {
           "automargin": true,
           "gridcolor": "#EBF0F8",
           "linecolor": "#EBF0F8",
           "ticks": "",
           "title": {
            "standoff": 15
           },
           "zerolinecolor": "#EBF0F8",
           "zerolinewidth": 2
          },
          "yaxis": {
           "automargin": true,
           "gridcolor": "#EBF0F8",
           "linecolor": "#EBF0F8",
           "ticks": "",
           "title": {
            "standoff": 15
           },
           "zerolinecolor": "#EBF0F8",
           "zerolinewidth": 2
          }
         }
        },
        "width": 685,
        "xaxis": {
         "anchor": "y",
         "domain": [
          0,
          1
         ],
         "range": [
          0,
          100
         ],
         "showgrid": false,
         "showticklabels": false,
         "title": {
          "text": ""
         },
         "zeroline": false
        },
        "yaxis": {
         "anchor": "x",
         "domain": [
          0,
          1
         ],
         "range": [
          -42.5,
          42.5
         ],
         "showgrid": false,
         "showticklabels": false,
         "title": {
          "text": ""
         },
         "zeroline": false
        }
       }
      },
      "text/html": [
       "<div>                            <div id=\"275526a0-73b9-4070-ad41-9d310d30af08\" class=\"plotly-graph-div\" style=\"height:580px; width:685px;\"></div>            <script type=\"text/javascript\">                require([\"plotly\"], function(Plotly) {                    window.PLOTLYENV=window.PLOTLYENV || {};                                    if (document.getElementById(\"275526a0-73b9-4070-ad41-9d310d30af08\")) {                    Plotly.newPlot(                        \"275526a0-73b9-4070-ad41-9d310d30af08\",                        [{\"hovertemplate\":\"coX=%{x}<br>coY=%{y}<br>Number of events=%{marker.color}<extra></extra>\",\"legendgroup\":\"\",\"marker\":{\"color\":[2,2,2,2,2,2,2,2,2,8,2,2,2,2,6,2,4,2,2,4,2,2,2,2,2,2,4,4,2,4,4,2,6,2,2,2],\"coloraxis\":\"coloraxis\",\"size\":[2,2,2,2,2,2,2,2,2,8,2,2,2,2,6,2,4,2,2,4,2,2,2,2,2,2,4,4,2,4,4,2,6,2,2,2],\"sizemode\":\"area\",\"sizeref\":0.02,\"symbol\":\"circle\"},\"mode\":\"markers\",\"name\":\"\",\"orientation\":\"v\",\"showlegend\":false,\"x\":[5,50,60,55,65,65,35,70,75,80,50,65,70,75,80,50,80,60,70,80,20,55,60,75,80,30,50,55,60,65,70,75,55,75,55,70],\"xaxis\":\"x\",\"y\":[-35,-25,-25,-20,-20,-10,-5,-5,-5,-5,0,0,0,0,0,5,5,10,10,10,15,15,15,15,15,20,20,20,20,20,20,20,25,25,30,30],\"yaxis\":\"y\",\"type\":\"scatter\"}],                        {\"template\":{\"data\":{\"barpolar\":[{\"marker\":{\"line\":{\"color\":\"white\",\"width\":0.5},\"pattern\":{\"fillmode\":\"overlay\",\"size\":10,\"solidity\":0.2}},\"type\":\"barpolar\"}],\"bar\":[{\"error_x\":{\"color\":\"#2a3f5f\"},\"error_y\":{\"color\":\"#2a3f5f\"},\"marker\":{\"line\":{\"color\":\"white\",\"width\":0.5},\"pattern\":{\"fillmode\":\"overlay\",\"size\":10,\"solidity\":0.2}},\"type\":\"bar\"}],\"carpet\":[{\"aaxis\":{\"endlinecolor\":\"#2a3f5f\",\"gridcolor\":\"#C8D4E3\",\"linecolor\":\"#C8D4E3\",\"minorgridcolor\":\"#C8D4E3\",\"startlinecolor\":\"#2a3f5f\"},\"baxis\":{\"endlinecolor\":\"#2a3f5f\",\"gridcolor\":\"#C8D4E3\",\"linecolor\":\"#C8D4E3\",\"minorgridcolor\":\"#C8D4E3\",\"startlinecolor\":\"#2a3f5f\"},\"type\":\"carpet\"}],\"choropleth\":[{\"colorbar\":{\"outlinewidth\":0,\"ticks\":\"\"},\"type\":\"choropleth\"}],\"contourcarpet\":[{\"colorbar\":{\"outlinewidth\":0,\"ticks\":\"\"},\"type\":\"contourcarpet\"}],\"contour\":[{\"colorbar\":{\"outlinewidth\":0,\"ticks\":\"\"},\"colorscale\":[[0.0,\"#0d0887\"],[0.1111111111111111,\"#46039f\"],[0.2222222222222222,\"#7201a8\"],[0.3333333333333333,\"#9c179e\"],[0.4444444444444444,\"#bd3786\"],[0.5555555555555556,\"#d8576b\"],[0.6666666666666666,\"#ed7953\"],[0.7777777777777778,\"#fb9f3a\"],[0.8888888888888888,\"#fdca26\"],[1.0,\"#f0f921\"]],\"type\":\"contour\"}],\"heatmapgl\":[{\"colorbar\":{\"outlinewidth\":0,\"ticks\":\"\"},\"colorscale\":[[0.0,\"#0d0887\"],[0.1111111111111111,\"#46039f\"],[0.2222222222222222,\"#7201a8\"],[0.3333333333333333,\"#9c179e\"],[0.4444444444444444,\"#bd3786\"],[0.5555555555555556,\"#d8576b\"],[0.6666666666666666,\"#ed7953\"],[0.7777777777777778,\"#fb9f3a\"],[0.8888888888888888,\"#fdca26\"],[1.0,\"#f0f921\"]],\"type\":\"heatmapgl\"}],\"heatmap\":[{\"colorbar\":{\"outlinewidth\":0,\"ticks\":\"\"},\"colorscale\":[[0.0,\"#0d0887\"],[0.1111111111111111,\"#46039f\"],[0.2222222222222222,\"#7201a8\"],[0.3333333333333333,\"#9c179e\"],[0.4444444444444444,\"#bd3786\"],[0.5555555555555556,\"#d8576b\"],[0.6666666666666666,\"#ed7953\"],[0.7777777777777778,\"#fb9f3a\"],[0.8888888888888888,\"#fdca26\"],[1.0,\"#f0f921\"]],\"type\":\"heatmap\"}],\"histogram2dcontour\":[{\"colorbar\":{\"outlinewidth\":0,\"ticks\":\"\"},\"colorscale\":[[0.0,\"#0d0887\"],[0.1111111111111111,\"#46039f\"],[0.2222222222222222,\"#7201a8\"],[0.3333333333333333,\"#9c179e\"],[0.4444444444444444,\"#bd3786\"],[0.5555555555555556,\"#d8576b\"],[0.6666666666666666,\"#ed7953\"],[0.7777777777777778,\"#fb9f3a\"],[0.8888888888888888,\"#fdca26\"],[1.0,\"#f0f921\"]],\"type\":\"histogram2dcontour\"}],\"histogram2d\":[{\"colorbar\":{\"outlinewidth\":0,\"ticks\":\"\"},\"colorscale\":[[0.0,\"#0d0887\"],[0.1111111111111111,\"#46039f\"],[0.2222222222222222,\"#7201a8\"],[0.3333333333333333,\"#9c179e\"],[0.4444444444444444,\"#bd3786\"],[0.5555555555555556,\"#d8576b\"],[0.6666666666666666,\"#ed7953\"],[0.7777777777777778,\"#fb9f3a\"],[0.8888888888888888,\"#fdca26\"],[1.0,\"#f0f921\"]],\"type\":\"histogram2d\"}],\"histogram\":[{\"marker\":{\"pattern\":{\"fillmode\":\"overlay\",\"size\":10,\"solidity\":0.2}},\"type\":\"histogram\"}],\"mesh3d\":[{\"colorbar\":{\"outlinewidth\":0,\"ticks\":\"\"},\"type\":\"mesh3d\"}],\"parcoords\":[{\"line\":{\"colorbar\":{\"outlinewidth\":0,\"ticks\":\"\"}},\"type\":\"parcoords\"}],\"pie\":[{\"automargin\":true,\"type\":\"pie\"}],\"scatter3d\":[{\"line\":{\"colorbar\":{\"outlinewidth\":0,\"ticks\":\"\"}},\"marker\":{\"colorbar\":{\"outlinewidth\":0,\"ticks\":\"\"}},\"type\":\"scatter3d\"}],\"scattercarpet\":[{\"marker\":{\"colorbar\":{\"outlinewidth\":0,\"ticks\":\"\"}},\"type\":\"scattercarpet\"}],\"scattergeo\":[{\"marker\":{\"colorbar\":{\"outlinewidth\":0,\"ticks\":\"\"}},\"type\":\"scattergeo\"}],\"scattergl\":[{\"marker\":{\"colorbar\":{\"outlinewidth\":0,\"ticks\":\"\"}},\"type\":\"scattergl\"}],\"scattermapbox\":[{\"marker\":{\"colorbar\":{\"outlinewidth\":0,\"ticks\":\"\"}},\"type\":\"scattermapbox\"}],\"scatterpolargl\":[{\"marker\":{\"colorbar\":{\"outlinewidth\":0,\"ticks\":\"\"}},\"type\":\"scatterpolargl\"}],\"scatterpolar\":[{\"marker\":{\"colorbar\":{\"outlinewidth\":0,\"ticks\":\"\"}},\"type\":\"scatterpolar\"}],\"scatter\":[{\"marker\":{\"colorbar\":{\"outlinewidth\":0,\"ticks\":\"\"}},\"type\":\"scatter\"}],\"scatterternary\":[{\"marker\":{\"colorbar\":{\"outlinewidth\":0,\"ticks\":\"\"}},\"type\":\"scatterternary\"}],\"surface\":[{\"colorbar\":{\"outlinewidth\":0,\"ticks\":\"\"},\"colorscale\":[[0.0,\"#0d0887\"],[0.1111111111111111,\"#46039f\"],[0.2222222222222222,\"#7201a8\"],[0.3333333333333333,\"#9c179e\"],[0.4444444444444444,\"#bd3786\"],[0.5555555555555556,\"#d8576b\"],[0.6666666666666666,\"#ed7953\"],[0.7777777777777778,\"#fb9f3a\"],[0.8888888888888888,\"#fdca26\"],[1.0,\"#f0f921\"]],\"type\":\"surface\"}],\"table\":[{\"cells\":{\"fill\":{\"color\":\"#EBF0F8\"},\"line\":{\"color\":\"white\"}},\"header\":{\"fill\":{\"color\":\"#C8D4E3\"},\"line\":{\"color\":\"white\"}},\"type\":\"table\"}]},\"layout\":{\"annotationdefaults\":{\"arrowcolor\":\"#2a3f5f\",\"arrowhead\":0,\"arrowwidth\":1},\"autotypenumbers\":\"strict\",\"coloraxis\":{\"colorbar\":{\"outlinewidth\":0,\"ticks\":\"\"}},\"colorscale\":{\"diverging\":[[0,\"#8e0152\"],[0.1,\"#c51b7d\"],[0.2,\"#de77ae\"],[0.3,\"#f1b6da\"],[0.4,\"#fde0ef\"],[0.5,\"#f7f7f7\"],[0.6,\"#e6f5d0\"],[0.7,\"#b8e186\"],[0.8,\"#7fbc41\"],[0.9,\"#4d9221\"],[1,\"#276419\"]],\"sequential\":[[0.0,\"#0d0887\"],[0.1111111111111111,\"#46039f\"],[0.2222222222222222,\"#7201a8\"],[0.3333333333333333,\"#9c179e\"],[0.4444444444444444,\"#bd3786\"],[0.5555555555555556,\"#d8576b\"],[0.6666666666666666,\"#ed7953\"],[0.7777777777777778,\"#fb9f3a\"],[0.8888888888888888,\"#fdca26\"],[1.0,\"#f0f921\"]],\"sequentialminus\":[[0.0,\"#0d0887\"],[0.1111111111111111,\"#46039f\"],[0.2222222222222222,\"#7201a8\"],[0.3333333333333333,\"#9c179e\"],[0.4444444444444444,\"#bd3786\"],[0.5555555555555556,\"#d8576b\"],[0.6666666666666666,\"#ed7953\"],[0.7777777777777778,\"#fb9f3a\"],[0.8888888888888888,\"#fdca26\"],[1.0,\"#f0f921\"]]},\"colorway\":[\"#636efa\",\"#EF553B\",\"#00cc96\",\"#ab63fa\",\"#FFA15A\",\"#19d3f3\",\"#FF6692\",\"#B6E880\",\"#FF97FF\",\"#FECB52\"],\"font\":{\"color\":\"#2a3f5f\"},\"geo\":{\"bgcolor\":\"white\",\"lakecolor\":\"white\",\"landcolor\":\"white\",\"showlakes\":true,\"showland\":true,\"subunitcolor\":\"#C8D4E3\"},\"hoverlabel\":{\"align\":\"left\"},\"hovermode\":\"closest\",\"mapbox\":{\"style\":\"light\"},\"paper_bgcolor\":\"white\",\"plot_bgcolor\":\"white\",\"polar\":{\"angularaxis\":{\"gridcolor\":\"#EBF0F8\",\"linecolor\":\"#EBF0F8\",\"ticks\":\"\"},\"bgcolor\":\"white\",\"radialaxis\":{\"gridcolor\":\"#EBF0F8\",\"linecolor\":\"#EBF0F8\",\"ticks\":\"\"}},\"scene\":{\"xaxis\":{\"backgroundcolor\":\"white\",\"gridcolor\":\"#DFE8F3\",\"gridwidth\":2,\"linecolor\":\"#EBF0F8\",\"showbackground\":true,\"ticks\":\"\",\"zerolinecolor\":\"#EBF0F8\"},\"yaxis\":{\"backgroundcolor\":\"white\",\"gridcolor\":\"#DFE8F3\",\"gridwidth\":2,\"linecolor\":\"#EBF0F8\",\"showbackground\":true,\"ticks\":\"\",\"zerolinecolor\":\"#EBF0F8\"},\"zaxis\":{\"backgroundcolor\":\"white\",\"gridcolor\":\"#DFE8F3\",\"gridwidth\":2,\"linecolor\":\"#EBF0F8\",\"showbackground\":true,\"ticks\":\"\",\"zerolinecolor\":\"#EBF0F8\"}},\"shapedefaults\":{\"line\":{\"color\":\"#2a3f5f\"}},\"ternary\":{\"aaxis\":{\"gridcolor\":\"#DFE8F3\",\"linecolor\":\"#A2B1C6\",\"ticks\":\"\"},\"baxis\":{\"gridcolor\":\"#DFE8F3\",\"linecolor\":\"#A2B1C6\",\"ticks\":\"\"},\"bgcolor\":\"white\",\"caxis\":{\"gridcolor\":\"#DFE8F3\",\"linecolor\":\"#A2B1C6\",\"ticks\":\"\"}},\"title\":{\"x\":0.05},\"xaxis\":{\"automargin\":true,\"gridcolor\":\"#EBF0F8\",\"linecolor\":\"#EBF0F8\",\"ticks\":\"\",\"title\":{\"standoff\":15},\"zerolinecolor\":\"#EBF0F8\",\"zerolinewidth\":2},\"yaxis\":{\"automargin\":true,\"gridcolor\":\"#EBF0F8\",\"linecolor\":\"#EBF0F8\",\"ticks\":\"\",\"title\":{\"standoff\":15},\"zerolinecolor\":\"#EBF0F8\",\"zerolinewidth\":2}}},\"xaxis\":{\"anchor\":\"y\",\"domain\":[0.0,1.0],\"title\":{\"text\":\"\"},\"range\":[0,100],\"showgrid\":false,\"zeroline\":false,\"showticklabels\":false},\"yaxis\":{\"anchor\":\"x\",\"domain\":[0.0,1.0],\"title\":{\"text\":\"\"},\"range\":[-42.5,42.5],\"showgrid\":false,\"zeroline\":false,\"showticklabels\":false},\"coloraxis\":{\"colorbar\":{\"title\":{\"text\":\"Number of events\"}},\"colorscale\":[[0.0,\"#0d0887\"],[0.1111111111111111,\"#46039f\"],[0.2222222222222222,\"#7201a8\"],[0.3333333333333333,\"#9c179e\"],[0.4444444444444444,\"#bd3786\"],[0.5555555555555556,\"#d8576b\"],[0.6666666666666666,\"#ed7953\"],[0.7777777777777778,\"#fb9f3a\"],[0.8888888888888888,\"#fdca26\"],[1.0,\"#f0f921\"]],\"showscale\":true},\"legend\":{\"tracegroupgap\":0,\"itemsizing\":\"constant\"},\"margin\":{\"t\":60},\"height\":580,\"width\":685,\"images\":[{\"layer\":\"below\",\"opacity\":0.5,\"sizex\":100,\"sizey\":85,\"sizing\":\"stretch\",\"source\":\"Half_ice_hockey_rink.png\",\"x\":0,\"xref\":\"x\",\"y\":42,\"yref\":\"y\"}]},                        {\"responsive\": true}                    ).then(function(){\n",
       "                            \n",
       "var gd = document.getElementById('275526a0-73b9-4070-ad41-9d310d30af08');\n",
       "var x = new MutationObserver(function (mutations, observer) {{\n",
       "        var display = window.getComputedStyle(gd).display;\n",
       "        if (!display || display === 'none') {{\n",
       "            console.log([gd, 'removed!']);\n",
       "            Plotly.purge(gd);\n",
       "            observer.disconnect();\n",
       "        }}\n",
       "}});\n",
       "\n",
       "// Listen for the removal of the full notebook cells\n",
       "var notebookContainer = gd.closest('#notebook-container');\n",
       "if (notebookContainer) {{\n",
       "    x.observe(notebookContainer, {childList: true});\n",
       "}}\n",
       "\n",
       "// Listen for the clearing of the current output cell\n",
       "var outputEl = gd.closest('.output');\n",
       "if (outputEl) {{\n",
       "    x.observe(outputEl, {childList: true});\n",
       "}}\n",
       "\n",
       "                        })                };                });            </script>        </div>"
      ]
     },
     "metadata": {},
     "output_type": "display_data"
    }
   ],
   "source": [
    "df_counts = X_round.groupby(['coY', 'coX']).size().reset_index(name='counts')\n",
    "df_counts['Number of events'] = df_counts['counts'] * 2\n",
    "\n",
    "fig = px.scatter(df_counts, x='coX', y='coY',\n",
    "                 color='Number of events',\n",
    "                 size='Number of events',\n",
    "                 width=685, height=580)\n",
    "fig.update_layout(yaxis_range=[-42.5,42.5])\n",
    "fig.update_layout(xaxis_range=[0,100])\n",
    "\n",
    "# Remove side scale and hide zero and gridlines\n",
    "fig.update_layout(\n",
    "    coloraxis_showscale=True,\n",
    "    xaxis=dict(showgrid=False, zeroline=False),\n",
    "    yaxis=dict(showgrid=False, zeroline=False),)\n",
    "# Disable axis ticks and labels\n",
    "fig.update_xaxes(showticklabels=False)\n",
    "fig.update_yaxes(showticklabels=False)\n",
    "fig.update_xaxes(title_text='')\n",
    "fig.update_yaxes(title_text='')\n",
    "\n",
    "fig.add_layout_image(\n",
    "        dict(\n",
    "            source='Half_ice_hockey_rink.png',\n",
    "            xref=\"x\",\n",
    "            yref=\"y\",\n",
    "            x=0,\n",
    "            y=42,\n",
    "            sizex=100,\n",
    "            sizey=85,\n",
    "            sizing=\"stretch\",\n",
    "            opacity=0.5,\n",
    "            layer=\"below\")\n",
    ")\n",
    "\n",
    "fig.update_layout(template=\"plotly_white\")\n",
    "\n",
    "fig.show()"
   ]
  },
  {
   "cell_type": "code",
   "execution_count": 1196,
   "id": "f605691e",
   "metadata": {
    "scrolled": true
   },
   "outputs": [
    {
     "name": "stderr",
     "output_type": "stream",
     "text": [
      "/var/folders/z6/nzpwwscs6qj7t6gldff9vtlw0000gn/T/ipykernel_77575/3376546746.py:10: FutureWarning:\n",
      "\n",
      "The frame.append method is deprecated and will be removed from pandas in a future version. Use pandas.concat instead.\n",
      "\n",
      "/var/folders/z6/nzpwwscs6qj7t6gldff9vtlw0000gn/T/ipykernel_77575/3376546746.py:20: SettingWithCopyWarning:\n",
      "\n",
      "\n",
      "A value is trying to be set on a copy of a slice from a DataFrame\n",
      "\n",
      "See the caveats in the documentation: https://pandas.pydata.org/pandas-docs/stable/user_guide/indexing.html#returning-a-view-versus-a-copy\n",
      "\n",
      "/var/folders/z6/nzpwwscs6qj7t6gldff9vtlw0000gn/T/ipykernel_77575/3376546746.py:18: SettingWithCopyWarning:\n",
      "\n",
      "\n",
      "A value is trying to be set on a copy of a slice from a DataFrame\n",
      "\n",
      "See the caveats in the documentation: https://pandas.pydata.org/pandas-docs/stable/user_guide/indexing.html#returning-a-view-versus-a-copy\n",
      "\n"
     ]
    },
    {
     "data": {
      "image/png": "[encoded data removed]",
      "text/plain": [
       "<Figure size 1080x576 with 2 Axes>"
      ]
     },
     "metadata": {
      "needs_background": "light"
     },
     "output_type": "display_data"
    }
   ],
   "source": [
    "dist1 = events_df[['shot_distance','player1Id','eventType']]\n",
    "dist1 = dist1[dist1['eventType'].isin(['Shot','Missed Shot','Goal'])]\n",
    "dist1 = dist1[dist1['player1Id'].isin([8471214])]\n",
    "\n",
    "dist2 = events_df[['shot_distance','player2Id','eventType']]\n",
    "dist2 = dist2[dist2['eventType'].isin(['Blocked Shot'])]\n",
    "dist2 = dist2.rename(columns={\"player2Id\": \"player1Id\"})\n",
    "dist2 = dist2[dist2['player1Id'].isin([8471214])]\n",
    "\n",
    "dist = dist1.append(dist2, ignore_index=True)\n",
    "\n",
    "fig, (ax1, ax2) = plt.subplots(1,2, figsize=(15,8))\n",
    "\n",
    "dist['isGoal'] = ''\n",
    "\n",
    "for idx, i in enumerate(dist['eventType']):\n",
    "    if i == 'Goal':\n",
    "        dist['isGoal'].iloc[idx] = \"Goal\"\n",
    "    else:\n",
    "        dist['isGoal'].iloc[idx] = \"Shot\"\n",
    "        \n",
    "\n",
    "sb.stripplot(data=dist, x=dist['shot_distance'], y=[\"\"]*len(dist), ax=ax1, hue=dist['isGoal'],palette=\"deep\", \n",
    "             size=8, marker=\"H\", edgecolor=\"gray\", alpha=.8, jitter = .2)\n",
    "\n",
    "sb.swarmplot(data=dist, x=dist['shot_distance'], ax=ax2,  y=[\"\"]*len(dist), hue=dist['isGoal'],palette=\"deep\", \n",
    "             size=8, marker=\"H\",edgecolor=\"gray\", alpha=.8)\n",
    "\n",
    "plt.tight_layout()"
   ]
  },
  {
   "cell_type": "code",
   "execution_count": 1180,
   "id": "86475f18",
   "metadata": {},
   "outputs": [],
   "source": [
    "#events_df.player1Type.unique() #'Winner', 'Scorer', 'Shooter', 'PenaltyOn', 'PlayerID','Blocker', 'Hitter'\n",
    "#events_df.player2Type.unique() #'Loser', 'Assist', 'DrewBy', 'Goalie', 'Shooter', 'Hittee' \n",
    "    #(Blocked Shot-nal elso a Blocker masodik a Shooter)\n",
    "#events_df.player3Type.unique() #'Assist', 'Goalie', 'ServedBy'\n",
    "#events_df.player4Type.unique() #'Golie'\n",
    "#events_df.eventType.unique()"
   ]
  },
  {
   "cell_type": "code",
   "execution_count": 1158,
   "id": "db33c97e",
   "metadata": {},
   "outputs": [
    {
     "data": {
      "text/html": [
       "<div>\n",
       "<style scoped>\n",
       "    .dataframe tbody tr th:only-of-type {\n",
       "        vertical-align: middle;\n",
       "    }\n",
       "\n",
       "    .dataframe tbody tr th {\n",
       "        vertical-align: top;\n",
       "    }\n",
       "\n",
       "    .dataframe thead th {\n",
       "        text-align: right;\n",
       "    }\n",
       "</style>\n",
       "<table border=\"1\" class=\"dataframe\">\n",
       "  <thead>\n",
       "    <tr style=\"text-align: right;\">\n",
       "      <th></th>\n",
       "      <th>index</th>\n",
       "      <th>gameId</th>\n",
       "      <th>startDate</th>\n",
       "      <th>player1Id</th>\n",
       "      <th>allShots</th>\n",
       "      <th>allGoals</th>\n",
       "      <th>sog%</th>\n",
       "      <th>Date</th>\n",
       "    </tr>\n",
       "  </thead>\n",
       "  <tbody>\n",
       "    <tr>\n",
       "      <th>0</th>\n",
       "      <td>0</td>\n",
       "      <td>2019020001</td>\n",
       "      <td>2019-10-02</td>\n",
       "      <td>8471676</td>\n",
       "      <td>7</td>\n",
       "      <td>1.0</td>\n",
       "      <td>14.3</td>\n",
       "      <td>2019-10-02</td>\n",
       "    </tr>\n",
       "    <tr>\n",
       "      <th>1</th>\n",
       "      <td>1</td>\n",
       "      <td>2019020001</td>\n",
       "      <td>2019-10-02</td>\n",
       "      <td>8473573</td>\n",
       "      <td>1</td>\n",
       "      <td>NaN</td>\n",
       "      <td>NaN</td>\n",
       "      <td>2019-10-02</td>\n",
       "    </tr>\n",
       "    <tr>\n",
       "      <th>2</th>\n",
       "      <td>2</td>\n",
       "      <td>2019020001</td>\n",
       "      <td>2019-10-02</td>\n",
       "      <td>8474162</td>\n",
       "      <td>4</td>\n",
       "      <td>NaN</td>\n",
       "      <td>NaN</td>\n",
       "      <td>2019-10-02</td>\n",
       "    </tr>\n",
       "    <tr>\n",
       "      <th>3</th>\n",
       "      <td>3</td>\n",
       "      <td>2019020001</td>\n",
       "      <td>2019-10-02</td>\n",
       "      <td>8474589</td>\n",
       "      <td>3</td>\n",
       "      <td>NaN</td>\n",
       "      <td>NaN</td>\n",
       "      <td>2019-10-02</td>\n",
       "    </tr>\n",
       "    <tr>\n",
       "      <th>4</th>\n",
       "      <td>4</td>\n",
       "      <td>2019020001</td>\n",
       "      <td>2019-10-02</td>\n",
       "      <td>8474697</td>\n",
       "      <td>3</td>\n",
       "      <td>NaN</td>\n",
       "      <td>NaN</td>\n",
       "      <td>2019-10-02</td>\n",
       "    </tr>\n",
       "    <tr>\n",
       "      <th>...</th>\n",
       "      <td>...</td>\n",
       "      <td>...</td>\n",
       "      <td>...</td>\n",
       "      <td>...</td>\n",
       "      <td>...</td>\n",
       "      <td>...</td>\n",
       "      <td>...</td>\n",
       "      <td>...</td>\n",
       "    </tr>\n",
       "    <tr>\n",
       "      <th>33422</th>\n",
       "      <td>33422</td>\n",
       "      <td>2019021082</td>\n",
       "      <td>2020-03-12</td>\n",
       "      <td>8480014</td>\n",
       "      <td>4</td>\n",
       "      <td>1.0</td>\n",
       "      <td>25.0</td>\n",
       "      <td>2020-03-12</td>\n",
       "    </tr>\n",
       "    <tr>\n",
       "      <th>33423</th>\n",
       "      <td>33423</td>\n",
       "      <td>2019021082</td>\n",
       "      <td>2020-03-12</td>\n",
       "      <td>8480113</td>\n",
       "      <td>4</td>\n",
       "      <td>NaN</td>\n",
       "      <td>NaN</td>\n",
       "      <td>2020-03-12</td>\n",
       "    </tr>\n",
       "    <tr>\n",
       "      <th>33424</th>\n",
       "      <td>33424</td>\n",
       "      <td>2019021082</td>\n",
       "      <td>2020-03-12</td>\n",
       "      <td>8480336</td>\n",
       "      <td>4</td>\n",
       "      <td>NaN</td>\n",
       "      <td>NaN</td>\n",
       "      <td>2020-03-12</td>\n",
       "    </tr>\n",
       "    <tr>\n",
       "      <th>33425</th>\n",
       "      <td>33425</td>\n",
       "      <td>2019021082</td>\n",
       "      <td>2020-03-12</td>\n",
       "      <td>8480801</td>\n",
       "      <td>5</td>\n",
       "      <td>NaN</td>\n",
       "      <td>NaN</td>\n",
       "      <td>2020-03-12</td>\n",
       "    </tr>\n",
       "    <tr>\n",
       "      <th>33426</th>\n",
       "      <td>33426</td>\n",
       "      <td>2019021082</td>\n",
       "      <td>2020-03-12</td>\n",
       "      <td>8481481</td>\n",
       "      <td>1</td>\n",
       "      <td>NaN</td>\n",
       "      <td>NaN</td>\n",
       "      <td>2020-03-12</td>\n",
       "    </tr>\n",
       "  </tbody>\n",
       "</table>\n",
       "<p>33427 rows × 8 columns</p>\n",
       "</div>"
      ],
      "text/plain": [
       "       index      gameId   startDate  player1Id  allShots  allGoals  sog%  \\\n",
       "0          0  2019020001  2019-10-02    8471676         7       1.0  14.3   \n",
       "1          1  2019020001  2019-10-02    8473573         1       NaN   NaN   \n",
       "2          2  2019020001  2019-10-02    8474162         4       NaN   NaN   \n",
       "3          3  2019020001  2019-10-02    8474589         3       NaN   NaN   \n",
       "4          4  2019020001  2019-10-02    8474697         3       NaN   NaN   \n",
       "...      ...         ...         ...        ...       ...       ...   ...   \n",
       "33422  33422  2019021082  2020-03-12    8480014         4       1.0  25.0   \n",
       "33423  33423  2019021082  2020-03-12    8480113         4       NaN   NaN   \n",
       "33424  33424  2019021082  2020-03-12    8480336         4       NaN   NaN   \n",
       "33425  33425  2019021082  2020-03-12    8480801         5       NaN   NaN   \n",
       "33426  33426  2019021082  2020-03-12    8481481         1       NaN   NaN   \n",
       "\n",
       "            Date  \n",
       "0     2019-10-02  \n",
       "1     2019-10-02  \n",
       "2     2019-10-02  \n",
       "3     2019-10-02  \n",
       "4     2019-10-02  \n",
       "...          ...  \n",
       "33422 2020-03-12  \n",
       "33423 2020-03-12  \n",
       "33424 2020-03-12  \n",
       "33425 2020-03-12  \n",
       "33426 2020-03-12  \n",
       "\n",
       "[33427 rows x 8 columns]"
      ]
     },
     "execution_count": 1158,
     "metadata": {},
     "output_type": "execute_result"
    }
   ],
   "source": [
    "#Elso DataFrame: osszes kapuraloves a player 1-tol\n",
    "tmp_sog = events_df[['gameId','player1Id','startDate','eventType']]\n",
    "tmp_sog = tmp_sog[tmp_sog['eventType'].isin(['Shot','Missed Shot','Goal'])]\n",
    "tmp_sog_calc = tmp_sog.groupby(['gameId','startDate','player1Id']).count()\n",
    "tmp_sog_calc = tmp_sog_calc.rename(columns={\"eventType\": \"allShots\"})\n",
    "tmp_sog_calc.reset_index(inplace=True)\n",
    "#tmp_sog_calc\n",
    "\n",
    "#Masodik temp dataframe: osszes kapuraloves a player 2-tol (Blocked Shot-nal player 2-n van logolva a Shooter)\n",
    "tmp_sog_b = events_df[['gameId','player2Id','startDate','eventType']]\n",
    "tmp_sog_b = tmp_sog_b[tmp_sog_b['eventType'].isin(['Blocked Shot'])]\n",
    "tmp_sog_calc_b = tmp_sog_b.groupby(['gameId','startDate','player2Id']).count()\n",
    "tmp_sog_calc_b = tmp_sog_calc_b.rename(columns={\"eventType\": \"allShots\"})\n",
    "tmp_sog_calc_b.reset_index(inplace=True)\n",
    "#tmp_sog_calc_b\n",
    "\n",
    "#Harmadik temp DataFrame: Az osszes kapuraloves\n",
    "tmp_allsog = pd.merge(left=tmp_sog_calc, right=tmp_sog_calc_b, \n",
    "                          left_on=['gameId','startDate','player1Id'], right_on=['gameId','startDate','player2Id'], \n",
    "                          how='left')\n",
    "tmp_allsog = tmp_allsog.fillna(0)\n",
    "tmp_allsog = tmp_allsog.astype({'allShots_y': 'int64'})\n",
    "tmp_allsog['allShots'] = tmp_allsog['allShots_x']+tmp_allsog['allShots_y']\n",
    "tmp_allsog = tmp_allsog.drop(columns=['allShots_x','player2Id','allShots_y'])\n",
    "#tmp_allsog\n",
    "\n",
    "#Negyedik temp DataFrame: Az osszes Goal\n",
    "tmp_goal = events_df[['gameId','player1Id','startDate','eventType']]\n",
    "tmp_goal = tmp_goal[tmp_goal['eventType'].isin(['Goal'])]\n",
    "tmp_goal_calc = tmp_goal.groupby(['gameId','startDate','player1Id']).count()\n",
    "tmp_goal_calc = tmp_goal_calc.rename(columns={\"eventType\": \"allGoals\"})\n",
    "tmp_goal_calc.reset_index()\n",
    "\n",
    "#Vegso DataFrame: Osszes kapuraloves es goal merge, szazalek szamitas\n",
    "sog_percentage = pd.merge(left=tmp_allsog, right=tmp_goal_calc, \n",
    "                          left_on=['gameId','startDate','player1Id'], right_on=['gameId','startDate','player1Id'], \n",
    "                          how='left')\n",
    "\n",
    "sog_percentage['sog%'] = round(((sog_percentage['allGoals']/sog_percentage['allShots'])*100),1)\n",
    "sog_percentage[\"Date\"] = pd.to_datetime(sog_percentage[\"startDate\"])\n",
    "sog_percentage.reset_index(inplace=True)\n",
    "sog_percentage"
   ]
  },
  {
   "cell_type": "code",
   "execution_count": 1164,
   "id": "e2519aca",
   "metadata": {},
   "outputs": [
    {
     "data": {
      "text/plain": [
       "<AxesSubplot:xlabel='Date', ylabel='sog%'>"
      ]
     },
     "execution_count": 1164,
     "metadata": {},
     "output_type": "execute_result"
    },
    {
     "data": {
      "image/png": "[encoded data removed]",
      "text/plain": [
       "<Figure size 432x288 with 1 Axes>"
      ]
     },
     "metadata": {
      "needs_background": "light"
     },
     "output_type": "display_data"
    }
   ],
   "source": [
    "#Egy jatekosra nezve:\n",
    "sog_perc_oneplayer = sog_percentage[['Date','player1Id','allShots','allGoals','sog%']]\n",
    "sog_perc_oneplayer = sog_perc_oneplayer[sog_perc_oneplayer['player1Id'].isin([8471214])]\n",
    "sog_perc_oneplayer.plot(x='Date',y='sog%', kind='scatter',s=50)"
   ]
  },
  {
   "cell_type": "code",
   "execution_count": 1160,
   "id": "455eb09f",
   "metadata": {},
   "outputs": [
    {
     "name": "stderr",
     "output_type": "stream",
     "text": [
      "/var/folders/z6/nzpwwscs6qj7t6gldff9vtlw0000gn/T/ipykernel_77575/1545891617.py:11: FutureWarning:\n",
      "\n",
      "The frame.append method is deprecated and will be removed from pandas in a future version. Use pandas.concat instead.\n",
      "\n"
     ]
    },
    {
     "data": {
      "text/plain": [
       "<AxesSubplot:xlabel='periodTimeFull'>"
      ]
     },
     "execution_count": 1160,
     "metadata": {},
     "output_type": "execute_result"
    },
    {
     "data": {
      "image/png": "[encoded data removed]",
      "text/plain": [
       "<Figure size 576x432 with 1 Axes>"
      ]
     },
     "metadata": {
      "needs_background": "light"
     },
     "output_type": "display_data"
    }
   ],
   "source": [
    "#Timeline: X axis-on a 60 perc, esemenyeket percre kerekitem. A szezon osszes kapuralovese az adott percben adott embertol\n",
    "#A kapuraloves lehet: 'Shot','Missed Shot','Goal' es 'Blocked Shot'. Blokkoltnal a Player2-n van logolva a Shooter\n",
    "\n",
    "tmp_sog_time = events_df[['gameId','player1Id','startDate','eventType','periodTimeFull']]\n",
    "tmp_sog_time = tmp_sog_time[tmp_sog_time['eventType'].isin(['Shot','Missed Shot','Goal'])]\n",
    "\n",
    "tmp_sog_b_time = events_df[['gameId','player2Id','startDate','eventType','periodTimeFull']]\n",
    "tmp_sog_b_time = tmp_sog_b_time[tmp_sog_b_time['eventType'].isin(['Blocked Shot'])]\n",
    "tmp_sog_b_time = tmp_sog_b_time.rename(columns={\"player2Id\": \"player1Id\"})\n",
    "\n",
    "timechart = tmp_sog_time.append(tmp_sog_b_time, ignore_index=True)\n",
    "\n",
    "timechart = timechart[timechart['player1Id'].isin([8471214])]\n",
    "timechart = timechart.groupby(['periodTimeFull']).count()\n",
    "timechart = timechart.drop(columns=['gameId','player1Id','startDate'])\n",
    "timechart = timechart.rename(columns={\"eventType\": \"Number of SOG\"})\n",
    "timechart.reset_index(inplace=True)\n",
    "timechart.plot(x='periodTimeFull', figsize=(8,6), cmap='Dark2')\n",
    "#px.line(timechart, x=\"periodTimeFull\", y=\"Number of SOG\", title='# of SOG')\n",
    "#timechart"
   ]
  },
  {
   "cell_type": "code",
   "execution_count": 1151,
   "id": "63d309dc",
   "metadata": {},
   "outputs": [
    {
     "data": {
      "image/png": "[encoded data removed]",
      "text/plain": [
       "<Figure size 576x504 with 1 Axes>"
      ]
     },
     "metadata": {
      "needs_background": "light"
     },
     "output_type": "display_data"
    }
   ],
   "source": [
    "#Szogek vizualizalasa\n",
    "#Atszamoljuk radianra, aztan elforgatjuk hogy 0-180 kozott tudjam abrazolni\n",
    "#events_df['shot_angle_rad'] = events_df['shot_angle']*(math.pi/180)\n",
    "#events_df['shot_angle_vis'] = events_df['shot_angle_rad']*-1+(math.pi/2)\n",
    "\n",
    "#Parameterek, pl Ovechkin goljai:\n",
    "angledf = pd.DataFrame()\n",
    "angledf = events_df[events_df['eventType'].isin(['Goal'])]\n",
    "angledf = angledf[angledf['player1Id'].isin([8471214])]\n",
    "\n",
    "theta = angledf['shot_angle_vis']\n",
    "r = angledf['shot_distance']\n",
    "area = angledf['shot_angle_rad'].count()\n",
    "colors = theta\n",
    "size = angledf['shot_angle_vis'].count()*2\n",
    "\n",
    "fig = plt.figure()\n",
    "ax = fig.add_subplot(projection='polar')\n",
    "c = ax.scatter(theta, r, s=size, cmap='Dark2', c = colors, alpha=0.75)\n",
    "plt.gcf().set_size_inches(8, 7)\n",
    "\n",
    "ax.set_thetamin(0)\n",
    "ax.set_thetamax(180)"
   ]
  },
  {
   "cell_type": "code",
   "execution_count": 1197,
   "id": "86189465",
   "metadata": {
    "scrolled": true
   },
   "outputs": [],
   "source": [
    "players_stat_18 = pd.read_csv('playerstats_2018.csv')\n",
    "players_stat_19 = pd.read_csv('playerstats_2019.csv')"
   ]
  },
  {
   "cell_type": "code",
   "execution_count": 1293,
   "id": "b64a3279",
   "metadata": {},
   "outputs": [
    {
     "data": {
      "text/html": [
       "<div>\n",
       "<style scoped>\n",
       "    .dataframe tbody tr th:only-of-type {\n",
       "        vertical-align: middle;\n",
       "    }\n",
       "\n",
       "    .dataframe tbody tr th {\n",
       "        vertical-align: top;\n",
       "    }\n",
       "\n",
       "    .dataframe thead th {\n",
       "        text-align: right;\n",
       "    }\n",
       "</style>\n",
       "<table border=\"1\" class=\"dataframe\">\n",
       "  <thead>\n",
       "    <tr style=\"text-align: right;\">\n",
       "      <th></th>\n",
       "      <th>Player</th>\n",
       "      <th>Goals_18</th>\n",
       "      <th>ixG_18</th>\n",
       "      <th>Goals_19</th>\n",
       "      <th>ixG_19</th>\n",
       "    </tr>\n",
       "  </thead>\n",
       "  <tbody>\n",
       "    <tr>\n",
       "      <th>0</th>\n",
       "      <td>Connor McDavid</td>\n",
       "      <td>24</td>\n",
       "      <td>17.68</td>\n",
       "      <td>21</td>\n",
       "      <td>14.85</td>\n",
       "    </tr>\n",
       "  </tbody>\n",
       "</table>\n",
       "</div>"
      ],
      "text/plain": [
       "           Player  Goals_18  ixG_18  Goals_19  ixG_19\n",
       "0  Connor McDavid        24   17.68        21   14.85"
      ]
     },
     "execution_count": 1293,
     "metadata": {},
     "output_type": "execute_result"
    },
    {
     "data": {
      "image/png": "[encoded data removed]",
      "text/plain": [
       "<Figure size 480x480 with 1 Axes>"
      ]
     },
     "metadata": {
      "needs_background": "light"
     },
     "output_type": "display_data"
    }
   ],
   "source": [
    "name = 'Connor McDavid'\n",
    "\n",
    "oneplayerstat_18 = players_stat_18.loc[:,['Player', 'Goals', 'ixG']]\n",
    "oneplayerstat_18 = oneplayerstat_18[oneplayerstat_18['Player'] == (name)]\n",
    "oneplayerstat_18 = oneplayerstat_18.rename(columns={\"ixG\": \"ixG_18\", 'Goals':'Goals_18'})\n",
    "oneplayerstat_19 = players_stat_19.loc[:,['Player', 'Goals', 'ixG']]\n",
    "oneplayerstat_19 = oneplayerstat_19[oneplayerstat_19['Player'] == (name)]\n",
    "oneplayerstat_19 = oneplayerstat_19.rename(columns={\"ixG\": \"ixG_19\", 'Goals':'Goals_19'})\n",
    "\n",
    "ixg = pd.merge(left=oneplayerstat_18, right=oneplayerstat_19, left_on = 'Player', right_on='Player', how='left')\n",
    "\n",
    "fig, ax = plt.subplots(1,1,figsize=(6,6), dpi= 80)\n",
    "\n",
    "#Vertical lines\n",
    "ax.vlines(x=1, ymin=5, ymax=30, color='black', alpha=0.7, linewidth=1, linestyles='dotted')\n",
    "ax.vlines(x=3, ymin=5, ymax=30, color='black', alpha=0.7, linewidth=1, linestyles='dotted')\n",
    "\n",
    "# Points\n",
    "#ax.scatter(y=ixg['Goals_18'], x=np.repeat(1, ixg.shape[0]), s=10, color='black', alpha=0.7)\n",
    "ax.scatter(y=ixg['Goals_19'], x=np.repeat(3, ixg.shape[0]), s=10, color='black', alpha=0.7)\n",
    "ax.scatter(y=ixg['ixG_19'], x=np.repeat(1, ixg.shape[0]), s=10, color='black', alpha=0.7)\n",
    "#ax.scatter(y=ixg['Goals_18'], x=np.repeat(3, ixg.shape[0]), s=10, color='black', alpha=0.7)\n",
    "\n",
    "# Line Segmentsand Annotation\n",
    "#for p1, p2 in zip(ixg['Goals_18'], ixg['Goals_19']):\n",
    " #   newline([1,p1], [3,p2])\n",
    "    \n",
    "for p1, p2 in zip(ixg['ixG_19'], ixg['Goals_19']):\n",
    "    newline([1,p1], [3,p2])\n",
    "    \n",
    "# Decoration\n",
    "ax.set_title(\"Comparing Expected Goals and Goals in 2019\", fontdict={'size':15})\n",
    "ax.set(xlim=(0,4), ylim=(0,40), ylabel='# of Goals')\n",
    "ax.set_xticks([1,3])\n",
    "ax.set_xticklabels([\"ixG\", \"G\"])\n",
    "plt.yticks((10, 20, 30), fontsize=8)\n",
    "\n",
    "# Lighten borders\n",
    "plt.gca().spines[\"top\"].set_alpha(.0)\n",
    "plt.gca().spines[\"bottom\"].set_alpha(.0)\n",
    "plt.gca().spines[\"right\"].set_alpha(.0)\n",
    "plt.gca().spines[\"left\"].set_alpha(.0)\n",
    "\n",
    "ixg"
   ]
  },
  {
   "cell_type": "code",
   "execution_count": 1295,
   "id": "a94a270e",
   "metadata": {
    "scrolled": true
   },
   "outputs": [
    {
     "data": {
      "text/plain": [
       "Unnamed: 0            int64\n",
       "Player               object\n",
       "Team                 object\n",
       "Position             object\n",
       "GP                    int64\n",
       "TOI                 float64\n",
       "Goals                 int64\n",
       "Total Assists         int64\n",
       "First Assists         int64\n",
       "Second Assists        int64\n",
       "Total Points          int64\n",
       "IPP                  object\n",
       "Shots                 int64\n",
       "SH%                  object\n",
       "ixG                 float64\n",
       "iCF                   int64\n",
       "iFF                   int64\n",
       "iSCF                  int64\n",
       "iHDCF                 int64\n",
       "Rush Attempts         int64\n",
       "Rebounds Created      int64\n",
       "PIM                   int64\n",
       "Total Penalties       int64\n",
       "Minor                 int64\n",
       "Major                 int64\n",
       "Misconduct            int64\n",
       "Penalties Drawn       int64\n",
       "Giveaways             int64\n",
       "Takeaways             int64\n",
       "Hits                  int64\n",
       "Hits Taken            int64\n",
       "Shots Blocked         int64\n",
       "Faceoffs Won          int64\n",
       "Faceoffs Lost         int64\n",
       "Faceoffs %           object\n",
       "dtype: object"
      ]
     },
     "execution_count": 1295,
     "metadata": {},
     "output_type": "execute_result"
    }
   ],
   "source": [
    "players_stat_18.dtypes\n",
    "#players_stat_19"
   ]
  },
  {
   "cell_type": "code",
   "execution_count": null,
   "id": "7edf3ecd",
   "metadata": {},
   "outputs": [
    {
     "name": "stderr",
     "output_type": "stream",
     "text": [
      "/var/folders/z6/nzpwwscs6qj7t6gldff9vtlw0000gn/T/ipykernel_77575/23841731.py:4: SettingWithCopyWarning:\n",
      "\n",
      "\n",
      "A value is trying to be set on a copy of a slice from a DataFrame\n",
      "\n",
      "See the caveats in the documentation: https://pandas.pydata.org/pandas-docs/stable/user_guide/indexing.html#returning-a-view-versus-a-copy\n",
      "\n"
     ]
    }
   ],
   "source": [
    "events_df['TMP_periodTimeFull'] = ''\n",
    "\n",
    "for idx, i in enumerate(events_df['TMP_periodTimeFull']):\n",
    "    events_df['TMP_periodTimeFull'].iloc[idx] = (events_df['periodTimeFull'].iloc[idx])+((events_df['period'].iloc[idx]-1)*pd.to_timedelta('00:20:00'))\n",
    "\n",
    "events_df"
   ]
  },
  {
   "cell_type": "code",
   "execution_count": null,
   "id": "06628d44",
   "metadata": {},
   "outputs": [],
   "source": [
    "events_df.head()"
   ]
  },
  {
   "cell_type": "code",
   "execution_count": 1328,
   "id": "49309058",
   "metadata": {},
   "outputs": [
    {
     "data": {
      "text/html": [
       "<div>\n",
       "<style scoped>\n",
       "    .dataframe tbody tr th:only-of-type {\n",
       "        vertical-align: middle;\n",
       "    }\n",
       "\n",
       "    .dataframe tbody tr th {\n",
       "        vertical-align: top;\n",
       "    }\n",
       "\n",
       "    .dataframe thead th {\n",
       "        text-align: right;\n",
       "    }\n",
       "</style>\n",
       "<table border=\"1\" class=\"dataframe\">\n",
       "  <thead>\n",
       "    <tr style=\"text-align: right;\">\n",
       "      <th></th>\n",
       "      <th>gameId</th>\n",
       "      <th>eventId</th>\n",
       "      <th>eventType</th>\n",
       "      <th>eventTypeDesc</th>\n",
       "      <th>period</th>\n",
       "      <th>periodTime</th>\n",
       "      <th>periodType</th>\n",
       "      <th>teamAwayID</th>\n",
       "      <th>teamHomeID</th>\n",
       "      <th>goalsHome</th>\n",
       "      <th>...</th>\n",
       "      <th>player2Type</th>\n",
       "      <th>player3Id</th>\n",
       "      <th>player3Type</th>\n",
       "      <th>player4Id</th>\n",
       "      <th>player4Type</th>\n",
       "      <th>startDate</th>\n",
       "      <th>periodTimeFull</th>\n",
       "      <th>shot_angle</th>\n",
       "      <th>shot_distance</th>\n",
       "      <th>TMP_periodTimeFull</th>\n",
       "    </tr>\n",
       "  </thead>\n",
       "  <tbody>\n",
       "    <tr>\n",
       "      <th>200</th>\n",
       "      <td>2019020001</td>\n",
       "      <td>199</td>\n",
       "      <td>Missed Shot</td>\n",
       "      <td>Brady Tkachuk Over Net</td>\n",
       "      <td>2</td>\n",
       "      <td>10:40</td>\n",
       "      <td>REGULAR</td>\n",
       "      <td>9</td>\n",
       "      <td>10</td>\n",
       "      <td>3</td>\n",
       "      <td>...</td>\n",
       "      <td>0</td>\n",
       "      <td>0</td>\n",
       "      <td>0</td>\n",
       "      <td>0</td>\n",
       "      <td>0</td>\n",
       "      <td>2019-10-02</td>\n",
       "      <td>0 days 00:10:40</td>\n",
       "      <td>8.130102</td>\n",
       "      <td>7.071068</td>\n",
       "      <td>0 days 00:30:40</td>\n",
       "    </tr>\n",
       "    <tr>\n",
       "      <th>201</th>\n",
       "      <td>2019020001</td>\n",
       "      <td>201</td>\n",
       "      <td>Faceoff</td>\n",
       "      <td>Chris Tierney faceoff won against Frederik Gau...</td>\n",
       "      <td>2</td>\n",
       "      <td>10:40</td>\n",
       "      <td>REGULAR</td>\n",
       "      <td>9</td>\n",
       "      <td>10</td>\n",
       "      <td>3</td>\n",
       "      <td>...</td>\n",
       "      <td>Loser</td>\n",
       "      <td>0</td>\n",
       "      <td>0</td>\n",
       "      <td>0</td>\n",
       "      <td>0</td>\n",
       "      <td>2019-10-02</td>\n",
       "      <td>0 days 00:10:40</td>\n",
       "      <td>47.726311</td>\n",
       "      <td>29.732137</td>\n",
       "      <td>0 days 00:30:40</td>\n",
       "    </tr>\n",
       "    <tr>\n",
       "      <th>202</th>\n",
       "      <td>2019020001</td>\n",
       "      <td>202</td>\n",
       "      <td>Missed Shot</td>\n",
       "      <td>Ilya Mikheyev Wide of Net</td>\n",
       "      <td>2</td>\n",
       "      <td>10:47</td>\n",
       "      <td>REGULAR</td>\n",
       "      <td>9</td>\n",
       "      <td>10</td>\n",
       "      <td>3</td>\n",
       "      <td>...</td>\n",
       "      <td>0</td>\n",
       "      <td>0</td>\n",
       "      <td>0</td>\n",
       "      <td>0</td>\n",
       "      <td>0</td>\n",
       "      <td>2019-10-02</td>\n",
       "      <td>0 days 00:10:47</td>\n",
       "      <td>18.741340</td>\n",
       "      <td>59.135438</td>\n",
       "      <td>0 days 00:30:47</td>\n",
       "    </tr>\n",
       "    <tr>\n",
       "      <th>203</th>\n",
       "      <td>2019020001</td>\n",
       "      <td>203</td>\n",
       "      <td>Stoppage</td>\n",
       "      <td>Offside</td>\n",
       "      <td>2</td>\n",
       "      <td>12:09</td>\n",
       "      <td>REGULAR</td>\n",
       "      <td>9</td>\n",
       "      <td>10</td>\n",
       "      <td>3</td>\n",
       "      <td>...</td>\n",
       "      <td>0</td>\n",
       "      <td>0</td>\n",
       "      <td>0</td>\n",
       "      <td>0</td>\n",
       "      <td>0</td>\n",
       "      <td>2019-10-02</td>\n",
       "      <td>0 days 00:12:09</td>\n",
       "      <td>0.000000</td>\n",
       "      <td>89.000000</td>\n",
       "      <td>0 days 00:32:09</td>\n",
       "    </tr>\n",
       "    <tr>\n",
       "      <th>204</th>\n",
       "      <td>2019020001</td>\n",
       "      <td>204</td>\n",
       "      <td>Faceoff</td>\n",
       "      <td>Auston Matthews faceoff won against Jean-Gabri...</td>\n",
       "      <td>2</td>\n",
       "      <td>12:09</td>\n",
       "      <td>REGULAR</td>\n",
       "      <td>9</td>\n",
       "      <td>10</td>\n",
       "      <td>3</td>\n",
       "      <td>...</td>\n",
       "      <td>Loser</td>\n",
       "      <td>0</td>\n",
       "      <td>0</td>\n",
       "      <td>0</td>\n",
       "      <td>0</td>\n",
       "      <td>2019-10-02</td>\n",
       "      <td>0 days 00:12:09</td>\n",
       "      <td>-17.684392</td>\n",
       "      <td>72.422372</td>\n",
       "      <td>0 days 00:32:09</td>\n",
       "    </tr>\n",
       "    <tr>\n",
       "      <th>...</th>\n",
       "      <td>...</td>\n",
       "      <td>...</td>\n",
       "      <td>...</td>\n",
       "      <td>...</td>\n",
       "      <td>...</td>\n",
       "      <td>...</td>\n",
       "      <td>...</td>\n",
       "      <td>...</td>\n",
       "      <td>...</td>\n",
       "      <td>...</td>\n",
       "      <td>...</td>\n",
       "      <td>...</td>\n",
       "      <td>...</td>\n",
       "      <td>...</td>\n",
       "      <td>...</td>\n",
       "      <td>...</td>\n",
       "      <td>...</td>\n",
       "      <td>...</td>\n",
       "      <td>...</td>\n",
       "      <td>...</td>\n",
       "      <td>...</td>\n",
       "    </tr>\n",
       "    <tr>\n",
       "      <th>342985</th>\n",
       "      <td>2019021082</td>\n",
       "      <td>303</td>\n",
       "      <td>Blocked Shot</td>\n",
       "      <td>Martin Frk shot blocked shot by Anthony Duclair</td>\n",
       "      <td>3</td>\n",
       "      <td>19:47</td>\n",
       "      <td>REGULAR</td>\n",
       "      <td>9</td>\n",
       "      <td>26</td>\n",
       "      <td>3</td>\n",
       "      <td>...</td>\n",
       "      <td>Shooter</td>\n",
       "      <td>0</td>\n",
       "      <td>0</td>\n",
       "      <td>0</td>\n",
       "      <td>0</td>\n",
       "      <td>2020-03-12</td>\n",
       "      <td>0 days 00:19:47</td>\n",
       "      <td>35.394796</td>\n",
       "      <td>46.615448</td>\n",
       "      <td>0 days 00:59:47</td>\n",
       "    </tr>\n",
       "    <tr>\n",
       "      <th>342986</th>\n",
       "      <td>2019021082</td>\n",
       "      <td>304</td>\n",
       "      <td>Period End</td>\n",
       "      <td>End of 3rd Period</td>\n",
       "      <td>3</td>\n",
       "      <td>20:00</td>\n",
       "      <td>REGULAR</td>\n",
       "      <td>9</td>\n",
       "      <td>26</td>\n",
       "      <td>3</td>\n",
       "      <td>...</td>\n",
       "      <td>0</td>\n",
       "      <td>0</td>\n",
       "      <td>0</td>\n",
       "      <td>0</td>\n",
       "      <td>0</td>\n",
       "      <td>2020-03-12</td>\n",
       "      <td>0 days 00:20:00</td>\n",
       "      <td>0.000000</td>\n",
       "      <td>89.000000</td>\n",
       "      <td>0 days 01:00:00</td>\n",
       "    </tr>\n",
       "    <tr>\n",
       "      <th>342987</th>\n",
       "      <td>2019021082</td>\n",
       "      <td>305</td>\n",
       "      <td>Period Official</td>\n",
       "      <td>Period Official</td>\n",
       "      <td>3</td>\n",
       "      <td>20:00</td>\n",
       "      <td>REGULAR</td>\n",
       "      <td>9</td>\n",
       "      <td>26</td>\n",
       "      <td>3</td>\n",
       "      <td>...</td>\n",
       "      <td>0</td>\n",
       "      <td>0</td>\n",
       "      <td>0</td>\n",
       "      <td>0</td>\n",
       "      <td>0</td>\n",
       "      <td>2020-03-12</td>\n",
       "      <td>0 days 00:20:00</td>\n",
       "      <td>0.000000</td>\n",
       "      <td>89.000000</td>\n",
       "      <td>0 days 01:00:00</td>\n",
       "    </tr>\n",
       "    <tr>\n",
       "      <th>342988</th>\n",
       "      <td>2019021082</td>\n",
       "      <td>306</td>\n",
       "      <td>Game End</td>\n",
       "      <td>Game End</td>\n",
       "      <td>3</td>\n",
       "      <td>20:00</td>\n",
       "      <td>REGULAR</td>\n",
       "      <td>9</td>\n",
       "      <td>26</td>\n",
       "      <td>3</td>\n",
       "      <td>...</td>\n",
       "      <td>0</td>\n",
       "      <td>0</td>\n",
       "      <td>0</td>\n",
       "      <td>0</td>\n",
       "      <td>0</td>\n",
       "      <td>2020-03-12</td>\n",
       "      <td>0 days 00:20:00</td>\n",
       "      <td>0.000000</td>\n",
       "      <td>89.000000</td>\n",
       "      <td>0 days 01:00:00</td>\n",
       "    </tr>\n",
       "    <tr>\n",
       "      <th>342989</th>\n",
       "      <td>2019021082</td>\n",
       "      <td>307</td>\n",
       "      <td>Game Official</td>\n",
       "      <td>Game Official</td>\n",
       "      <td>3</td>\n",
       "      <td>20:00</td>\n",
       "      <td>REGULAR</td>\n",
       "      <td>9</td>\n",
       "      <td>26</td>\n",
       "      <td>3</td>\n",
       "      <td>...</td>\n",
       "      <td>0</td>\n",
       "      <td>0</td>\n",
       "      <td>0</td>\n",
       "      <td>0</td>\n",
       "      <td>0</td>\n",
       "      <td>2020-03-12</td>\n",
       "      <td>0 days 00:20:00</td>\n",
       "      <td>0.000000</td>\n",
       "      <td>89.000000</td>\n",
       "      <td>0 days 01:00:00</td>\n",
       "    </tr>\n",
       "  </tbody>\n",
       "</table>\n",
       "<p>342790 rows × 26 columns</p>\n",
       "</div>"
      ],
      "text/plain": [
       "            gameId  eventId        eventType  \\\n",
       "200     2019020001      199      Missed Shot   \n",
       "201     2019020001      201          Faceoff   \n",
       "202     2019020001      202      Missed Shot   \n",
       "203     2019020001      203         Stoppage   \n",
       "204     2019020001      204          Faceoff   \n",
       "...            ...      ...              ...   \n",
       "342985  2019021082      303     Blocked Shot   \n",
       "342986  2019021082      304       Period End   \n",
       "342987  2019021082      305  Period Official   \n",
       "342988  2019021082      306         Game End   \n",
       "342989  2019021082      307    Game Official   \n",
       "\n",
       "                                            eventTypeDesc  period periodTime  \\\n",
       "200                                Brady Tkachuk Over Net       2      10:40   \n",
       "201     Chris Tierney faceoff won against Frederik Gau...       2      10:40   \n",
       "202                             Ilya Mikheyev Wide of Net       2      10:47   \n",
       "203                                               Offside       2      12:09   \n",
       "204     Auston Matthews faceoff won against Jean-Gabri...       2      12:09   \n",
       "...                                                   ...     ...        ...   \n",
       "342985    Martin Frk shot blocked shot by Anthony Duclair       3      19:47   \n",
       "342986                                  End of 3rd Period       3      20:00   \n",
       "342987                                    Period Official       3      20:00   \n",
       "342988                                           Game End       3      20:00   \n",
       "342989                                      Game Official       3      20:00   \n",
       "\n",
       "       periodType  teamAwayID  teamHomeID  goalsHome  ...  player2Type  \\\n",
       "200       REGULAR           9          10          3  ...            0   \n",
       "201       REGULAR           9          10          3  ...        Loser   \n",
       "202       REGULAR           9          10          3  ...            0   \n",
       "203       REGULAR           9          10          3  ...            0   \n",
       "204       REGULAR           9          10          3  ...        Loser   \n",
       "...           ...         ...         ...        ...  ...          ...   \n",
       "342985    REGULAR           9          26          3  ...      Shooter   \n",
       "342986    REGULAR           9          26          3  ...            0   \n",
       "342987    REGULAR           9          26          3  ...            0   \n",
       "342988    REGULAR           9          26          3  ...            0   \n",
       "342989    REGULAR           9          26          3  ...            0   \n",
       "\n",
       "        player3Id  player3Type  player4Id player4Type   startDate  \\\n",
       "200             0            0          0           0  2019-10-02   \n",
       "201             0            0          0           0  2019-10-02   \n",
       "202             0            0          0           0  2019-10-02   \n",
       "203             0            0          0           0  2019-10-02   \n",
       "204             0            0          0           0  2019-10-02   \n",
       "...           ...          ...        ...         ...         ...   \n",
       "342985          0            0          0           0  2020-03-12   \n",
       "342986          0            0          0           0  2020-03-12   \n",
       "342987          0            0          0           0  2020-03-12   \n",
       "342988          0            0          0           0  2020-03-12   \n",
       "342989          0            0          0           0  2020-03-12   \n",
       "\n",
       "        periodTimeFull  shot_angle shot_distance  TMP_periodTimeFull  \n",
       "200    0 days 00:10:40    8.130102      7.071068     0 days 00:30:40  \n",
       "201    0 days 00:10:40   47.726311     29.732137     0 days 00:30:40  \n",
       "202    0 days 00:10:47   18.741340     59.135438     0 days 00:30:47  \n",
       "203    0 days 00:12:09    0.000000     89.000000     0 days 00:32:09  \n",
       "204    0 days 00:12:09  -17.684392     72.422372     0 days 00:32:09  \n",
       "...                ...         ...           ...                 ...  \n",
       "342985 0 days 00:19:47   35.394796     46.615448     0 days 00:59:47  \n",
       "342986 0 days 00:20:00    0.000000     89.000000     0 days 01:00:00  \n",
       "342987 0 days 00:20:00    0.000000     89.000000     0 days 01:00:00  \n",
       "342988 0 days 00:20:00    0.000000     89.000000     0 days 01:00:00  \n",
       "342989 0 days 00:20:00    0.000000     89.000000     0 days 01:00:00  \n",
       "\n",
       "[342790 rows x 26 columns]"
      ]
     },
     "execution_count": 1328,
     "metadata": {},
     "output_type": "execute_result"
    }
   ],
   "source": [
    "\n",
    "#events_df['TMP_periodTimeFull'] = ''\n",
    "#events_df['TMP_periodTimeFull']  = events_df['periodTimeFull'] + ((events_df['period']-1) * pd.to_timedelta('00:20:00'))\n",
    "events_df[200:]\n",
    "#print((events_df['period']-1))"
   ]
  },
  {
   "cell_type": "code",
   "execution_count": null,
   "id": "8315eb23",
   "metadata": {},
   "outputs": [],
   "source": []
  },
  {
   "cell_type": "code",
   "execution_count": null,
   "id": "1125d806",
   "metadata": {},
   "outputs": [],
   "source": []
  }
 ],
 "metadata": {
  "kernelspec": {
   "display_name": "Python 3 (ipykernel)",
   "language": "python",
   "name": "python3"
  },
  "language_info": {
   "codemirror_mode": {
    "name": "ipython",
    "version": 3
   },
   "file_extension": ".py",
   "mimetype": "text/x-python",
   "name": "python",
   "nbconvert_exporter": "python",
   "pygments_lexer": "ipython3",
   "version": "3.9.12"
  }
 },
 "nbformat": 4,
 "nbformat_minor": 5
}
