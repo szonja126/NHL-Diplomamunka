{
 "cells": [
  {
   "cell_type": "code",
   "execution_count": 167,
   "id": "e0b1557e",
   "metadata": {},
   "outputs": [],
   "source": [
    "import requests\n",
    "import pickle\n",
    "import pandas as pd\n",
    "import json as js\n",
    "import matplotlib.pyplot as plt\n",
    "import numpy as np\n",
    "import seaborn as sb\n",
    "from sklearn.cluster import KMeans\n",
    "from matplotlib.dates import DateFormatter, date2num\n",
    "import plotly.express as px\n",
    "import math\n",
    "import datetime as dt\n",
    "import matplotlib.lines as mlines"
   ]
  },
  {
   "cell_type": "code",
   "execution_count": 168,
   "id": "49bfa0cd",
   "metadata": {},
   "outputs": [],
   "source": [
    "players_df = pd.concat(map(pd.read_csv, ['players_df_2021_1.csv', 'players_df_2021_2.csv']))\n",
    "teams_df = pd.concat(map(pd.read_csv, ['teams_df_2021_1.csv', 'teams_df_2021_2.csv']))\n",
    "teams_df = teams_df.drop_duplicates()\n",
    "teams_df = teams_df.sort_values('id')\n",
    "games_df = pd.concat(map(pd.read_csv, ['games_df_2021_1.csv', 'games_df_2021_2.csv']))\n",
    "#events_df = pd.read_csv('events_df.csv')\n",
    "#players_df.to_csv('players_final.csv')\n",
    "#teams_df.to_csv('teams_final.csv')\n",
    "#games_df.to_csv('games_final.csv')"
   ]
  },
  {
   "cell_type": "code",
   "execution_count": 169,
   "id": "d6e6341b",
   "metadata": {},
   "outputs": [],
   "source": [
    "events_df = pd.concat(map(pd.read_csv, ['events_df_2021_1.csv', 'events_df_2021_2.csv']))"
   ]
  },
  {
   "cell_type": "code",
   "execution_count": 170,
   "id": "becb201a",
   "metadata": {},
   "outputs": [],
   "source": [
    "#EVENTS_DF cicomazas\n",
    "#Nullas sorok feltoltese hogy utana int-re valtoztathassuk\n",
    "events_df = events_df.fillna(0)\n",
    "events_df = events_df.astype({'player1Id': 'int64','player2Id':'int64','player3Id':'int64','player4Id':'int64',\n",
    "                              'coX': 'int64','coY':'int64'})"
   ]
  },
  {
   "cell_type": "code",
   "execution_count": 171,
   "id": "e8d01a65",
   "metadata": {},
   "outputs": [],
   "source": [
    "#Distinct jatek datumok uj dataframeben mert az elejen elfelejtettem belevenni a read api-ba\n",
    "date_df =  games_df.loc[:,['pk','startDate']]\n",
    "#Ramergeljuk az events_df-re\n",
    "events_df = pd.merge(left=events_df, right=date_df, left_on='gameId', right_on='pk', how='left')\n",
    "events_df = events_df.drop(columns=['pk'])\n",
    "#A datum vegerol levagjuk a felesleges reszt hogy szep legyen\n",
    "events_df['startDate'] = events_df['startDate'].str[:10]"
   ]
  },
  {
   "cell_type": "code",
   "execution_count": 172,
   "id": "644f2401",
   "metadata": {},
   "outputs": [],
   "source": [
    "#A periodTime konvertalasa Timedelta tipusra\n",
    "events_df['periodTimeFull'] = pd.to_timedelta(events_df['periodTime'].apply(lambda x: f'00:{x}'))\n",
    "#periodtime atszamitasa teljes idotartamra a 3x20 perc helyett\n",
    "events_df['periodTimeFull']  = events_df['periodTimeFull'] + ((events_df['period']-1) * pd.to_timedelta('00:20:00'))\n",
    "#Kerekitjuk percekre\n",
    "events_df['periodTimeFull_rounded'] = events_df['periodTimeFull'].dt.round('60s')"
   ]
  },
  {
   "cell_type": "code",
   "execution_count": 173,
   "id": "37bd2b3d",
   "metadata": {},
   "outputs": [
    {
     "name": "stderr",
     "output_type": "stream",
     "text": [
      "/var/folders/z6/nzpwwscs6qj7t6gldff9vtlw0000gn/T/ipykernel_57337/31992080.py:4: SettingWithCopyWarning: \n",
      "A value is trying to be set on a copy of a slice from a DataFrame\n",
      "\n",
      "See the caveats in the documentation: https://pandas.pydata.org/pandas-docs/stable/user_guide/indexing.html#returning-a-view-versus-a-copy\n",
      "  events_df['coX'].iloc[idx] = abs(events_df['coX'].iloc[idx])\n",
      "/var/folders/z6/nzpwwscs6qj7t6gldff9vtlw0000gn/T/ipykernel_57337/31992080.py:5: SettingWithCopyWarning: \n",
      "A value is trying to be set on a copy of a slice from a DataFrame\n",
      "\n",
      "See the caveats in the documentation: https://pandas.pydata.org/pandas-docs/stable/user_guide/indexing.html#returning-a-view-versus-a-copy\n",
      "  events_df['coY'].iloc[idx] = events_df['coY'].iloc[idx]*-1\n"
     ]
    }
   ],
   "source": [
    "#Tukrozzuk az esemenyeket az origora, nagyon sokaig tart...\n",
    "for idx, i in enumerate(events_df['coX']):\n",
    "    if i<0:\n",
    "        events_df['coX'].iloc[idx] = abs(events_df['coX'].iloc[idx])\n",
    "        events_df['coY'].iloc[idx] = events_df['coY'].iloc[idx]*-1"
   ]
  },
  {
   "cell_type": "code",
   "execution_count": 174,
   "id": "3ca06629",
   "metadata": {},
   "outputs": [
    {
     "name": "stderr",
     "output_type": "stream",
     "text": [
      "/var/folders/z6/nzpwwscs6qj7t6gldff9vtlw0000gn/T/ipykernel_57337/3611514764.py:6: RuntimeWarning: divide by zero encountered in long_scalars\n",
      "  lambda row: np.arctan(row['coY']/(goalcenter_x-row['coX']))*(180/np.pi),\n"
     ]
    }
   ],
   "source": [
    "#Shot distance and angle\n",
    "goalcenter_x = 89\n",
    "goalcenter_y = 0\n",
    "\n",
    "events_df['shot_angle'] = events_df[['coX','coY']].apply(\n",
    "    lambda row: np.arctan(row['coY']/(goalcenter_x-row['coX']))*(180/np.pi),\n",
    "    axis=1)\n",
    "\n",
    "events_df['shot_distance'] = events_df[['coX','coY']].apply(\n",
    "    lambda row: np.sqrt((row['coX']-goalcenter_x)**2 + (row['coY']-goalcenter_y)**2), axis=1)"
   ]
  },
  {
   "cell_type": "code",
   "execution_count": 1344,
   "id": "3aa4ce2e",
   "metadata": {},
   "outputs": [],
   "source": [
    "#events_df.dtypes\n",
    "#events_df[300:]\n",
    "#events_df.to_csv('events_final.csv')"
   ]
  },
  {
   "cell_type": "code",
   "execution_count": 175,
   "id": "06628d44",
   "metadata": {},
   "outputs": [],
   "source": [
    "#Data Exploratory: Weight and height convert\n",
    "\n",
    "#Weights from lbs to kg\n",
    "weight = np.array(players_df['weight'])\n",
    "x = 0\n",
    "for i in weight:\n",
    "    weight[x] = round(i * 0.453592, 1)\n",
    "    x += 1\n",
    "    \n",
    "#Heights from feet and inches to cm\n",
    "height = np.array(players_df['height'])\n",
    "y = 0\n",
    "for i in height:\n",
    "    height[y] = int(i[0:1])*30.48 + int(i[2:i.find('\"\"')])*2.54\n",
    "    y += 1\n",
    "\n",
    "players_df['weight_kg'] = weight\n",
    "players_df['height_cm'] = height"
   ]
  },
  {
   "cell_type": "code",
   "execution_count": 176,
   "id": "95645b8f",
   "metadata": {},
   "outputs": [],
   "source": [
    "players_distinct = players_df\n",
    "players_distinct = players_distinct.drop(columns='gameId')\n",
    "players_distinct = players_distinct.drop_duplicates()"
   ]
  },
  {
   "cell_type": "code",
   "execution_count": 188,
   "id": "e507127b",
   "metadata": {
    "scrolled": true
   },
   "outputs": [
    {
     "data": {
      "text/plain": [
       "id                      int64\n",
       "fullName               object\n",
       "link                   object\n",
       "firstName              object\n",
       "lastName               object\n",
       "primaryNumber         float64\n",
       "birthDate              object\n",
       "currentAge              int64\n",
       "birthCity              object\n",
       "birthStateProvince     object\n",
       "birthCountry           object\n",
       "nationality            object\n",
       "height                 object\n",
       "weight                  int64\n",
       "active                   bool\n",
       "alternateCaptain         bool\n",
       "captain                  bool\n",
       "rookie                   bool\n",
       "shootsCatches          object\n",
       "rosterStatus           object\n",
       "teamID                  int64\n",
       "pPos                   object\n",
       "weight_kg               int64\n",
       "height_cm               int64\n",
       "dtype: object"
      ]
     },
     "execution_count": 188,
     "metadata": {},
     "output_type": "execute_result"
    }
   ],
   "source": [
    "players_distinct = players_distinct.astype({'height_cm': 'int64'})\n",
    "players_distinct.dtypes"
   ]
  },
  {
   "cell_type": "code",
   "execution_count": 177,
   "id": "c6804959",
   "metadata": {
    "scrolled": true
   },
   "outputs": [
    {
     "data": {
      "text/html": [
       "<div>\n",
       "<style scoped>\n",
       "    .dataframe tbody tr th:only-of-type {\n",
       "        vertical-align: middle;\n",
       "    }\n",
       "\n",
       "    .dataframe tbody tr th {\n",
       "        vertical-align: top;\n",
       "    }\n",
       "\n",
       "    .dataframe thead th {\n",
       "        text-align: right;\n",
       "    }\n",
       "</style>\n",
       "<table border=\"1\" class=\"dataframe\">\n",
       "  <thead>\n",
       "    <tr style=\"text-align: right;\">\n",
       "      <th></th>\n",
       "      <th>currentAge</th>\n",
       "      <th>id</th>\n",
       "      <th>name</th>\n",
       "    </tr>\n",
       "  </thead>\n",
       "  <tbody>\n",
       "    <tr>\n",
       "      <th>0</th>\n",
       "      <td>25.7</td>\n",
       "      <td>1</td>\n",
       "      <td>New Jersey Devils</td>\n",
       "    </tr>\n",
       "    <tr>\n",
       "      <th>1</th>\n",
       "      <td>26.2</td>\n",
       "      <td>29</td>\n",
       "      <td>Columbus Blue Jackets</td>\n",
       "    </tr>\n",
       "    <tr>\n",
       "      <th>2</th>\n",
       "      <td>26.5</td>\n",
       "      <td>9</td>\n",
       "      <td>Ottawa Senators</td>\n",
       "    </tr>\n",
       "    <tr>\n",
       "      <th>3</th>\n",
       "      <td>26.6</td>\n",
       "      <td>3</td>\n",
       "      <td>New York Rangers</td>\n",
       "    </tr>\n",
       "    <tr>\n",
       "      <th>4</th>\n",
       "      <td>26.6</td>\n",
       "      <td>26</td>\n",
       "      <td>Los Angeles Kings</td>\n",
       "    </tr>\n",
       "    <tr>\n",
       "      <th>5</th>\n",
       "      <td>26.7</td>\n",
       "      <td>7</td>\n",
       "      <td>Buffalo Sabres</td>\n",
       "    </tr>\n",
       "    <tr>\n",
       "      <th>6</th>\n",
       "      <td>26.8</td>\n",
       "      <td>17</td>\n",
       "      <td>Detroit Red Wings</td>\n",
       "    </tr>\n",
       "    <tr>\n",
       "      <th>7</th>\n",
       "      <td>27.2</td>\n",
       "      <td>16</td>\n",
       "      <td>Chicago Blackhawks</td>\n",
       "    </tr>\n",
       "    <tr>\n",
       "      <th>8</th>\n",
       "      <td>27.4</td>\n",
       "      <td>18</td>\n",
       "      <td>Nashville Predators</td>\n",
       "    </tr>\n",
       "    <tr>\n",
       "      <th>9</th>\n",
       "      <td>27.5</td>\n",
       "      <td>8</td>\n",
       "      <td>Montréal Canadiens</td>\n",
       "    </tr>\n",
       "    <tr>\n",
       "      <th>10</th>\n",
       "      <td>27.5</td>\n",
       "      <td>52</td>\n",
       "      <td>Winnipeg Jets</td>\n",
       "    </tr>\n",
       "    <tr>\n",
       "      <th>11</th>\n",
       "      <td>27.5</td>\n",
       "      <td>24</td>\n",
       "      <td>Anaheim Ducks</td>\n",
       "    </tr>\n",
       "    <tr>\n",
       "      <th>12</th>\n",
       "      <td>27.5</td>\n",
       "      <td>54</td>\n",
       "      <td>Vegas Golden Knights</td>\n",
       "    </tr>\n",
       "    <tr>\n",
       "      <th>13</th>\n",
       "      <td>27.6</td>\n",
       "      <td>23</td>\n",
       "      <td>Vancouver Canucks</td>\n",
       "    </tr>\n",
       "    <tr>\n",
       "      <th>14</th>\n",
       "      <td>27.6</td>\n",
       "      <td>21</td>\n",
       "      <td>Colorado Avalanche</td>\n",
       "    </tr>\n",
       "    <tr>\n",
       "      <th>15</th>\n",
       "      <td>27.8</td>\n",
       "      <td>28</td>\n",
       "      <td>San Jose Sharks</td>\n",
       "    </tr>\n",
       "    <tr>\n",
       "      <th>16</th>\n",
       "      <td>27.9</td>\n",
       "      <td>13</td>\n",
       "      <td>Florida Panthers</td>\n",
       "    </tr>\n",
       "    <tr>\n",
       "      <th>17</th>\n",
       "      <td>27.9</td>\n",
       "      <td>12</td>\n",
       "      <td>Carolina Hurricanes</td>\n",
       "    </tr>\n",
       "    <tr>\n",
       "      <th>18</th>\n",
       "      <td>28.2</td>\n",
       "      <td>55</td>\n",
       "      <td>Seattle Kraken</td>\n",
       "    </tr>\n",
       "    <tr>\n",
       "      <th>19</th>\n",
       "      <td>28.2</td>\n",
       "      <td>53</td>\n",
       "      <td>Arizona Coyotes</td>\n",
       "    </tr>\n",
       "    <tr>\n",
       "      <th>20</th>\n",
       "      <td>28.3</td>\n",
       "      <td>4</td>\n",
       "      <td>Philadelphia Flyers</td>\n",
       "    </tr>\n",
       "    <tr>\n",
       "      <th>21</th>\n",
       "      <td>28.5</td>\n",
       "      <td>19</td>\n",
       "      <td>St. Louis Blues</td>\n",
       "    </tr>\n",
       "    <tr>\n",
       "      <th>22</th>\n",
       "      <td>28.5</td>\n",
       "      <td>6</td>\n",
       "      <td>Boston Bruins</td>\n",
       "    </tr>\n",
       "    <tr>\n",
       "      <th>23</th>\n",
       "      <td>28.6</td>\n",
       "      <td>10</td>\n",
       "      <td>Toronto Maple Leafs</td>\n",
       "    </tr>\n",
       "    <tr>\n",
       "      <th>24</th>\n",
       "      <td>28.6</td>\n",
       "      <td>10</td>\n",
       "      <td>Toronto Maple Leafs</td>\n",
       "    </tr>\n",
       "    <tr>\n",
       "      <th>25</th>\n",
       "      <td>28.7</td>\n",
       "      <td>22</td>\n",
       "      <td>Edmonton Oilers</td>\n",
       "    </tr>\n",
       "    <tr>\n",
       "      <th>26</th>\n",
       "      <td>28.8</td>\n",
       "      <td>20</td>\n",
       "      <td>Calgary Flames</td>\n",
       "    </tr>\n",
       "    <tr>\n",
       "      <th>27</th>\n",
       "      <td>28.8</td>\n",
       "      <td>30</td>\n",
       "      <td>Minnesota Wild</td>\n",
       "    </tr>\n",
       "    <tr>\n",
       "      <th>28</th>\n",
       "      <td>29.2</td>\n",
       "      <td>14</td>\n",
       "      <td>Tampa Bay Lightning</td>\n",
       "    </tr>\n",
       "    <tr>\n",
       "      <th>29</th>\n",
       "      <td>29.3</td>\n",
       "      <td>25</td>\n",
       "      <td>Dallas Stars</td>\n",
       "    </tr>\n",
       "    <tr>\n",
       "      <th>30</th>\n",
       "      <td>29.4</td>\n",
       "      <td>15</td>\n",
       "      <td>Washington Capitals</td>\n",
       "    </tr>\n",
       "    <tr>\n",
       "      <th>31</th>\n",
       "      <td>29.5</td>\n",
       "      <td>5</td>\n",
       "      <td>Pittsburgh Penguins</td>\n",
       "    </tr>\n",
       "    <tr>\n",
       "      <th>32</th>\n",
       "      <td>29.9</td>\n",
       "      <td>2</td>\n",
       "      <td>New York Islanders</td>\n",
       "    </tr>\n",
       "  </tbody>\n",
       "</table>\n",
       "</div>"
      ],
      "text/plain": [
       "    currentAge  id                   name\n",
       "0         25.7   1      New Jersey Devils\n",
       "1         26.2  29  Columbus Blue Jackets\n",
       "2         26.5   9        Ottawa Senators\n",
       "3         26.6   3       New York Rangers\n",
       "4         26.6  26      Los Angeles Kings\n",
       "5         26.7   7         Buffalo Sabres\n",
       "6         26.8  17      Detroit Red Wings\n",
       "7         27.2  16     Chicago Blackhawks\n",
       "8         27.4  18    Nashville Predators\n",
       "9         27.5   8     Montréal Canadiens\n",
       "10        27.5  52          Winnipeg Jets\n",
       "11        27.5  24          Anaheim Ducks\n",
       "12        27.5  54   Vegas Golden Knights\n",
       "13        27.6  23      Vancouver Canucks\n",
       "14        27.6  21     Colorado Avalanche\n",
       "15        27.8  28        San Jose Sharks\n",
       "16        27.9  13       Florida Panthers\n",
       "17        27.9  12    Carolina Hurricanes\n",
       "18        28.2  55         Seattle Kraken\n",
       "19        28.2  53        Arizona Coyotes\n",
       "20        28.3   4    Philadelphia Flyers\n",
       "21        28.5  19        St. Louis Blues\n",
       "22        28.5   6          Boston Bruins\n",
       "23        28.6  10    Toronto Maple Leafs\n",
       "24        28.6  10    Toronto Maple Leafs\n",
       "25        28.7  22        Edmonton Oilers\n",
       "26        28.8  20         Calgary Flames\n",
       "27        28.8  30         Minnesota Wild\n",
       "28        29.2  14    Tampa Bay Lightning\n",
       "29        29.3  25           Dallas Stars\n",
       "30        29.4  15    Washington Capitals\n",
       "31        29.5   5    Pittsburgh Penguins\n",
       "32        29.9   2     New York Islanders"
      ]
     },
     "execution_count": 177,
     "metadata": {},
     "output_type": "execute_result"
    }
   ],
   "source": [
    "#Data Exploratory: Atlagos eletkor\n",
    "avg_age = pd.DataFrame()\n",
    "avg_age = round(players_df.groupby('teamID')['currentAge'].mean(),1).sort_values()\n",
    "teamsname = teams_df[['id','name']]\n",
    "agebyteams = pd.merge(left=avg_age, right=teamsname, left_on='teamID', right_on='id', how='left')\n",
    "agebyteams\n",
    "#avg_age\n",
    "#plt.hist(avg_age)"
   ]
  },
  {
   "cell_type": "code",
   "execution_count": 178,
   "id": "f852f994",
   "metadata": {},
   "outputs": [
    {
     "data": {
      "image/png": "[encoded data removed]",
      "text/plain": [
       "<Figure size 432x288 with 1 Axes>"
      ]
     },
     "metadata": {
      "needs_background": "light"
     },
     "output_type": "display_data"
    }
   ],
   "source": [
    "plt.hist(players_distinct['currentAge'])\n",
    "plt.title('Age Distribution of NHL Players')\n",
    "plt.xlabel('Age')\n",
    "plt.show()"
   ]
  },
  {
   "cell_type": "code",
   "execution_count": 179,
   "id": "9dbbdeb6",
   "metadata": {
    "scrolled": true
   },
   "outputs": [
    {
     "data": {
      "image/png": "[encoded data removed]",
      "text/plain": [
       "<Figure size 432x288 with 1 Axes>"
      ]
     },
     "metadata": {
      "needs_background": "light"
     },
     "output_type": "display_data"
    }
   ],
   "source": [
    "plt.boxplot(players_distinct['height_cm'])\n",
    "plt.title('Heights of NHL players')\n",
    "plt.xlabel('Height (cm)')\n",
    "plt.show()"
   ]
  },
  {
   "cell_type": "code",
   "execution_count": 180,
   "id": "6df79363",
   "metadata": {},
   "outputs": [
    {
     "data": {
      "image/png": "[encoded data removed]",
      "text/plain": [
       "<Figure size 432x288 with 1 Axes>"
      ]
     },
     "metadata": {
      "needs_background": "light"
     },
     "output_type": "display_data"
    }
   ],
   "source": [
    "plt.boxplot(players_distinct['weight_kg'])\n",
    "plt.title('Weights of NHL players')\n",
    "plt.xlabel('Weight (kg)')\n",
    "plt.show()"
   ]
  },
  {
   "cell_type": "code",
   "execution_count": 181,
   "id": "579ecfad",
   "metadata": {},
   "outputs": [
    {
     "data": {
      "image/png": "[encoded data removed]",
      "text/plain": [
       "<Figure size 432x288 with 1 Axes>"
      ]
     },
     "metadata": {
      "needs_background": "light"
     },
     "output_type": "display_data"
    }
   ],
   "source": [
    "#Data Exploratory: Distribution of weights\n",
    "plt.hist(players_distinct['weight_kg'])\n",
    "plt.title('Weight Distribution of NHL Players')\n",
    "plt.xlabel('Weight (kg)')\n",
    "plt.show()"
   ]
  },
  {
   "cell_type": "code",
   "execution_count": 182,
   "id": "bc19cbca",
   "metadata": {},
   "outputs": [
    {
     "data": {
      "image/png": "[encoded data removed]",
      "text/plain": [
       "<Figure size 432x288 with 1 Axes>"
      ]
     },
     "metadata": {
      "needs_background": "light"
     },
     "output_type": "display_data"
    }
   ],
   "source": [
    "#Data Exploratory: Distribution of heights\n",
    "plt.hist(players_distinct['height_cm'])\n",
    "plt.title('Height Distribution of NHL Players')\n",
    "plt.xlabel('Height (cm)')\n",
    "plt.show()"
   ]
  },
  {
   "cell_type": "code",
   "execution_count": 183,
   "id": "6c9e4a6d",
   "metadata": {},
   "outputs": [
    {
     "data": {
      "text/plain": [
       "count    2042.000000\n",
       "mean       89.372674\n",
       "std         7.037918\n",
       "min        69.000000\n",
       "25%        84.000000\n",
       "50%        89.000000\n",
       "75%        94.000000\n",
       "max       116.000000\n",
       "Name: weight_kg, dtype: float64"
      ]
     },
     "execution_count": 183,
     "metadata": {},
     "output_type": "execute_result"
    }
   ],
   "source": [
    "players_distinct['weight_kg'].describe()"
   ]
  },
  {
   "cell_type": "code",
   "execution_count": 184,
   "id": "a2596eb3",
   "metadata": {},
   "outputs": [
    {
     "data": {
      "text/plain": [
       "count     2042.00\n",
       "unique      16.00\n",
       "top        187.96\n",
       "freq       368.00\n",
       "Name: height_cm, dtype: float64"
      ]
     },
     "execution_count": 184,
     "metadata": {},
     "output_type": "execute_result"
    }
   ],
   "source": [
    "players_distinct['height_cm'].describe()"
   ]
  },
  {
   "cell_type": "code",
   "execution_count": 185,
   "id": "bab5d766",
   "metadata": {},
   "outputs": [
    {
     "data": {
      "text/plain": [
       "Text(0, 0.5, 'Weight (kg)')"
      ]
     },
     "execution_count": 185,
     "metadata": {},
     "output_type": "execute_result"
    },
    {
     "data": {
      "image/png": "[encoded data removed]",
      "text/plain": [
       "<Figure size 432x288 with 1 Axes>"
      ]
     },
     "metadata": {
      "needs_background": "light"
     },
     "output_type": "display_data"
    }
   ],
   "source": [
    "players_distinct.plot(x='height_cm',y='weight_kg', kind='scatter',s=20)\n",
    "plt.xlabel('Height (cm)')\n",
    "plt.ylabel('Weight (kg)')"
   ]
  },
  {
   "cell_type": "code",
   "execution_count": 186,
   "id": "6364e147",
   "metadata": {},
   "outputs": [
    {
     "data": {
      "text/plain": [
       "Text(0, 0.5, 'Weight (kg)')"
      ]
     },
     "execution_count": 186,
     "metadata": {},
     "output_type": "execute_result"
    },
    {
     "data": {
      "image/png": "[encoded data removed]",
      "text/plain": [
       "<Figure size 432x288 with 1 Axes>"
      ]
     },
     "metadata": {
      "needs_background": "light"
     },
     "output_type": "display_data"
    }
   ],
   "source": [
    "ax = sb.violinplot(y=players_distinct['weight_kg'])\n",
    "ax.set_ylabel('Weight (kg)')"
   ]
  },
  {
   "cell_type": "code",
   "execution_count": 189,
   "id": "f592c527",
   "metadata": {},
   "outputs": [
    {
     "data": {
      "text/plain": [
       "Text(0, 0.5, 'Height (cm)')"
      ]
     },
     "execution_count": 189,
     "metadata": {},
     "output_type": "execute_result"
    },
    {
     "data": {
      "image/png": "[encoded data removed]",
      "text/plain": [
       "<Figure size 432x288 with 1 Axes>"
      ]
     },
     "metadata": {
      "needs_background": "light"
     },
     "output_type": "display_data"
    }
   ],
   "source": [
    "ax = sb.violinplot(y=players_distinct['height_cm'])\n",
    "ax.set_ylabel('Height (cm)')"
   ]
  },
  {
   "cell_type": "code",
   "execution_count": 190,
   "id": "a6f2c10a",
   "metadata": {
    "scrolled": true
   },
   "outputs": [
    {
     "data": {
      "text/html": [
       "<div>\n",
       "<style scoped>\n",
       "    .dataframe tbody tr th:only-of-type {\n",
       "        vertical-align: middle;\n",
       "    }\n",
       "\n",
       "    .dataframe tbody tr th {\n",
       "        vertical-align: top;\n",
       "    }\n",
       "\n",
       "    .dataframe thead th {\n",
       "        text-align: right;\n",
       "    }\n",
       "</style>\n",
       "<table border=\"1\" class=\"dataframe\">\n",
       "  <thead>\n",
       "    <tr style=\"text-align: right;\">\n",
       "      <th></th>\n",
       "      <th>gameId</th>\n",
       "      <th>eventId</th>\n",
       "      <th>eventType</th>\n",
       "      <th>eventTypeDesc</th>\n",
       "      <th>period</th>\n",
       "      <th>periodTime</th>\n",
       "      <th>periodType</th>\n",
       "      <th>teamAwayID</th>\n",
       "      <th>teamHomeID</th>\n",
       "      <th>goalsHome</th>\n",
       "      <th>...</th>\n",
       "      <th>player3Type</th>\n",
       "      <th>player3Name</th>\n",
       "      <th>player4Id</th>\n",
       "      <th>player4Type</th>\n",
       "      <th>player4Name</th>\n",
       "      <th>startDate</th>\n",
       "      <th>periodTimeFull</th>\n",
       "      <th>periodTimeFull_rounded</th>\n",
       "      <th>shot_angle</th>\n",
       "      <th>shot_distance</th>\n",
       "    </tr>\n",
       "  </thead>\n",
       "  <tbody>\n",
       "    <tr>\n",
       "      <th>1223</th>\n",
       "      <td>2021020004</td>\n",
       "      <td>213</td>\n",
       "      <td>Goal</td>\n",
       "      <td>Alex Ovechkin (1) Wrist Shot, assists: Anthony...</td>\n",
       "      <td>3</td>\n",
       "      <td>02:37</td>\n",
       "      <td>REGULAR</td>\n",
       "      <td>3</td>\n",
       "      <td>15</td>\n",
       "      <td>4</td>\n",
       "      <td>...</td>\n",
       "      <td>Assist</td>\n",
       "      <td>John Carlson</td>\n",
       "      <td>8480382</td>\n",
       "      <td>Goalie</td>\n",
       "      <td>Alexandar Georgiev</td>\n",
       "      <td>2021-10-13</td>\n",
       "      <td>0 days 00:42:37</td>\n",
       "      <td>0 days 00:43:00</td>\n",
       "      <td>49.763642</td>\n",
       "      <td>17.029386</td>\n",
       "    </tr>\n",
       "    <tr>\n",
       "      <th>1267</th>\n",
       "      <td>2021020004</td>\n",
       "      <td>257</td>\n",
       "      <td>Goal</td>\n",
       "      <td>Alex Ovechkin (2) Backhand, assists: Evgeny Ku...</td>\n",
       "      <td>3</td>\n",
       "      <td>12:01</td>\n",
       "      <td>REGULAR</td>\n",
       "      <td>3</td>\n",
       "      <td>15</td>\n",
       "      <td>5</td>\n",
       "      <td>...</td>\n",
       "      <td>Assist</td>\n",
       "      <td>Trevor van Riemsdyk</td>\n",
       "      <td>8480382</td>\n",
       "      <td>Goalie</td>\n",
       "      <td>Alexandar Georgiev</td>\n",
       "      <td>2021-10-13</td>\n",
       "      <td>0 days 00:52:01</td>\n",
       "      <td>0 days 00:52:00</td>\n",
       "      <td>30.963757</td>\n",
       "      <td>5.830952</td>\n",
       "    </tr>\n",
       "    <tr>\n",
       "      <th>8630</th>\n",
       "      <td>2021020027</td>\n",
       "      <td>189</td>\n",
       "      <td>Goal</td>\n",
       "      <td>Alex Ovechkin (3) Snap Shot, assists: Trevor v...</td>\n",
       "      <td>2</td>\n",
       "      <td>18:51</td>\n",
       "      <td>REGULAR</td>\n",
       "      <td>14</td>\n",
       "      <td>15</td>\n",
       "      <td>1</td>\n",
       "      <td>...</td>\n",
       "      <td>Assist</td>\n",
       "      <td>Tom Wilson</td>\n",
       "      <td>8476883</td>\n",
       "      <td>Goalie</td>\n",
       "      <td>Andrei Vasilevskiy</td>\n",
       "      <td>2021-10-16</td>\n",
       "      <td>0 days 00:38:51</td>\n",
       "      <td>0 days 00:39:00</td>\n",
       "      <td>-3.691386</td>\n",
       "      <td>31.064449</td>\n",
       "    </tr>\n",
       "    <tr>\n",
       "      <th>14302</th>\n",
       "      <td>2021020045</td>\n",
       "      <td>288</td>\n",
       "      <td>Goal</td>\n",
       "      <td>Alex Ovechkin (4) Wrist Shot, assists: Tom Wil...</td>\n",
       "      <td>3</td>\n",
       "      <td>17:39</td>\n",
       "      <td>REGULAR</td>\n",
       "      <td>21</td>\n",
       "      <td>15</td>\n",
       "      <td>6</td>\n",
       "      <td>...</td>\n",
       "      <td>Assist</td>\n",
       "      <td>Evgeny Kuznetsov</td>\n",
       "      <td>0</td>\n",
       "      <td>0</td>\n",
       "      <td>0</td>\n",
       "      <td>2021-10-19</td>\n",
       "      <td>0 days 00:57:39</td>\n",
       "      <td>0 days 00:58:00</td>\n",
       "      <td>30.256437</td>\n",
       "      <td>41.677332</td>\n",
       "    </tr>\n",
       "    <tr>\n",
       "      <th>22731</th>\n",
       "      <td>2021020072</td>\n",
       "      <td>182</td>\n",
       "      <td>Goal</td>\n",
       "      <td>Alex Ovechkin (5) Wrist Shot, assists: none</td>\n",
       "      <td>2</td>\n",
       "      <td>18:03</td>\n",
       "      <td>REGULAR</td>\n",
       "      <td>20</td>\n",
       "      <td>15</td>\n",
       "      <td>3</td>\n",
       "      <td>...</td>\n",
       "      <td>0</td>\n",
       "      <td>0</td>\n",
       "      <td>0</td>\n",
       "      <td>0</td>\n",
       "      <td>0</td>\n",
       "      <td>2021-10-23</td>\n",
       "      <td>0 days 00:38:03</td>\n",
       "      <td>0 days 00:38:00</td>\n",
       "      <td>35.753887</td>\n",
       "      <td>30.805844</td>\n",
       "    </tr>\n",
       "    <tr>\n",
       "      <th>26513</th>\n",
       "      <td>2021020084</td>\n",
       "      <td>230</td>\n",
       "      <td>Goal</td>\n",
       "      <td>Alex Ovechkin (6) Wrist Shot, assists: none</td>\n",
       "      <td>2</td>\n",
       "      <td>16:27</td>\n",
       "      <td>REGULAR</td>\n",
       "      <td>15</td>\n",
       "      <td>9</td>\n",
       "      <td>4</td>\n",
       "      <td>...</td>\n",
       "      <td>0</td>\n",
       "      <td>0</td>\n",
       "      <td>0</td>\n",
       "      <td>0</td>\n",
       "      <td>0</td>\n",
       "      <td>2021-10-25</td>\n",
       "      <td>0 days 00:36:27</td>\n",
       "      <td>0 days 00:36:00</td>\n",
       "      <td>-16.699244</td>\n",
       "      <td>10.440307</td>\n",
       "    </tr>\n",
       "    <tr>\n",
       "      <th>26584</th>\n",
       "      <td>2021020084</td>\n",
       "      <td>301</td>\n",
       "      <td>Goal</td>\n",
       "      <td>Alex Ovechkin (7) Wrist Shot, assists: Tom Wil...</td>\n",
       "      <td>3</td>\n",
       "      <td>10:46</td>\n",
       "      <td>REGULAR</td>\n",
       "      <td>15</td>\n",
       "      <td>9</td>\n",
       "      <td>5</td>\n",
       "      <td>...</td>\n",
       "      <td>Goalie</td>\n",
       "      <td>Filip Gustavsson</td>\n",
       "      <td>0</td>\n",
       "      <td>0</td>\n",
       "      <td>0</td>\n",
       "      <td>2021-10-25</td>\n",
       "      <td>0 days 00:50:46</td>\n",
       "      <td>0 days 00:51:00</td>\n",
       "      <td>16.389540</td>\n",
       "      <td>35.440090</td>\n",
       "    </tr>\n",
       "    <tr>\n",
       "      <th>30770</th>\n",
       "      <td>2021020098</td>\n",
       "      <td>78</td>\n",
       "      <td>Goal</td>\n",
       "      <td>Alex Ovechkin (8) Snap Shot, assists: Lars Ell...</td>\n",
       "      <td>1</td>\n",
       "      <td>19:05</td>\n",
       "      <td>REGULAR</td>\n",
       "      <td>17</td>\n",
       "      <td>15</td>\n",
       "      <td>1</td>\n",
       "      <td>...</td>\n",
       "      <td>Assist</td>\n",
       "      <td>Anthony Mantha</td>\n",
       "      <td>8471306</td>\n",
       "      <td>Goalie</td>\n",
       "      <td>Thomas Greiss</td>\n",
       "      <td>2021-10-27</td>\n",
       "      <td>0 days 00:19:05</td>\n",
       "      <td>0 days 00:19:00</td>\n",
       "      <td>66.801409</td>\n",
       "      <td>7.615773</td>\n",
       "    </tr>\n",
       "    <tr>\n",
       "      <th>35618</th>\n",
       "      <td>2021020113</td>\n",
       "      <td>262</td>\n",
       "      <td>Goal</td>\n",
       "      <td>Alex Ovechkin (9) Wrist Shot, assists: Evgeny ...</td>\n",
       "      <td>3</td>\n",
       "      <td>19:39</td>\n",
       "      <td>REGULAR</td>\n",
       "      <td>53</td>\n",
       "      <td>15</td>\n",
       "      <td>2</td>\n",
       "      <td>...</td>\n",
       "      <td>Assist</td>\n",
       "      <td>John Carlson</td>\n",
       "      <td>0</td>\n",
       "      <td>0</td>\n",
       "      <td>0</td>\n",
       "      <td>2021-10-29</td>\n",
       "      <td>0 days 00:59:39</td>\n",
       "      <td>0 days 01:00:00</td>\n",
       "      <td>21.194056</td>\n",
       "      <td>52.554733</td>\n",
       "    </tr>\n",
       "    <tr>\n",
       "      <th>47827</th>\n",
       "      <td>2021020152</td>\n",
       "      <td>217</td>\n",
       "      <td>Goal</td>\n",
       "      <td>Alex Ovechkin (10) Wrist Shot, assists: Lars E...</td>\n",
       "      <td>2</td>\n",
       "      <td>18:11</td>\n",
       "      <td>REGULAR</td>\n",
       "      <td>15</td>\n",
       "      <td>13</td>\n",
       "      <td>4</td>\n",
       "      <td>...</td>\n",
       "      <td>Goalie</td>\n",
       "      <td>Spencer Knight</td>\n",
       "      <td>0</td>\n",
       "      <td>0</td>\n",
       "      <td>0</td>\n",
       "      <td>2021-11-04</td>\n",
       "      <td>0 days 00:38:11</td>\n",
       "      <td>0 days 00:38:00</td>\n",
       "      <td>25.769328</td>\n",
       "      <td>32.202484</td>\n",
       "    </tr>\n",
       "    <tr>\n",
       "      <th>56896</th>\n",
       "      <td>2021020181</td>\n",
       "      <td>141</td>\n",
       "      <td>Goal</td>\n",
       "      <td>Alex Ovechkin (11) Tip-In, assists: Dmitry Orl...</td>\n",
       "      <td>2</td>\n",
       "      <td>08:55</td>\n",
       "      <td>REGULAR</td>\n",
       "      <td>7</td>\n",
       "      <td>15</td>\n",
       "      <td>3</td>\n",
       "      <td>...</td>\n",
       "      <td>Assist</td>\n",
       "      <td>Evgeny Kuznetsov</td>\n",
       "      <td>8474682</td>\n",
       "      <td>Goalie</td>\n",
       "      <td>Dustin Tokarski</td>\n",
       "      <td>2021-11-09</td>\n",
       "      <td>0 days 00:28:55</td>\n",
       "      <td>0 days 00:29:00</td>\n",
       "      <td>3.691386</td>\n",
       "      <td>31.064449</td>\n",
       "    </tr>\n",
       "    <tr>\n",
       "      <th>65606</th>\n",
       "      <td>2021020209</td>\n",
       "      <td>53</td>\n",
       "      <td>Goal</td>\n",
       "      <td>Alex Ovechkin (12) Deflected, assists: Evgeny ...</td>\n",
       "      <td>1</td>\n",
       "      <td>10:19</td>\n",
       "      <td>REGULAR</td>\n",
       "      <td>15</td>\n",
       "      <td>29</td>\n",
       "      <td>1</td>\n",
       "      <td>...</td>\n",
       "      <td>Assist</td>\n",
       "      <td>Tom Wilson</td>\n",
       "      <td>8476914</td>\n",
       "      <td>Goalie</td>\n",
       "      <td>Joonas Korpisalo</td>\n",
       "      <td>2021-11-13</td>\n",
       "      <td>0 days 00:10:19</td>\n",
       "      <td>0 days 00:10:00</td>\n",
       "      <td>20.095231</td>\n",
       "      <td>43.657760</td>\n",
       "    </tr>\n",
       "    <tr>\n",
       "      <th>85612</th>\n",
       "      <td>2021020273</td>\n",
       "      <td>76</td>\n",
       "      <td>Goal</td>\n",
       "      <td>Alex Ovechkin (13) Slap Shot, assists: John Ca...</td>\n",
       "      <td>1</td>\n",
       "      <td>13:58</td>\n",
       "      <td>REGULAR</td>\n",
       "      <td>15</td>\n",
       "      <td>28</td>\n",
       "      <td>0</td>\n",
       "      <td>...</td>\n",
       "      <td>Assist</td>\n",
       "      <td>T.J. Oshie</td>\n",
       "      <td>8478499</td>\n",
       "      <td>Goalie</td>\n",
       "      <td>Adin Hill</td>\n",
       "      <td>2021-11-21</td>\n",
       "      <td>0 days 00:13:58</td>\n",
       "      <td>0 days 00:14:00</td>\n",
       "      <td>34.114473</td>\n",
       "      <td>37.443290</td>\n",
       "    </tr>\n",
       "    <tr>\n",
       "      <th>85858</th>\n",
       "      <td>2021020273</td>\n",
       "      <td>322</td>\n",
       "      <td>Goal</td>\n",
       "      <td>Alex Ovechkin (14) Wrist Shot, assists: Nic Do...</td>\n",
       "      <td>3</td>\n",
       "      <td>18:56</td>\n",
       "      <td>REGULAR</td>\n",
       "      <td>15</td>\n",
       "      <td>28</td>\n",
       "      <td>0</td>\n",
       "      <td>...</td>\n",
       "      <td>0</td>\n",
       "      <td>0</td>\n",
       "      <td>0</td>\n",
       "      <td>0</td>\n",
       "      <td>0</td>\n",
       "      <td>2021-11-21</td>\n",
       "      <td>0 days 00:58:56</td>\n",
       "      <td>0 days 00:59:00</td>\n",
       "      <td>1.432096</td>\n",
       "      <td>40.012498</td>\n",
       "    </tr>\n",
       "    <tr>\n",
       "      <th>87900</th>\n",
       "      <td>2021020280</td>\n",
       "      <td>211</td>\n",
       "      <td>Goal</td>\n",
       "      <td>Alex Ovechkin (15) Wrist Shot, assists: Dmitry...</td>\n",
       "      <td>3</td>\n",
       "      <td>03:09</td>\n",
       "      <td>REGULAR</td>\n",
       "      <td>15</td>\n",
       "      <td>55</td>\n",
       "      <td>4</td>\n",
       "      <td>...</td>\n",
       "      <td>Assist</td>\n",
       "      <td>Tom Wilson</td>\n",
       "      <td>8475831</td>\n",
       "      <td>Goalie</td>\n",
       "      <td>Philipp Grubauer</td>\n",
       "      <td>2021-11-22</td>\n",
       "      <td>0 days 00:43:09</td>\n",
       "      <td>0 days 00:43:00</td>\n",
       "      <td>-11.976132</td>\n",
       "      <td>33.734256</td>\n",
       "    </tr>\n",
       "    <tr>\n",
       "      <th>96576</th>\n",
       "      <td>2021020309</td>\n",
       "      <td>127</td>\n",
       "      <td>Goal</td>\n",
       "      <td>Alex Ovechkin (16) Wrist Shot, assists: Tom Wi...</td>\n",
       "      <td>2</td>\n",
       "      <td>02:50</td>\n",
       "      <td>REGULAR</td>\n",
       "      <td>13</td>\n",
       "      <td>15</td>\n",
       "      <td>2</td>\n",
       "      <td>...</td>\n",
       "      <td>Assist</td>\n",
       "      <td>Aliaksei Protas</td>\n",
       "      <td>8475683</td>\n",
       "      <td>Goalie</td>\n",
       "      <td>Sergei Bobrovsky</td>\n",
       "      <td>2021-11-26</td>\n",
       "      <td>0 days 00:22:50</td>\n",
       "      <td>0 days 00:23:00</td>\n",
       "      <td>36.253838</td>\n",
       "      <td>18.601075</td>\n",
       "    </tr>\n",
       "    <tr>\n",
       "      <th>96581</th>\n",
       "      <td>2021020309</td>\n",
       "      <td>132</td>\n",
       "      <td>Goal</td>\n",
       "      <td>Alex Ovechkin (17) Snap Shot, assists: Aliakse...</td>\n",
       "      <td>2</td>\n",
       "      <td>03:46</td>\n",
       "      <td>REGULAR</td>\n",
       "      <td>13</td>\n",
       "      <td>15</td>\n",
       "      <td>3</td>\n",
       "      <td>...</td>\n",
       "      <td>Assist</td>\n",
       "      <td>Evgeny Kuznetsov</td>\n",
       "      <td>8481519</td>\n",
       "      <td>Goalie</td>\n",
       "      <td>Spencer Knight</td>\n",
       "      <td>2021-11-26</td>\n",
       "      <td>0 days 00:23:46</td>\n",
       "      <td>0 days 00:24:00</td>\n",
       "      <td>-52.523820</td>\n",
       "      <td>37.802116</td>\n",
       "    </tr>\n",
       "    <tr>\n",
       "      <th>96666</th>\n",
       "      <td>2021020309</td>\n",
       "      <td>216</td>\n",
       "      <td>Goal</td>\n",
       "      <td>Alex Ovechkin (18) Slap Shot, assists: Evgeny ...</td>\n",
       "      <td>3</td>\n",
       "      <td>04:02</td>\n",
       "      <td>REGULAR</td>\n",
       "      <td>13</td>\n",
       "      <td>15</td>\n",
       "      <td>4</td>\n",
       "      <td>...</td>\n",
       "      <td>Assist</td>\n",
       "      <td>Tom Wilson</td>\n",
       "      <td>8475683</td>\n",
       "      <td>Goalie</td>\n",
       "      <td>Sergei Bobrovsky</td>\n",
       "      <td>2021-11-26</td>\n",
       "      <td>0 days 00:44:02</td>\n",
       "      <td>0 days 00:44:00</td>\n",
       "      <td>3.576334</td>\n",
       "      <td>16.031220</td>\n",
       "    </tr>\n",
       "    <tr>\n",
       "      <th>102632</th>\n",
       "      <td>2021020329</td>\n",
       "      <td>184</td>\n",
       "      <td>Goal</td>\n",
       "      <td>Alex Ovechkin (19) Wrist Shot, assists: Dmitry...</td>\n",
       "      <td>2</td>\n",
       "      <td>11:58</td>\n",
       "      <td>REGULAR</td>\n",
       "      <td>15</td>\n",
       "      <td>12</td>\n",
       "      <td>0</td>\n",
       "      <td>...</td>\n",
       "      <td>Assist</td>\n",
       "      <td>Tom Wilson</td>\n",
       "      <td>8475883</td>\n",
       "      <td>Goalie</td>\n",
       "      <td>Frederik Andersen</td>\n",
       "      <td>2021-11-28</td>\n",
       "      <td>0 days 00:31:58</td>\n",
       "      <td>0 days 00:32:00</td>\n",
       "      <td>56.309932</td>\n",
       "      <td>7.211103</td>\n",
       "    </tr>\n",
       "    <tr>\n",
       "      <th>116438</th>\n",
       "      <td>2021020372</td>\n",
       "      <td>122</td>\n",
       "      <td>Goal</td>\n",
       "      <td>Alex Ovechkin (20) Snap Shot, assists: John Ca...</td>\n",
       "      <td>2</td>\n",
       "      <td>03:12</td>\n",
       "      <td>REGULAR</td>\n",
       "      <td>29</td>\n",
       "      <td>15</td>\n",
       "      <td>2</td>\n",
       "      <td>...</td>\n",
       "      <td>Goalie</td>\n",
       "      <td>Daniil Tarasov</td>\n",
       "      <td>0</td>\n",
       "      <td>0</td>\n",
       "      <td>0</td>\n",
       "      <td>2021-12-05</td>\n",
       "      <td>0 days 00:23:12</td>\n",
       "      <td>0 days 00:23:00</td>\n",
       "      <td>-31.701430</td>\n",
       "      <td>39.962482</td>\n",
       "    </tr>\n",
       "    <tr>\n",
       "      <th>140882</th>\n",
       "      <td>2021020451</td>\n",
       "      <td>105</td>\n",
       "      <td>Goal</td>\n",
       "      <td>Alex Ovechkin (21) Slap Shot, assists: T.J. Os...</td>\n",
       "      <td>2</td>\n",
       "      <td>03:36</td>\n",
       "      <td>REGULAR</td>\n",
       "      <td>15</td>\n",
       "      <td>16</td>\n",
       "      <td>0</td>\n",
       "      <td>...</td>\n",
       "      <td>Assist</td>\n",
       "      <td>Nicklas Backstrom</td>\n",
       "      <td>8470594</td>\n",
       "      <td>Goalie</td>\n",
       "      <td>Marc-Andre Fleury</td>\n",
       "      <td>2021-12-16</td>\n",
       "      <td>0 days 00:23:36</td>\n",
       "      <td>0 days 00:24:00</td>\n",
       "      <td>37.746805</td>\n",
       "      <td>39.204592</td>\n",
       "    </tr>\n",
       "    <tr>\n",
       "      <th>146716</th>\n",
       "      <td>2021020469</td>\n",
       "      <td>345</td>\n",
       "      <td>Goal</td>\n",
       "      <td>Alex Ovechkin (22) Wrist Shot, assists: Daniel...</td>\n",
       "      <td>3</td>\n",
       "      <td>19:09</td>\n",
       "      <td>REGULAR</td>\n",
       "      <td>15</td>\n",
       "      <td>52</td>\n",
       "      <td>2</td>\n",
       "      <td>...</td>\n",
       "      <td>Assist</td>\n",
       "      <td>John Carlson</td>\n",
       "      <td>0</td>\n",
       "      <td>0</td>\n",
       "      <td>0</td>\n",
       "      <td>2021-12-18</td>\n",
       "      <td>0 days 00:59:09</td>\n",
       "      <td>0 days 00:59:00</td>\n",
       "      <td>2.973731</td>\n",
       "      <td>77.103826</td>\n",
       "    </tr>\n",
       "    <tr>\n",
       "      <th>175332</th>\n",
       "      <td>2021020560</td>\n",
       "      <td>229</td>\n",
       "      <td>Goal</td>\n",
       "      <td>Alex Ovechkin (23) Slap Shot, assists: Evgeny ...</td>\n",
       "      <td>3</td>\n",
       "      <td>17:09</td>\n",
       "      <td>REGULAR</td>\n",
       "      <td>15</td>\n",
       "      <td>17</td>\n",
       "      <td>1</td>\n",
       "      <td>...</td>\n",
       "      <td>Assist</td>\n",
       "      <td>Nicklas Backstrom</td>\n",
       "      <td>8471306</td>\n",
       "      <td>Goalie</td>\n",
       "      <td>Thomas Greiss</td>\n",
       "      <td>2022-01-01</td>\n",
       "      <td>0 days 00:57:09</td>\n",
       "      <td>0 days 00:57:00</td>\n",
       "      <td>17.354025</td>\n",
       "      <td>50.289164</td>\n",
       "    </tr>\n",
       "    <tr>\n",
       "      <th>175339</th>\n",
       "      <td>2021020560</td>\n",
       "      <td>236</td>\n",
       "      <td>Goal</td>\n",
       "      <td>Alex Ovechkin (24) Snap Shot, assists: Garnet ...</td>\n",
       "      <td>3</td>\n",
       "      <td>19:19</td>\n",
       "      <td>REGULAR</td>\n",
       "      <td>15</td>\n",
       "      <td>17</td>\n",
       "      <td>1</td>\n",
       "      <td>...</td>\n",
       "      <td>Assist</td>\n",
       "      <td>John Carlson</td>\n",
       "      <td>0</td>\n",
       "      <td>0</td>\n",
       "      <td>0</td>\n",
       "      <td>2022-01-01</td>\n",
       "      <td>0 days 00:59:19</td>\n",
       "      <td>0 days 00:59:00</td>\n",
       "      <td>-41.054814</td>\n",
       "      <td>41.109610</td>\n",
       "    </tr>\n",
       "    <tr>\n",
       "      <th>210021</th>\n",
       "      <td>2021020670</td>\n",
       "      <td>279</td>\n",
       "      <td>Goal</td>\n",
       "      <td>Alex Ovechkin (25) Wrist Shot, assists: Evgeny...</td>\n",
       "      <td>3</td>\n",
       "      <td>19:49</td>\n",
       "      <td>REGULAR</td>\n",
       "      <td>15</td>\n",
       "      <td>2</td>\n",
       "      <td>0</td>\n",
       "      <td>...</td>\n",
       "      <td>Assist</td>\n",
       "      <td>Nicklas Backstrom</td>\n",
       "      <td>0</td>\n",
       "      <td>0</td>\n",
       "      <td>0</td>\n",
       "      <td>2022-01-15</td>\n",
       "      <td>0 days 00:59:49</td>\n",
       "      <td>0 days 01:00:00</td>\n",
       "      <td>-12.528808</td>\n",
       "      <td>9.219544</td>\n",
       "    </tr>\n",
       "    <tr>\n",
       "      <th>212833</th>\n",
       "      <td>2021020680</td>\n",
       "      <td>73</td>\n",
       "      <td>Goal</td>\n",
       "      <td>Alex Ovechkin (26) Slap Shot, assists: Justin ...</td>\n",
       "      <td>1</td>\n",
       "      <td>10:31</td>\n",
       "      <td>REGULAR</td>\n",
       "      <td>23</td>\n",
       "      <td>15</td>\n",
       "      <td>1</td>\n",
       "      <td>...</td>\n",
       "      <td>Assist</td>\n",
       "      <td>Evgeny Kuznetsov</td>\n",
       "      <td>8477967</td>\n",
       "      <td>Goalie</td>\n",
       "      <td>Thatcher Demko</td>\n",
       "      <td>2022-01-16</td>\n",
       "      <td>0 days 00:10:31</td>\n",
       "      <td>0 days 00:11:00</td>\n",
       "      <td>40.156000</td>\n",
       "      <td>41.868843</td>\n",
       "    </tr>\n",
       "    <tr>\n",
       "      <th>217564</th>\n",
       "      <td>2021020695</td>\n",
       "      <td>82</td>\n",
       "      <td>Goal</td>\n",
       "      <td>Alex Ovechkin (27) Wrist Shot, assists: Garnet...</td>\n",
       "      <td>1</td>\n",
       "      <td>16:58</td>\n",
       "      <td>REGULAR</td>\n",
       "      <td>52</td>\n",
       "      <td>15</td>\n",
       "      <td>1</td>\n",
       "      <td>...</td>\n",
       "      <td>Goalie</td>\n",
       "      <td>Connor Hellebuyck</td>\n",
       "      <td>0</td>\n",
       "      <td>0</td>\n",
       "      <td>0</td>\n",
       "      <td>2022-01-19</td>\n",
       "      <td>0 days 00:16:58</td>\n",
       "      <td>0 days 00:17:00</td>\n",
       "      <td>38.659808</td>\n",
       "      <td>19.209373</td>\n",
       "    </tr>\n",
       "    <tr>\n",
       "      <th>227522</th>\n",
       "      <td>2021020726</td>\n",
       "      <td>220</td>\n",
       "      <td>Goal</td>\n",
       "      <td>Alex Ovechkin (28) Snap Shot, assists: Trevor ...</td>\n",
       "      <td>3</td>\n",
       "      <td>01:39</td>\n",
       "      <td>REGULAR</td>\n",
       "      <td>9</td>\n",
       "      <td>15</td>\n",
       "      <td>1</td>\n",
       "      <td>...</td>\n",
       "      <td>Assist</td>\n",
       "      <td>Evgeny Kuznetsov</td>\n",
       "      <td>8476899</td>\n",
       "      <td>Goalie</td>\n",
       "      <td>Matt Murray</td>\n",
       "      <td>2022-01-23</td>\n",
       "      <td>0 days 00:41:39</td>\n",
       "      <td>0 days 00:42:00</td>\n",
       "      <td>-18.434949</td>\n",
       "      <td>9.486833</td>\n",
       "    </tr>\n",
       "    <tr>\n",
       "      <th>227564</th>\n",
       "      <td>2021020726</td>\n",
       "      <td>261</td>\n",
       "      <td>Goal</td>\n",
       "      <td>Alex Ovechkin (29) Snap Shot, assists: Nicklas...</td>\n",
       "      <td>3</td>\n",
       "      <td>09:43</td>\n",
       "      <td>REGULAR</td>\n",
       "      <td>9</td>\n",
       "      <td>15</td>\n",
       "      <td>2</td>\n",
       "      <td>...</td>\n",
       "      <td>Goalie</td>\n",
       "      <td>Matt Murray</td>\n",
       "      <td>0</td>\n",
       "      <td>0</td>\n",
       "      <td>0</td>\n",
       "      <td>2022-01-23</td>\n",
       "      <td>0 days 00:49:43</td>\n",
       "      <td>0 days 00:50:00</td>\n",
       "      <td>-4.398705</td>\n",
       "      <td>13.038405</td>\n",
       "    </tr>\n",
       "    <tr>\n",
       "      <th>257029</th>\n",
       "      <td>2021020818</td>\n",
       "      <td>265</td>\n",
       "      <td>Goal</td>\n",
       "      <td>Alex Ovechkin (32) Wrist Shot, assists: Evgeny...</td>\n",
       "      <td>3</td>\n",
       "      <td>18:58</td>\n",
       "      <td>REGULAR</td>\n",
       "      <td>15</td>\n",
       "      <td>3</td>\n",
       "      <td>4</td>\n",
       "      <td>...</td>\n",
       "      <td>Goalie</td>\n",
       "      <td>Igor Shesterkin</td>\n",
       "      <td>0</td>\n",
       "      <td>0</td>\n",
       "      <td>0</td>\n",
       "      <td>2022-02-25</td>\n",
       "      <td>0 days 00:58:58</td>\n",
       "      <td>0 days 00:59:00</td>\n",
       "      <td>-41.185925</td>\n",
       "      <td>10.630146</td>\n",
       "    </tr>\n",
       "    <tr>\n",
       "      <th>272839</th>\n",
       "      <td>2021020868</td>\n",
       "      <td>154</td>\n",
       "      <td>Goal</td>\n",
       "      <td>Alex Ovechkin (33) Slap Shot, assists: John Ca...</td>\n",
       "      <td>2</td>\n",
       "      <td>15:05</td>\n",
       "      <td>REGULAR</td>\n",
       "      <td>12</td>\n",
       "      <td>15</td>\n",
       "      <td>3</td>\n",
       "      <td>...</td>\n",
       "      <td>Assist</td>\n",
       "      <td>T.J. Oshie</td>\n",
       "      <td>8475883</td>\n",
       "      <td>Goalie</td>\n",
       "      <td>Frederik Andersen</td>\n",
       "      <td>2022-03-04</td>\n",
       "      <td>0 days 00:35:05</td>\n",
       "      <td>0 days 00:35:00</td>\n",
       "      <td>36.869898</td>\n",
       "      <td>45.000000</td>\n",
       "    </tr>\n",
       "    <tr>\n",
       "      <th>277962</th>\n",
       "      <td>2021020884</td>\n",
       "      <td>208</td>\n",
       "      <td>Goal</td>\n",
       "      <td>Alex Ovechkin (34) Slap Shot, assists: John Ca...</td>\n",
       "      <td>3</td>\n",
       "      <td>00:47</td>\n",
       "      <td>REGULAR</td>\n",
       "      <td>55</td>\n",
       "      <td>15</td>\n",
       "      <td>4</td>\n",
       "      <td>...</td>\n",
       "      <td>Assist</td>\n",
       "      <td>Nicklas Backstrom</td>\n",
       "      <td>8476904</td>\n",
       "      <td>Goalie</td>\n",
       "      <td>Chris Driedger</td>\n",
       "      <td>2022-03-06</td>\n",
       "      <td>0 days 00:40:47</td>\n",
       "      <td>0 days 00:41:00</td>\n",
       "      <td>43.090848</td>\n",
       "      <td>42.449971</td>\n",
       "    </tr>\n",
       "    <tr>\n",
       "      <th>286770</th>\n",
       "      <td>2021020912</td>\n",
       "      <td>173</td>\n",
       "      <td>Goal</td>\n",
       "      <td>Alex Ovechkin (35) Wrist Shot, assists: Evgeny...</td>\n",
       "      <td>2</td>\n",
       "      <td>13:23</td>\n",
       "      <td>REGULAR</td>\n",
       "      <td>15</td>\n",
       "      <td>20</td>\n",
       "      <td>2</td>\n",
       "      <td>...</td>\n",
       "      <td>Goalie</td>\n",
       "      <td>Dan Vladar</td>\n",
       "      <td>0</td>\n",
       "      <td>0</td>\n",
       "      <td>0</td>\n",
       "      <td>2022-03-09</td>\n",
       "      <td>0 days 00:33:23</td>\n",
       "      <td>0 days 00:33:00</td>\n",
       "      <td>24.145542</td>\n",
       "      <td>31.780497</td>\n",
       "    </tr>\n",
       "    <tr>\n",
       "      <th>286896</th>\n",
       "      <td>2021020912</td>\n",
       "      <td>299</td>\n",
       "      <td>Goal</td>\n",
       "      <td>Alex Ovechkin (36) Wrist Shot, assists: Tom Wi...</td>\n",
       "      <td>3</td>\n",
       "      <td>18:12</td>\n",
       "      <td>REGULAR</td>\n",
       "      <td>15</td>\n",
       "      <td>20</td>\n",
       "      <td>3</td>\n",
       "      <td>...</td>\n",
       "      <td>Assist</td>\n",
       "      <td>Nick Jensen</td>\n",
       "      <td>0</td>\n",
       "      <td>0</td>\n",
       "      <td>0</td>\n",
       "      <td>2022-03-09</td>\n",
       "      <td>0 days 00:58:12</td>\n",
       "      <td>0 days 00:58:00</td>\n",
       "      <td>-25.277722</td>\n",
       "      <td>79.624117</td>\n",
       "    </tr>\n",
       "    <tr>\n",
       "      <th>300978</th>\n",
       "      <td>2021020956</td>\n",
       "      <td>277</td>\n",
       "      <td>Goal</td>\n",
       "      <td>Alex Ovechkin (37) Snap Shot, assists: Evgeny ...</td>\n",
       "      <td>3</td>\n",
       "      <td>15:02</td>\n",
       "      <td>REGULAR</td>\n",
       "      <td>2</td>\n",
       "      <td>15</td>\n",
       "      <td>3</td>\n",
       "      <td>...</td>\n",
       "      <td>Goalie</td>\n",
       "      <td>Semyon Varlamov</td>\n",
       "      <td>0</td>\n",
       "      <td>0</td>\n",
       "      <td>0</td>\n",
       "      <td>2022-03-15</td>\n",
       "      <td>0 days 00:55:02</td>\n",
       "      <td>0 days 00:55:00</td>\n",
       "      <td>-19.983107</td>\n",
       "      <td>35.114100</td>\n",
       "    </tr>\n",
       "    <tr>\n",
       "      <th>305819</th>\n",
       "      <td>2021020971</td>\n",
       "      <td>163</td>\n",
       "      <td>Goal</td>\n",
       "      <td>Alex Ovechkin (38) Snap Shot, assists: Conor S...</td>\n",
       "      <td>2</td>\n",
       "      <td>10:44</td>\n",
       "      <td>REGULAR</td>\n",
       "      <td>15</td>\n",
       "      <td>29</td>\n",
       "      <td>1</td>\n",
       "      <td>...</td>\n",
       "      <td>Assist</td>\n",
       "      <td>Tom Wilson</td>\n",
       "      <td>8478007</td>\n",
       "      <td>Goalie</td>\n",
       "      <td>Elvis Merzlikins</td>\n",
       "      <td>2022-03-17</td>\n",
       "      <td>0 days 00:30:44</td>\n",
       "      <td>0 days 00:31:00</td>\n",
       "      <td>26.565051</td>\n",
       "      <td>38.013156</td>\n",
       "    </tr>\n",
       "    <tr>\n",
       "      <th>308308</th>\n",
       "      <td>2021020978</td>\n",
       "      <td>335</td>\n",
       "      <td>Goal</td>\n",
       "      <td>Alex Ovechkin (39) Snap Shot, assists: Nicklas...</td>\n",
       "      <td>3</td>\n",
       "      <td>14:56</td>\n",
       "      <td>REGULAR</td>\n",
       "      <td>15</td>\n",
       "      <td>12</td>\n",
       "      <td>3</td>\n",
       "      <td>...</td>\n",
       "      <td>Goalie</td>\n",
       "      <td>Antti Raanta</td>\n",
       "      <td>0</td>\n",
       "      <td>0</td>\n",
       "      <td>0</td>\n",
       "      <td>2022-03-18</td>\n",
       "      <td>0 days 00:54:56</td>\n",
       "      <td>0 days 00:55:00</td>\n",
       "      <td>39.289407</td>\n",
       "      <td>42.638011</td>\n",
       "    </tr>\n",
       "    <tr>\n",
       "      <th>313747</th>\n",
       "      <td>2021020995</td>\n",
       "      <td>153</td>\n",
       "      <td>Goal</td>\n",
       "      <td>Alex Ovechkin (40) Slap Shot, assists: John Ca...</td>\n",
       "      <td>2</td>\n",
       "      <td>04:53</td>\n",
       "      <td>REGULAR</td>\n",
       "      <td>25</td>\n",
       "      <td>15</td>\n",
       "      <td>1</td>\n",
       "      <td>...</td>\n",
       "      <td>Assist</td>\n",
       "      <td>Evgeny Kuznetsov</td>\n",
       "      <td>8479979</td>\n",
       "      <td>Goalie</td>\n",
       "      <td>Jake Oettinger</td>\n",
       "      <td>2022-03-20</td>\n",
       "      <td>0 days 00:24:53</td>\n",
       "      <td>0 days 00:25:00</td>\n",
       "      <td>22.833654</td>\n",
       "      <td>41.231056</td>\n",
       "    </tr>\n",
       "    <tr>\n",
       "      <th>324181</th>\n",
       "      <td>2021021028</td>\n",
       "      <td>145</td>\n",
       "      <td>Goal</td>\n",
       "      <td>Alex Ovechkin (41) Slap Shot, assists: Evgeny ...</td>\n",
       "      <td>2</td>\n",
       "      <td>16:47</td>\n",
       "      <td>REGULAR</td>\n",
       "      <td>15</td>\n",
       "      <td>7</td>\n",
       "      <td>3</td>\n",
       "      <td>...</td>\n",
       "      <td>Goalie</td>\n",
       "      <td>Dustin Tokarski</td>\n",
       "      <td>0</td>\n",
       "      <td>0</td>\n",
       "      <td>0</td>\n",
       "      <td>2022-03-25</td>\n",
       "      <td>0 days 00:36:47</td>\n",
       "      <td>0 days 00:37:00</td>\n",
       "      <td>-4.513988</td>\n",
       "      <td>38.118237</td>\n",
       "    </tr>\n",
       "    <tr>\n",
       "      <th>327490</th>\n",
       "      <td>2021021038</td>\n",
       "      <td>275</td>\n",
       "      <td>Goal</td>\n",
       "      <td>Alex Ovechkin (42) Snap Shot, assists: Evgeny ...</td>\n",
       "      <td>3</td>\n",
       "      <td>11:48</td>\n",
       "      <td>REGULAR</td>\n",
       "      <td>1</td>\n",
       "      <td>15</td>\n",
       "      <td>4</td>\n",
       "      <td>...</td>\n",
       "      <td>Assist</td>\n",
       "      <td>Nicklas Backstrom</td>\n",
       "      <td>8482076</td>\n",
       "      <td>Goalie</td>\n",
       "      <td>Nico Daws</td>\n",
       "      <td>2022-03-26</td>\n",
       "      <td>0 days 00:51:48</td>\n",
       "      <td>0 days 00:52:00</td>\n",
       "      <td>41.185925</td>\n",
       "      <td>10.630146</td>\n",
       "    </tr>\n",
       "    <tr>\n",
       "      <th>345868</th>\n",
       "      <td>2021021095</td>\n",
       "      <td>268</td>\n",
       "      <td>Goal</td>\n",
       "      <td>Alex Ovechkin (30) Slap Shot, assists: John Ca...</td>\n",
       "      <td>3</td>\n",
       "      <td>04:33</td>\n",
       "      <td>REGULAR</td>\n",
       "      <td>15</td>\n",
       "      <td>18</td>\n",
       "      <td>1</td>\n",
       "      <td>...</td>\n",
       "      <td>Assist</td>\n",
       "      <td>Tom Wilson</td>\n",
       "      <td>8477424</td>\n",
       "      <td>Goalie</td>\n",
       "      <td>Juuse Saros</td>\n",
       "      <td>2022-02-16</td>\n",
       "      <td>0 days 00:44:33</td>\n",
       "      <td>0 days 00:45:00</td>\n",
       "      <td>41.054814</td>\n",
       "      <td>41.109610</td>\n",
       "    </tr>\n",
       "    <tr>\n",
       "      <th>345926</th>\n",
       "      <td>2021021095</td>\n",
       "      <td>326</td>\n",
       "      <td>Goal</td>\n",
       "      <td>Alex Ovechkin (31) Wrist Shot, assists: none</td>\n",
       "      <td>3</td>\n",
       "      <td>18:37</td>\n",
       "      <td>REGULAR</td>\n",
       "      <td>15</td>\n",
       "      <td>18</td>\n",
       "      <td>1</td>\n",
       "      <td>...</td>\n",
       "      <td>0</td>\n",
       "      <td>0</td>\n",
       "      <td>0</td>\n",
       "      <td>0</td>\n",
       "      <td>0</td>\n",
       "      <td>2022-02-16</td>\n",
       "      <td>0 days 00:58:37</td>\n",
       "      <td>0 days 00:59:00</td>\n",
       "      <td>5.355825</td>\n",
       "      <td>32.140317</td>\n",
       "    </tr>\n",
       "    <tr>\n",
       "      <th>354652</th>\n",
       "      <td>2021021123</td>\n",
       "      <td>91</td>\n",
       "      <td>Goal</td>\n",
       "      <td>Alex Ovechkin (43) Snap Shot, assists: John Ca...</td>\n",
       "      <td>1</td>\n",
       "      <td>15:10</td>\n",
       "      <td>REGULAR</td>\n",
       "      <td>14</td>\n",
       "      <td>15</td>\n",
       "      <td>3</td>\n",
       "      <td>...</td>\n",
       "      <td>Assist</td>\n",
       "      <td>Evgeny Kuznetsov</td>\n",
       "      <td>8476883</td>\n",
       "      <td>Goalie</td>\n",
       "      <td>Andrei Vasilevskiy</td>\n",
       "      <td>2022-04-06</td>\n",
       "      <td>0 days 00:15:10</td>\n",
       "      <td>0 days 00:15:00</td>\n",
       "      <td>-14.036243</td>\n",
       "      <td>16.492423</td>\n",
       "    </tr>\n",
       "    <tr>\n",
       "      <th>361872</th>\n",
       "      <td>2021021146</td>\n",
       "      <td>179</td>\n",
       "      <td>Goal</td>\n",
       "      <td>Alex Ovechkin (44) Slap Shot, assists: John Ca...</td>\n",
       "      <td>2</td>\n",
       "      <td>04:49</td>\n",
       "      <td>REGULAR</td>\n",
       "      <td>15</td>\n",
       "      <td>5</td>\n",
       "      <td>3</td>\n",
       "      <td>...</td>\n",
       "      <td>Assist</td>\n",
       "      <td>Nicklas Backstrom</td>\n",
       "      <td>8477465</td>\n",
       "      <td>Goalie</td>\n",
       "      <td>Tristan Jarry</td>\n",
       "      <td>2022-04-09</td>\n",
       "      <td>0 days 00:24:49</td>\n",
       "      <td>0 days 00:25:00</td>\n",
       "      <td>29.931512</td>\n",
       "      <td>38.078866</td>\n",
       "    </tr>\n",
       "    <tr>\n",
       "      <th>365984</th>\n",
       "      <td>2021021158</td>\n",
       "      <td>380</td>\n",
       "      <td>Goal</td>\n",
       "      <td>Alex Ovechkin (45) Wrist Shot, assists: Evgeny...</td>\n",
       "      <td>3</td>\n",
       "      <td>19:58</td>\n",
       "      <td>REGULAR</td>\n",
       "      <td>6</td>\n",
       "      <td>15</td>\n",
       "      <td>4</td>\n",
       "      <td>...</td>\n",
       "      <td>Assist</td>\n",
       "      <td>John Carlson</td>\n",
       "      <td>0</td>\n",
       "      <td>0</td>\n",
       "      <td>0</td>\n",
       "      <td>2022-04-10</td>\n",
       "      <td>0 days 00:59:58</td>\n",
       "      <td>0 days 01:00:00</td>\n",
       "      <td>0.000000</td>\n",
       "      <td>19.000000</td>\n",
       "    </tr>\n",
       "    <tr>\n",
       "      <th>369633</th>\n",
       "      <td>2021021170</td>\n",
       "      <td>32</td>\n",
       "      <td>Goal</td>\n",
       "      <td>Alex Ovechkin (46) Backhand, assists: Conor Sh...</td>\n",
       "      <td>1</td>\n",
       "      <td>06:01</td>\n",
       "      <td>REGULAR</td>\n",
       "      <td>4</td>\n",
       "      <td>15</td>\n",
       "      <td>1</td>\n",
       "      <td>...</td>\n",
       "      <td>Assist</td>\n",
       "      <td>Evgeny Kuznetsov</td>\n",
       "      <td>8479394</td>\n",
       "      <td>Goalie</td>\n",
       "      <td>Carter Hart</td>\n",
       "      <td>2022-04-12</td>\n",
       "      <td>0 days 00:06:01</td>\n",
       "      <td>0 days 00:06:00</td>\n",
       "      <td>90.000000</td>\n",
       "      <td>11.000000</td>\n",
       "    </tr>\n",
       "    <tr>\n",
       "      <th>378477</th>\n",
       "      <td>2021021198</td>\n",
       "      <td>230</td>\n",
       "      <td>Goal</td>\n",
       "      <td>Alex Ovechkin (47) Wrist Shot, assists: Evgeny...</td>\n",
       "      <td>2</td>\n",
       "      <td>15:36</td>\n",
       "      <td>REGULAR</td>\n",
       "      <td>15</td>\n",
       "      <td>8</td>\n",
       "      <td>2</td>\n",
       "      <td>...</td>\n",
       "      <td>Goalie</td>\n",
       "      <td>Sam Montembeault</td>\n",
       "      <td>0</td>\n",
       "      <td>0</td>\n",
       "      <td>0</td>\n",
       "      <td>2022-04-16</td>\n",
       "      <td>0 days 00:35:36</td>\n",
       "      <td>0 days 00:36:00</td>\n",
       "      <td>16.389540</td>\n",
       "      <td>17.720045</td>\n",
       "    </tr>\n",
       "    <tr>\n",
       "      <th>384180</th>\n",
       "      <td>2021021216</td>\n",
       "      <td>182</td>\n",
       "      <td>Goal</td>\n",
       "      <td>Alex Ovechkin (48) Wrist Shot, assists: Evgeny...</td>\n",
       "      <td>2</td>\n",
       "      <td>13:27</td>\n",
       "      <td>REGULAR</td>\n",
       "      <td>15</td>\n",
       "      <td>21</td>\n",
       "      <td>1</td>\n",
       "      <td>...</td>\n",
       "      <td>Assist</td>\n",
       "      <td>John Carlson</td>\n",
       "      <td>8475311</td>\n",
       "      <td>Goalie</td>\n",
       "      <td>Darcy Kuemper</td>\n",
       "      <td>2022-04-19</td>\n",
       "      <td>0 days 00:33:27</td>\n",
       "      <td>0 days 00:33:00</td>\n",
       "      <td>38.659808</td>\n",
       "      <td>12.806248</td>\n",
       "    </tr>\n",
       "    <tr>\n",
       "      <th>389021</th>\n",
       "      <td>2021021231</td>\n",
       "      <td>132</td>\n",
       "      <td>Goal</td>\n",
       "      <td>Alex Ovechkin (49) Snap Shot, assists: Evgeny ...</td>\n",
       "      <td>2</td>\n",
       "      <td>02:57</td>\n",
       "      <td>REGULAR</td>\n",
       "      <td>15</td>\n",
       "      <td>54</td>\n",
       "      <td>1</td>\n",
       "      <td>...</td>\n",
       "      <td>Assist</td>\n",
       "      <td>Marcus Johansson</td>\n",
       "      <td>8480313</td>\n",
       "      <td>Goalie</td>\n",
       "      <td>Logan Thompson</td>\n",
       "      <td>2022-04-21</td>\n",
       "      <td>0 days 00:22:57</td>\n",
       "      <td>0 days 00:23:00</td>\n",
       "      <td>43.919076</td>\n",
       "      <td>37.483330</td>\n",
       "    </tr>\n",
       "    <tr>\n",
       "      <th>389183</th>\n",
       "      <td>2021021231</td>\n",
       "      <td>294</td>\n",
       "      <td>Goal</td>\n",
       "      <td>Alex Ovechkin (50) Slap Shot, assists: Dmitry ...</td>\n",
       "      <td>3</td>\n",
       "      <td>13:36</td>\n",
       "      <td>REGULAR</td>\n",
       "      <td>15</td>\n",
       "      <td>54</td>\n",
       "      <td>3</td>\n",
       "      <td>...</td>\n",
       "      <td>Assist</td>\n",
       "      <td>Nicklas Backstrom</td>\n",
       "      <td>8480313</td>\n",
       "      <td>Goalie</td>\n",
       "      <td>Logan Thompson</td>\n",
       "      <td>2022-04-21</td>\n",
       "      <td>0 days 00:53:36</td>\n",
       "      <td>0 days 00:54:00</td>\n",
       "      <td>-31.865978</td>\n",
       "      <td>43.566042</td>\n",
       "    </tr>\n",
       "  </tbody>\n",
       "</table>\n",
       "<p>50 rows × 30 columns</p>\n",
       "</div>"
      ],
      "text/plain": [
       "            gameId  eventId eventType  \\\n",
       "1223    2021020004      213      Goal   \n",
       "1267    2021020004      257      Goal   \n",
       "8630    2021020027      189      Goal   \n",
       "14302   2021020045      288      Goal   \n",
       "22731   2021020072      182      Goal   \n",
       "26513   2021020084      230      Goal   \n",
       "26584   2021020084      301      Goal   \n",
       "30770   2021020098       78      Goal   \n",
       "35618   2021020113      262      Goal   \n",
       "47827   2021020152      217      Goal   \n",
       "56896   2021020181      141      Goal   \n",
       "65606   2021020209       53      Goal   \n",
       "85612   2021020273       76      Goal   \n",
       "85858   2021020273      322      Goal   \n",
       "87900   2021020280      211      Goal   \n",
       "96576   2021020309      127      Goal   \n",
       "96581   2021020309      132      Goal   \n",
       "96666   2021020309      216      Goal   \n",
       "102632  2021020329      184      Goal   \n",
       "116438  2021020372      122      Goal   \n",
       "140882  2021020451      105      Goal   \n",
       "146716  2021020469      345      Goal   \n",
       "175332  2021020560      229      Goal   \n",
       "175339  2021020560      236      Goal   \n",
       "210021  2021020670      279      Goal   \n",
       "212833  2021020680       73      Goal   \n",
       "217564  2021020695       82      Goal   \n",
       "227522  2021020726      220      Goal   \n",
       "227564  2021020726      261      Goal   \n",
       "257029  2021020818      265      Goal   \n",
       "272839  2021020868      154      Goal   \n",
       "277962  2021020884      208      Goal   \n",
       "286770  2021020912      173      Goal   \n",
       "286896  2021020912      299      Goal   \n",
       "300978  2021020956      277      Goal   \n",
       "305819  2021020971      163      Goal   \n",
       "308308  2021020978      335      Goal   \n",
       "313747  2021020995      153      Goal   \n",
       "324181  2021021028      145      Goal   \n",
       "327490  2021021038      275      Goal   \n",
       "345868  2021021095      268      Goal   \n",
       "345926  2021021095      326      Goal   \n",
       "354652  2021021123       91      Goal   \n",
       "361872  2021021146      179      Goal   \n",
       "365984  2021021158      380      Goal   \n",
       "369633  2021021170       32      Goal   \n",
       "378477  2021021198      230      Goal   \n",
       "384180  2021021216      182      Goal   \n",
       "389021  2021021231      132      Goal   \n",
       "389183  2021021231      294      Goal   \n",
       "\n",
       "                                            eventTypeDesc  period periodTime  \\\n",
       "1223    Alex Ovechkin (1) Wrist Shot, assists: Anthony...       3      02:37   \n",
       "1267    Alex Ovechkin (2) Backhand, assists: Evgeny Ku...       3      12:01   \n",
       "8630    Alex Ovechkin (3) Snap Shot, assists: Trevor v...       2      18:51   \n",
       "14302   Alex Ovechkin (4) Wrist Shot, assists: Tom Wil...       3      17:39   \n",
       "22731         Alex Ovechkin (5) Wrist Shot, assists: none       2      18:03   \n",
       "26513         Alex Ovechkin (6) Wrist Shot, assists: none       2      16:27   \n",
       "26584   Alex Ovechkin (7) Wrist Shot, assists: Tom Wil...       3      10:46   \n",
       "30770   Alex Ovechkin (8) Snap Shot, assists: Lars Ell...       1      19:05   \n",
       "35618   Alex Ovechkin (9) Wrist Shot, assists: Evgeny ...       3      19:39   \n",
       "47827   Alex Ovechkin (10) Wrist Shot, assists: Lars E...       2      18:11   \n",
       "56896   Alex Ovechkin (11) Tip-In, assists: Dmitry Orl...       2      08:55   \n",
       "65606   Alex Ovechkin (12) Deflected, assists: Evgeny ...       1      10:19   \n",
       "85612   Alex Ovechkin (13) Slap Shot, assists: John Ca...       1      13:58   \n",
       "85858   Alex Ovechkin (14) Wrist Shot, assists: Nic Do...       3      18:56   \n",
       "87900   Alex Ovechkin (15) Wrist Shot, assists: Dmitry...       3      03:09   \n",
       "96576   Alex Ovechkin (16) Wrist Shot, assists: Tom Wi...       2      02:50   \n",
       "96581   Alex Ovechkin (17) Snap Shot, assists: Aliakse...       2      03:46   \n",
       "96666   Alex Ovechkin (18) Slap Shot, assists: Evgeny ...       3      04:02   \n",
       "102632  Alex Ovechkin (19) Wrist Shot, assists: Dmitry...       2      11:58   \n",
       "116438  Alex Ovechkin (20) Snap Shot, assists: John Ca...       2      03:12   \n",
       "140882  Alex Ovechkin (21) Slap Shot, assists: T.J. Os...       2      03:36   \n",
       "146716  Alex Ovechkin (22) Wrist Shot, assists: Daniel...       3      19:09   \n",
       "175332  Alex Ovechkin (23) Slap Shot, assists: Evgeny ...       3      17:09   \n",
       "175339  Alex Ovechkin (24) Snap Shot, assists: Garnet ...       3      19:19   \n",
       "210021  Alex Ovechkin (25) Wrist Shot, assists: Evgeny...       3      19:49   \n",
       "212833  Alex Ovechkin (26) Slap Shot, assists: Justin ...       1      10:31   \n",
       "217564  Alex Ovechkin (27) Wrist Shot, assists: Garnet...       1      16:58   \n",
       "227522  Alex Ovechkin (28) Snap Shot, assists: Trevor ...       3      01:39   \n",
       "227564  Alex Ovechkin (29) Snap Shot, assists: Nicklas...       3      09:43   \n",
       "257029  Alex Ovechkin (32) Wrist Shot, assists: Evgeny...       3      18:58   \n",
       "272839  Alex Ovechkin (33) Slap Shot, assists: John Ca...       2      15:05   \n",
       "277962  Alex Ovechkin (34) Slap Shot, assists: John Ca...       3      00:47   \n",
       "286770  Alex Ovechkin (35) Wrist Shot, assists: Evgeny...       2      13:23   \n",
       "286896  Alex Ovechkin (36) Wrist Shot, assists: Tom Wi...       3      18:12   \n",
       "300978  Alex Ovechkin (37) Snap Shot, assists: Evgeny ...       3      15:02   \n",
       "305819  Alex Ovechkin (38) Snap Shot, assists: Conor S...       2      10:44   \n",
       "308308  Alex Ovechkin (39) Snap Shot, assists: Nicklas...       3      14:56   \n",
       "313747  Alex Ovechkin (40) Slap Shot, assists: John Ca...       2      04:53   \n",
       "324181  Alex Ovechkin (41) Slap Shot, assists: Evgeny ...       2      16:47   \n",
       "327490  Alex Ovechkin (42) Snap Shot, assists: Evgeny ...       3      11:48   \n",
       "345868  Alex Ovechkin (30) Slap Shot, assists: John Ca...       3      04:33   \n",
       "345926       Alex Ovechkin (31) Wrist Shot, assists: none       3      18:37   \n",
       "354652  Alex Ovechkin (43) Snap Shot, assists: John Ca...       1      15:10   \n",
       "361872  Alex Ovechkin (44) Slap Shot, assists: John Ca...       2      04:49   \n",
       "365984  Alex Ovechkin (45) Wrist Shot, assists: Evgeny...       3      19:58   \n",
       "369633  Alex Ovechkin (46) Backhand, assists: Conor Sh...       1      06:01   \n",
       "378477  Alex Ovechkin (47) Wrist Shot, assists: Evgeny...       2      15:36   \n",
       "384180  Alex Ovechkin (48) Wrist Shot, assists: Evgeny...       2      13:27   \n",
       "389021  Alex Ovechkin (49) Snap Shot, assists: Evgeny ...       2      02:57   \n",
       "389183  Alex Ovechkin (50) Slap Shot, assists: Dmitry ...       3      13:36   \n",
       "\n",
       "       periodType  teamAwayID  teamHomeID  goalsHome  ...  player3Type  \\\n",
       "1223      REGULAR           3          15          4  ...       Assist   \n",
       "1267      REGULAR           3          15          5  ...       Assist   \n",
       "8630      REGULAR          14          15          1  ...       Assist   \n",
       "14302     REGULAR          21          15          6  ...       Assist   \n",
       "22731     REGULAR          20          15          3  ...            0   \n",
       "26513     REGULAR          15           9          4  ...            0   \n",
       "26584     REGULAR          15           9          5  ...       Goalie   \n",
       "30770     REGULAR          17          15          1  ...       Assist   \n",
       "35618     REGULAR          53          15          2  ...       Assist   \n",
       "47827     REGULAR          15          13          4  ...       Goalie   \n",
       "56896     REGULAR           7          15          3  ...       Assist   \n",
       "65606     REGULAR          15          29          1  ...       Assist   \n",
       "85612     REGULAR          15          28          0  ...       Assist   \n",
       "85858     REGULAR          15          28          0  ...            0   \n",
       "87900     REGULAR          15          55          4  ...       Assist   \n",
       "96576     REGULAR          13          15          2  ...       Assist   \n",
       "96581     REGULAR          13          15          3  ...       Assist   \n",
       "96666     REGULAR          13          15          4  ...       Assist   \n",
       "102632    REGULAR          15          12          0  ...       Assist   \n",
       "116438    REGULAR          29          15          2  ...       Goalie   \n",
       "140882    REGULAR          15          16          0  ...       Assist   \n",
       "146716    REGULAR          15          52          2  ...       Assist   \n",
       "175332    REGULAR          15          17          1  ...       Assist   \n",
       "175339    REGULAR          15          17          1  ...       Assist   \n",
       "210021    REGULAR          15           2          0  ...       Assist   \n",
       "212833    REGULAR          23          15          1  ...       Assist   \n",
       "217564    REGULAR          52          15          1  ...       Goalie   \n",
       "227522    REGULAR           9          15          1  ...       Assist   \n",
       "227564    REGULAR           9          15          2  ...       Goalie   \n",
       "257029    REGULAR          15           3          4  ...       Goalie   \n",
       "272839    REGULAR          12          15          3  ...       Assist   \n",
       "277962    REGULAR          55          15          4  ...       Assist   \n",
       "286770    REGULAR          15          20          2  ...       Goalie   \n",
       "286896    REGULAR          15          20          3  ...       Assist   \n",
       "300978    REGULAR           2          15          3  ...       Goalie   \n",
       "305819    REGULAR          15          29          1  ...       Assist   \n",
       "308308    REGULAR          15          12          3  ...       Goalie   \n",
       "313747    REGULAR          25          15          1  ...       Assist   \n",
       "324181    REGULAR          15           7          3  ...       Goalie   \n",
       "327490    REGULAR           1          15          4  ...       Assist   \n",
       "345868    REGULAR          15          18          1  ...       Assist   \n",
       "345926    REGULAR          15          18          1  ...            0   \n",
       "354652    REGULAR          14          15          3  ...       Assist   \n",
       "361872    REGULAR          15           5          3  ...       Assist   \n",
       "365984    REGULAR           6          15          4  ...       Assist   \n",
       "369633    REGULAR           4          15          1  ...       Assist   \n",
       "378477    REGULAR          15           8          2  ...       Goalie   \n",
       "384180    REGULAR          15          21          1  ...       Assist   \n",
       "389021    REGULAR          15          54          1  ...       Assist   \n",
       "389183    REGULAR          15          54          3  ...       Assist   \n",
       "\n",
       "                player3Name  player4Id  player4Type         player4Name  \\\n",
       "1223           John Carlson    8480382       Goalie  Alexandar Georgiev   \n",
       "1267    Trevor van Riemsdyk    8480382       Goalie  Alexandar Georgiev   \n",
       "8630             Tom Wilson    8476883       Goalie  Andrei Vasilevskiy   \n",
       "14302      Evgeny Kuznetsov          0            0                   0   \n",
       "22731                     0          0            0                   0   \n",
       "26513                     0          0            0                   0   \n",
       "26584      Filip Gustavsson          0            0                   0   \n",
       "30770        Anthony Mantha    8471306       Goalie       Thomas Greiss   \n",
       "35618          John Carlson          0            0                   0   \n",
       "47827        Spencer Knight          0            0                   0   \n",
       "56896      Evgeny Kuznetsov    8474682       Goalie     Dustin Tokarski   \n",
       "65606            Tom Wilson    8476914       Goalie    Joonas Korpisalo   \n",
       "85612            T.J. Oshie    8478499       Goalie           Adin Hill   \n",
       "85858                     0          0            0                   0   \n",
       "87900            Tom Wilson    8475831       Goalie    Philipp Grubauer   \n",
       "96576       Aliaksei Protas    8475683       Goalie    Sergei Bobrovsky   \n",
       "96581      Evgeny Kuznetsov    8481519       Goalie      Spencer Knight   \n",
       "96666            Tom Wilson    8475683       Goalie    Sergei Bobrovsky   \n",
       "102632           Tom Wilson    8475883       Goalie   Frederik Andersen   \n",
       "116438       Daniil Tarasov          0            0                   0   \n",
       "140882    Nicklas Backstrom    8470594       Goalie   Marc-Andre Fleury   \n",
       "146716         John Carlson          0            0                   0   \n",
       "175332    Nicklas Backstrom    8471306       Goalie       Thomas Greiss   \n",
       "175339         John Carlson          0            0                   0   \n",
       "210021    Nicklas Backstrom          0            0                   0   \n",
       "212833     Evgeny Kuznetsov    8477967       Goalie      Thatcher Demko   \n",
       "217564    Connor Hellebuyck          0            0                   0   \n",
       "227522     Evgeny Kuznetsov    8476899       Goalie         Matt Murray   \n",
       "227564          Matt Murray          0            0                   0   \n",
       "257029      Igor Shesterkin          0            0                   0   \n",
       "272839           T.J. Oshie    8475883       Goalie   Frederik Andersen   \n",
       "277962    Nicklas Backstrom    8476904       Goalie      Chris Driedger   \n",
       "286770           Dan Vladar          0            0                   0   \n",
       "286896          Nick Jensen          0            0                   0   \n",
       "300978      Semyon Varlamov          0            0                   0   \n",
       "305819           Tom Wilson    8478007       Goalie    Elvis Merzlikins   \n",
       "308308         Antti Raanta          0            0                   0   \n",
       "313747     Evgeny Kuznetsov    8479979       Goalie      Jake Oettinger   \n",
       "324181      Dustin Tokarski          0            0                   0   \n",
       "327490    Nicklas Backstrom    8482076       Goalie           Nico Daws   \n",
       "345868           Tom Wilson    8477424       Goalie         Juuse Saros   \n",
       "345926                    0          0            0                   0   \n",
       "354652     Evgeny Kuznetsov    8476883       Goalie  Andrei Vasilevskiy   \n",
       "361872    Nicklas Backstrom    8477465       Goalie       Tristan Jarry   \n",
       "365984         John Carlson          0            0                   0   \n",
       "369633     Evgeny Kuznetsov    8479394       Goalie         Carter Hart   \n",
       "378477     Sam Montembeault          0            0                   0   \n",
       "384180         John Carlson    8475311       Goalie       Darcy Kuemper   \n",
       "389021     Marcus Johansson    8480313       Goalie      Logan Thompson   \n",
       "389183    Nicklas Backstrom    8480313       Goalie      Logan Thompson   \n",
       "\n",
       "         startDate  periodTimeFull periodTimeFull_rounded shot_angle  \\\n",
       "1223    2021-10-13 0 days 00:42:37        0 days 00:43:00  49.763642   \n",
       "1267    2021-10-13 0 days 00:52:01        0 days 00:52:00  30.963757   \n",
       "8630    2021-10-16 0 days 00:38:51        0 days 00:39:00  -3.691386   \n",
       "14302   2021-10-19 0 days 00:57:39        0 days 00:58:00  30.256437   \n",
       "22731   2021-10-23 0 days 00:38:03        0 days 00:38:00  35.753887   \n",
       "26513   2021-10-25 0 days 00:36:27        0 days 00:36:00 -16.699244   \n",
       "26584   2021-10-25 0 days 00:50:46        0 days 00:51:00  16.389540   \n",
       "30770   2021-10-27 0 days 00:19:05        0 days 00:19:00  66.801409   \n",
       "35618   2021-10-29 0 days 00:59:39        0 days 01:00:00  21.194056   \n",
       "47827   2021-11-04 0 days 00:38:11        0 days 00:38:00  25.769328   \n",
       "56896   2021-11-09 0 days 00:28:55        0 days 00:29:00   3.691386   \n",
       "65606   2021-11-13 0 days 00:10:19        0 days 00:10:00  20.095231   \n",
       "85612   2021-11-21 0 days 00:13:58        0 days 00:14:00  34.114473   \n",
       "85858   2021-11-21 0 days 00:58:56        0 days 00:59:00   1.432096   \n",
       "87900   2021-11-22 0 days 00:43:09        0 days 00:43:00 -11.976132   \n",
       "96576   2021-11-26 0 days 00:22:50        0 days 00:23:00  36.253838   \n",
       "96581   2021-11-26 0 days 00:23:46        0 days 00:24:00 -52.523820   \n",
       "96666   2021-11-26 0 days 00:44:02        0 days 00:44:00   3.576334   \n",
       "102632  2021-11-28 0 days 00:31:58        0 days 00:32:00  56.309932   \n",
       "116438  2021-12-05 0 days 00:23:12        0 days 00:23:00 -31.701430   \n",
       "140882  2021-12-16 0 days 00:23:36        0 days 00:24:00  37.746805   \n",
       "146716  2021-12-18 0 days 00:59:09        0 days 00:59:00   2.973731   \n",
       "175332  2022-01-01 0 days 00:57:09        0 days 00:57:00  17.354025   \n",
       "175339  2022-01-01 0 days 00:59:19        0 days 00:59:00 -41.054814   \n",
       "210021  2022-01-15 0 days 00:59:49        0 days 01:00:00 -12.528808   \n",
       "212833  2022-01-16 0 days 00:10:31        0 days 00:11:00  40.156000   \n",
       "217564  2022-01-19 0 days 00:16:58        0 days 00:17:00  38.659808   \n",
       "227522  2022-01-23 0 days 00:41:39        0 days 00:42:00 -18.434949   \n",
       "227564  2022-01-23 0 days 00:49:43        0 days 00:50:00  -4.398705   \n",
       "257029  2022-02-25 0 days 00:58:58        0 days 00:59:00 -41.185925   \n",
       "272839  2022-03-04 0 days 00:35:05        0 days 00:35:00  36.869898   \n",
       "277962  2022-03-06 0 days 00:40:47        0 days 00:41:00  43.090848   \n",
       "286770  2022-03-09 0 days 00:33:23        0 days 00:33:00  24.145542   \n",
       "286896  2022-03-09 0 days 00:58:12        0 days 00:58:00 -25.277722   \n",
       "300978  2022-03-15 0 days 00:55:02        0 days 00:55:00 -19.983107   \n",
       "305819  2022-03-17 0 days 00:30:44        0 days 00:31:00  26.565051   \n",
       "308308  2022-03-18 0 days 00:54:56        0 days 00:55:00  39.289407   \n",
       "313747  2022-03-20 0 days 00:24:53        0 days 00:25:00  22.833654   \n",
       "324181  2022-03-25 0 days 00:36:47        0 days 00:37:00  -4.513988   \n",
       "327490  2022-03-26 0 days 00:51:48        0 days 00:52:00  41.185925   \n",
       "345868  2022-02-16 0 days 00:44:33        0 days 00:45:00  41.054814   \n",
       "345926  2022-02-16 0 days 00:58:37        0 days 00:59:00   5.355825   \n",
       "354652  2022-04-06 0 days 00:15:10        0 days 00:15:00 -14.036243   \n",
       "361872  2022-04-09 0 days 00:24:49        0 days 00:25:00  29.931512   \n",
       "365984  2022-04-10 0 days 00:59:58        0 days 01:00:00   0.000000   \n",
       "369633  2022-04-12 0 days 00:06:01        0 days 00:06:00  90.000000   \n",
       "378477  2022-04-16 0 days 00:35:36        0 days 00:36:00  16.389540   \n",
       "384180  2022-04-19 0 days 00:33:27        0 days 00:33:00  38.659808   \n",
       "389021  2022-04-21 0 days 00:22:57        0 days 00:23:00  43.919076   \n",
       "389183  2022-04-21 0 days 00:53:36        0 days 00:54:00 -31.865978   \n",
       "\n",
       "        shot_distance  \n",
       "1223        17.029386  \n",
       "1267         5.830952  \n",
       "8630        31.064449  \n",
       "14302       41.677332  \n",
       "22731       30.805844  \n",
       "26513       10.440307  \n",
       "26584       35.440090  \n",
       "30770        7.615773  \n",
       "35618       52.554733  \n",
       "47827       32.202484  \n",
       "56896       31.064449  \n",
       "65606       43.657760  \n",
       "85612       37.443290  \n",
       "85858       40.012498  \n",
       "87900       33.734256  \n",
       "96576       18.601075  \n",
       "96581       37.802116  \n",
       "96666       16.031220  \n",
       "102632       7.211103  \n",
       "116438      39.962482  \n",
       "140882      39.204592  \n",
       "146716      77.103826  \n",
       "175332      50.289164  \n",
       "175339      41.109610  \n",
       "210021       9.219544  \n",
       "212833      41.868843  \n",
       "217564      19.209373  \n",
       "227522       9.486833  \n",
       "227564      13.038405  \n",
       "257029      10.630146  \n",
       "272839      45.000000  \n",
       "277962      42.449971  \n",
       "286770      31.780497  \n",
       "286896      79.624117  \n",
       "300978      35.114100  \n",
       "305819      38.013156  \n",
       "308308      42.638011  \n",
       "313747      41.231056  \n",
       "324181      38.118237  \n",
       "327490      10.630146  \n",
       "345868      41.109610  \n",
       "345926      32.140317  \n",
       "354652      16.492423  \n",
       "361872      38.078866  \n",
       "365984      19.000000  \n",
       "369633      11.000000  \n",
       "378477      17.720045  \n",
       "384180      12.806248  \n",
       "389021      37.483330  \n",
       "389183      43.566042  \n",
       "\n",
       "[50 rows x 30 columns]"
      ]
     },
     "execution_count": 190,
     "metadata": {},
     "output_type": "execute_result"
    }
   ],
   "source": [
    "#Uj dataframe meghatarozott ember meghatarozott esemenyeivel\n",
    "sog_df = pd.DataFrame()\n",
    "sog_df = events_df[events_df['eventType'].isin(['Goal'])]\n",
    "sog_df = sog_df[sog_df['player1Id'].isin([8471214])]\n",
    "sog_df = sog_df[sog_df['periodType'] != 'SHOOTOUT']\n",
    "sog_df = sog_df.drop_duplicates()\n",
    "\n",
    "#for idx, i in enumerate(sog_df['coX']):\n",
    " #   if i<0:\n",
    "  #      sog_df['coX'].iloc[idx] = abs(sog_df['coX'].iloc[idx])\n",
    "   #     sog_df['coY'].iloc[idx] = sog_df['coY'].iloc[idx]*-1\n",
    "\n",
    "sog_df"
   ]
  },
  {
   "cell_type": "code",
   "execution_count": 191,
   "id": "e8c5d8b0",
   "metadata": {
    "scrolled": true
   },
   "outputs": [
    {
     "ename": "KeyboardInterrupt",
     "evalue": "",
     "output_type": "error",
     "traceback": [
      "\u001b[0;31m---------------------------------------------------------------------------\u001b[0m",
      "\u001b[0;31mKeyboardInterrupt\u001b[0m                         Traceback (most recent call last)",
      "Input \u001b[0;32mIn [191]\u001b[0m, in \u001b[0;36m<cell line: 7>\u001b[0;34m()\u001b[0m\n\u001b[1;32m      5\u001b[0m Y_axis \u001b[38;5;241m=\u001b[39m events_df[[\u001b[38;5;124m'\u001b[39m\u001b[38;5;124mcoX\u001b[39m\u001b[38;5;124m'\u001b[39m]]\n\u001b[1;32m      6\u001b[0m X_axis \u001b[38;5;241m=\u001b[39m events_df[[\u001b[38;5;124m'\u001b[39m\u001b[38;5;124mcoY\u001b[39m\u001b[38;5;124m'\u001b[39m]]\n\u001b[0;32m----> 7\u001b[0m score \u001b[38;5;241m=\u001b[39m [kmeans[i]\u001b[38;5;241m.\u001b[39mfit(Y_axis)\u001b[38;5;241m.\u001b[39mscore(Y_axis) \u001b[38;5;28;01mfor\u001b[39;00m i \u001b[38;5;129;01min\u001b[39;00m \u001b[38;5;28mrange\u001b[39m(\u001b[38;5;28mlen\u001b[39m(kmeans))]\n\u001b[1;32m      8\u001b[0m \u001b[38;5;66;03m# Visualize\u001b[39;00m\n\u001b[1;32m      9\u001b[0m plt\u001b[38;5;241m.\u001b[39mplot(K_clusters, score)\n",
      "Input \u001b[0;32mIn [191]\u001b[0m, in \u001b[0;36m<listcomp>\u001b[0;34m(.0)\u001b[0m\n\u001b[1;32m      5\u001b[0m Y_axis \u001b[38;5;241m=\u001b[39m events_df[[\u001b[38;5;124m'\u001b[39m\u001b[38;5;124mcoX\u001b[39m\u001b[38;5;124m'\u001b[39m]]\n\u001b[1;32m      6\u001b[0m X_axis \u001b[38;5;241m=\u001b[39m events_df[[\u001b[38;5;124m'\u001b[39m\u001b[38;5;124mcoY\u001b[39m\u001b[38;5;124m'\u001b[39m]]\n\u001b[0;32m----> 7\u001b[0m score \u001b[38;5;241m=\u001b[39m [\u001b[43mkmeans\u001b[49m\u001b[43m[\u001b[49m\u001b[43mi\u001b[49m\u001b[43m]\u001b[49m\u001b[38;5;241;43m.\u001b[39;49m\u001b[43mfit\u001b[49m\u001b[43m(\u001b[49m\u001b[43mY_axis\u001b[49m\u001b[43m)\u001b[49m\u001b[38;5;241m.\u001b[39mscore(Y_axis) \u001b[38;5;28;01mfor\u001b[39;00m i \u001b[38;5;129;01min\u001b[39;00m \u001b[38;5;28mrange\u001b[39m(\u001b[38;5;28mlen\u001b[39m(kmeans))]\n\u001b[1;32m      8\u001b[0m \u001b[38;5;66;03m# Visualize\u001b[39;00m\n\u001b[1;32m      9\u001b[0m plt\u001b[38;5;241m.\u001b[39mplot(K_clusters, score)\n",
      "File \u001b[0;32m~/opt/anaconda3/lib/python3.9/site-packages/sklearn/cluster/_kmeans.py:1186\u001b[0m, in \u001b[0;36mKMeans.fit\u001b[0;34m(self, X, y, sample_weight)\u001b[0m\n\u001b[1;32m   1183\u001b[0m     \u001b[38;5;28mprint\u001b[39m(\u001b[38;5;124m\"\u001b[39m\u001b[38;5;124mInitialization complete\u001b[39m\u001b[38;5;124m\"\u001b[39m)\n\u001b[1;32m   1185\u001b[0m \u001b[38;5;66;03m# run a k-means once\u001b[39;00m\n\u001b[0;32m-> 1186\u001b[0m labels, inertia, centers, n_iter_ \u001b[38;5;241m=\u001b[39m \u001b[43mkmeans_single\u001b[49m\u001b[43m(\u001b[49m\n\u001b[1;32m   1187\u001b[0m \u001b[43m    \u001b[49m\u001b[43mX\u001b[49m\u001b[43m,\u001b[49m\n\u001b[1;32m   1188\u001b[0m \u001b[43m    \u001b[49m\u001b[43msample_weight\u001b[49m\u001b[43m,\u001b[49m\n\u001b[1;32m   1189\u001b[0m \u001b[43m    \u001b[49m\u001b[43mcenters_init\u001b[49m\u001b[43m,\u001b[49m\n\u001b[1;32m   1190\u001b[0m \u001b[43m    \u001b[49m\u001b[43mmax_iter\u001b[49m\u001b[38;5;241;43m=\u001b[39;49m\u001b[38;5;28;43mself\u001b[39;49m\u001b[38;5;241;43m.\u001b[39;49m\u001b[43mmax_iter\u001b[49m\u001b[43m,\u001b[49m\n\u001b[1;32m   1191\u001b[0m \u001b[43m    \u001b[49m\u001b[43mverbose\u001b[49m\u001b[38;5;241;43m=\u001b[39;49m\u001b[38;5;28;43mself\u001b[39;49m\u001b[38;5;241;43m.\u001b[39;49m\u001b[43mverbose\u001b[49m\u001b[43m,\u001b[49m\n\u001b[1;32m   1192\u001b[0m \u001b[43m    \u001b[49m\u001b[43mtol\u001b[49m\u001b[38;5;241;43m=\u001b[39;49m\u001b[38;5;28;43mself\u001b[39;49m\u001b[38;5;241;43m.\u001b[39;49m\u001b[43m_tol\u001b[49m\u001b[43m,\u001b[49m\n\u001b[1;32m   1193\u001b[0m \u001b[43m    \u001b[49m\u001b[43mx_squared_norms\u001b[49m\u001b[38;5;241;43m=\u001b[39;49m\u001b[43mx_squared_norms\u001b[49m\u001b[43m,\u001b[49m\n\u001b[1;32m   1194\u001b[0m \u001b[43m    \u001b[49m\u001b[43mn_threads\u001b[49m\u001b[38;5;241;43m=\u001b[39;49m\u001b[38;5;28;43mself\u001b[39;49m\u001b[38;5;241;43m.\u001b[39;49m\u001b[43m_n_threads\u001b[49m\u001b[43m,\u001b[49m\n\u001b[1;32m   1195\u001b[0m \u001b[43m\u001b[49m\u001b[43m)\u001b[49m\n\u001b[1;32m   1197\u001b[0m \u001b[38;5;66;03m# determine if these results are the best so far\u001b[39;00m\n\u001b[1;32m   1198\u001b[0m \u001b[38;5;66;03m# we chose a new run if it has a better inertia and the clustering is\u001b[39;00m\n\u001b[1;32m   1199\u001b[0m \u001b[38;5;66;03m# different from the best so far (it's possible that the inertia is\u001b[39;00m\n\u001b[1;32m   1200\u001b[0m \u001b[38;5;66;03m# slightly better even if the clustering is the same with potentially\u001b[39;00m\n\u001b[1;32m   1201\u001b[0m \u001b[38;5;66;03m# permuted labels, due to rounding errors)\u001b[39;00m\n\u001b[1;32m   1202\u001b[0m \u001b[38;5;28;01mif\u001b[39;00m best_inertia \u001b[38;5;129;01mis\u001b[39;00m \u001b[38;5;28;01mNone\u001b[39;00m \u001b[38;5;129;01mor\u001b[39;00m (\n\u001b[1;32m   1203\u001b[0m     inertia \u001b[38;5;241m<\u001b[39m best_inertia\n\u001b[1;32m   1204\u001b[0m     \u001b[38;5;129;01mand\u001b[39;00m \u001b[38;5;129;01mnot\u001b[39;00m _is_same_clustering(labels, best_labels, \u001b[38;5;28mself\u001b[39m\u001b[38;5;241m.\u001b[39mn_clusters)\n\u001b[1;32m   1205\u001b[0m ):\n",
      "File \u001b[0;32m~/opt/anaconda3/lib/python3.9/site-packages/sklearn/cluster/_kmeans.py:491\u001b[0m, in \u001b[0;36m_kmeans_single_elkan\u001b[0;34m(X, sample_weight, centers_init, max_iter, verbose, x_squared_norms, tol, n_threads)\u001b[0m\n\u001b[1;32m    474\u001b[0m elkan_iter(\n\u001b[1;32m    475\u001b[0m     X,\n\u001b[1;32m    476\u001b[0m     sample_weight,\n\u001b[0;32m   (...)\u001b[0m\n\u001b[1;32m    486\u001b[0m     n_threads,\n\u001b[1;32m    487\u001b[0m )\n\u001b[1;32m    489\u001b[0m \u001b[38;5;66;03m# compute new pairwise distances between centers and closest other\u001b[39;00m\n\u001b[1;32m    490\u001b[0m \u001b[38;5;66;03m# center of each center for next iterations\u001b[39;00m\n\u001b[0;32m--> 491\u001b[0m center_half_distances \u001b[38;5;241m=\u001b[39m \u001b[43meuclidean_distances\u001b[49m\u001b[43m(\u001b[49m\u001b[43mcenters_new\u001b[49m\u001b[43m)\u001b[49m \u001b[38;5;241m/\u001b[39m \u001b[38;5;241m2\u001b[39m\n\u001b[1;32m    492\u001b[0m distance_next_center \u001b[38;5;241m=\u001b[39m np\u001b[38;5;241m.\u001b[39mpartition(\n\u001b[1;32m    493\u001b[0m     np\u001b[38;5;241m.\u001b[39masarray(center_half_distances), kth\u001b[38;5;241m=\u001b[39m\u001b[38;5;241m1\u001b[39m, axis\u001b[38;5;241m=\u001b[39m\u001b[38;5;241m0\u001b[39m\n\u001b[1;32m    494\u001b[0m )[\u001b[38;5;241m1\u001b[39m]\n\u001b[1;32m    496\u001b[0m \u001b[38;5;28;01mif\u001b[39;00m verbose:\n",
      "File \u001b[0;32m~/opt/anaconda3/lib/python3.9/site-packages/sklearn/metrics/pairwise.py:302\u001b[0m, in \u001b[0;36meuclidean_distances\u001b[0;34m(X, Y, Y_norm_squared, squared, X_norm_squared)\u001b[0m\n\u001b[1;32m    226\u001b[0m \u001b[38;5;28;01mdef\u001b[39;00m \u001b[38;5;21meuclidean_distances\u001b[39m(\n\u001b[1;32m    227\u001b[0m     X, Y\u001b[38;5;241m=\u001b[39m\u001b[38;5;28;01mNone\u001b[39;00m, \u001b[38;5;241m*\u001b[39m, Y_norm_squared\u001b[38;5;241m=\u001b[39m\u001b[38;5;28;01mNone\u001b[39;00m, squared\u001b[38;5;241m=\u001b[39m\u001b[38;5;28;01mFalse\u001b[39;00m, X_norm_squared\u001b[38;5;241m=\u001b[39m\u001b[38;5;28;01mNone\u001b[39;00m\n\u001b[1;32m    228\u001b[0m ):\n\u001b[1;32m    229\u001b[0m     \u001b[38;5;124;03m\"\"\"\u001b[39;00m\n\u001b[1;32m    230\u001b[0m \u001b[38;5;124;03m    Compute the distance matrix between each pair from a vector array X and Y.\u001b[39;00m\n\u001b[1;32m    231\u001b[0m \n\u001b[0;32m   (...)\u001b[0m\n\u001b[1;32m    300\u001b[0m \u001b[38;5;124;03m           [1.41421356]])\u001b[39;00m\n\u001b[1;32m    301\u001b[0m \u001b[38;5;124;03m    \"\"\"\u001b[39;00m\n\u001b[0;32m--> 302\u001b[0m     X, Y \u001b[38;5;241m=\u001b[39m \u001b[43mcheck_pairwise_arrays\u001b[49m\u001b[43m(\u001b[49m\u001b[43mX\u001b[49m\u001b[43m,\u001b[49m\u001b[43m \u001b[49m\u001b[43mY\u001b[49m\u001b[43m)\u001b[49m\n\u001b[1;32m    304\u001b[0m     \u001b[38;5;28;01mif\u001b[39;00m X_norm_squared \u001b[38;5;129;01mis\u001b[39;00m \u001b[38;5;129;01mnot\u001b[39;00m \u001b[38;5;28;01mNone\u001b[39;00m:\n\u001b[1;32m    305\u001b[0m         X_norm_squared \u001b[38;5;241m=\u001b[39m check_array(X_norm_squared, ensure_2d\u001b[38;5;241m=\u001b[39m\u001b[38;5;28;01mFalse\u001b[39;00m)\n",
      "File \u001b[0;32m~/opt/anaconda3/lib/python3.9/site-packages/sklearn/metrics/pairwise.py:147\u001b[0m, in \u001b[0;36mcheck_pairwise_arrays\u001b[0;34m(X, Y, precomputed, dtype, accept_sparse, force_all_finite, copy)\u001b[0m\n\u001b[1;32m    144\u001b[0m     dtype \u001b[38;5;241m=\u001b[39m dtype_float\n\u001b[1;32m    146\u001b[0m \u001b[38;5;28;01mif\u001b[39;00m Y \u001b[38;5;129;01mis\u001b[39;00m X \u001b[38;5;129;01mor\u001b[39;00m Y \u001b[38;5;129;01mis\u001b[39;00m \u001b[38;5;28;01mNone\u001b[39;00m:\n\u001b[0;32m--> 147\u001b[0m     X \u001b[38;5;241m=\u001b[39m Y \u001b[38;5;241m=\u001b[39m \u001b[43mcheck_array\u001b[49m\u001b[43m(\u001b[49m\n\u001b[1;32m    148\u001b[0m \u001b[43m        \u001b[49m\u001b[43mX\u001b[49m\u001b[43m,\u001b[49m\n\u001b[1;32m    149\u001b[0m \u001b[43m        \u001b[49m\u001b[43maccept_sparse\u001b[49m\u001b[38;5;241;43m=\u001b[39;49m\u001b[43maccept_sparse\u001b[49m\u001b[43m,\u001b[49m\n\u001b[1;32m    150\u001b[0m \u001b[43m        \u001b[49m\u001b[43mdtype\u001b[49m\u001b[38;5;241;43m=\u001b[39;49m\u001b[43mdtype\u001b[49m\u001b[43m,\u001b[49m\n\u001b[1;32m    151\u001b[0m \u001b[43m        \u001b[49m\u001b[43mcopy\u001b[49m\u001b[38;5;241;43m=\u001b[39;49m\u001b[43mcopy\u001b[49m\u001b[43m,\u001b[49m\n\u001b[1;32m    152\u001b[0m \u001b[43m        \u001b[49m\u001b[43mforce_all_finite\u001b[49m\u001b[38;5;241;43m=\u001b[39;49m\u001b[43mforce_all_finite\u001b[49m\u001b[43m,\u001b[49m\n\u001b[1;32m    153\u001b[0m \u001b[43m        \u001b[49m\u001b[43mestimator\u001b[49m\u001b[38;5;241;43m=\u001b[39;49m\u001b[43mestimator\u001b[49m\u001b[43m,\u001b[49m\n\u001b[1;32m    154\u001b[0m \u001b[43m    \u001b[49m\u001b[43m)\u001b[49m\n\u001b[1;32m    155\u001b[0m \u001b[38;5;28;01melse\u001b[39;00m:\n\u001b[1;32m    156\u001b[0m     X \u001b[38;5;241m=\u001b[39m check_array(\n\u001b[1;32m    157\u001b[0m         X,\n\u001b[1;32m    158\u001b[0m         accept_sparse\u001b[38;5;241m=\u001b[39maccept_sparse,\n\u001b[0;32m   (...)\u001b[0m\n\u001b[1;32m    162\u001b[0m         estimator\u001b[38;5;241m=\u001b[39mestimator,\n\u001b[1;32m    163\u001b[0m     )\n",
      "File \u001b[0;32m~/opt/anaconda3/lib/python3.9/site-packages/sklearn/utils/validation.py:800\u001b[0m, in \u001b[0;36mcheck_array\u001b[0;34m(array, accept_sparse, accept_large_sparse, dtype, order, copy, force_all_finite, ensure_2d, allow_nd, ensure_min_samples, ensure_min_features, estimator)\u001b[0m\n\u001b[1;32m    794\u001b[0m         \u001b[38;5;28;01mraise\u001b[39;00m \u001b[38;5;167;01mValueError\u001b[39;00m(\n\u001b[1;32m    795\u001b[0m             \u001b[38;5;124m\"\u001b[39m\u001b[38;5;124mFound array with dim \u001b[39m\u001b[38;5;132;01m%d\u001b[39;00m\u001b[38;5;124m. \u001b[39m\u001b[38;5;132;01m%s\u001b[39;00m\u001b[38;5;124m expected <= 2.\u001b[39m\u001b[38;5;124m\"\u001b[39m\n\u001b[1;32m    796\u001b[0m             \u001b[38;5;241m%\u001b[39m (array\u001b[38;5;241m.\u001b[39mndim, estimator_name)\n\u001b[1;32m    797\u001b[0m         )\n\u001b[1;32m    799\u001b[0m     \u001b[38;5;28;01mif\u001b[39;00m force_all_finite:\n\u001b[0;32m--> 800\u001b[0m         \u001b[43m_assert_all_finite\u001b[49m\u001b[43m(\u001b[49m\u001b[43marray\u001b[49m\u001b[43m,\u001b[49m\u001b[43m \u001b[49m\u001b[43mallow_nan\u001b[49m\u001b[38;5;241;43m=\u001b[39;49m\u001b[43mforce_all_finite\u001b[49m\u001b[43m \u001b[49m\u001b[38;5;241;43m==\u001b[39;49m\u001b[43m \u001b[49m\u001b[38;5;124;43m\"\u001b[39;49m\u001b[38;5;124;43mallow-nan\u001b[39;49m\u001b[38;5;124;43m\"\u001b[39;49m\u001b[43m)\u001b[49m\n\u001b[1;32m    802\u001b[0m \u001b[38;5;28;01mif\u001b[39;00m ensure_min_samples \u001b[38;5;241m>\u001b[39m \u001b[38;5;241m0\u001b[39m:\n\u001b[1;32m    803\u001b[0m     n_samples \u001b[38;5;241m=\u001b[39m _num_samples(array)\n",
      "File \u001b[0;32m~/opt/anaconda3/lib/python3.9/site-packages/sklearn/utils/validation.py:95\u001b[0m, in \u001b[0;36m_assert_all_finite\u001b[0;34m(X, allow_nan, msg_dtype)\u001b[0m\n\u001b[1;32m     92\u001b[0m \u001b[38;5;66;03m# validation is also imported in extmath\u001b[39;00m\n\u001b[1;32m     93\u001b[0m \u001b[38;5;28;01mfrom\u001b[39;00m \u001b[38;5;21;01m.\u001b[39;00m\u001b[38;5;21;01mextmath\u001b[39;00m \u001b[38;5;28;01mimport\u001b[39;00m _safe_accumulator_op\n\u001b[0;32m---> 95\u001b[0m \u001b[38;5;28;01mif\u001b[39;00m \u001b[43m_get_config\u001b[49m\u001b[43m(\u001b[49m\u001b[43m)\u001b[49m[\u001b[38;5;124m\"\u001b[39m\u001b[38;5;124massume_finite\u001b[39m\u001b[38;5;124m\"\u001b[39m]:\n\u001b[1;32m     96\u001b[0m     \u001b[38;5;28;01mreturn\u001b[39;00m\n\u001b[1;32m     97\u001b[0m X \u001b[38;5;241m=\u001b[39m np\u001b[38;5;241m.\u001b[39masanyarray(X)\n",
      "File \u001b[0;32m~/opt/anaconda3/lib/python3.9/site-packages/sklearn/_config.py:39\u001b[0m, in \u001b[0;36mget_config\u001b[0;34m()\u001b[0m\n\u001b[1;32m     25\u001b[0m \u001b[38;5;124;03m\"\"\"Retrieve current values for configuration set by :func:`set_config`.\u001b[39;00m\n\u001b[1;32m     26\u001b[0m \n\u001b[1;32m     27\u001b[0m \u001b[38;5;124;03mReturns\u001b[39;00m\n\u001b[0;32m   (...)\u001b[0m\n\u001b[1;32m     35\u001b[0m \u001b[38;5;124;03mset_config : Set global scikit-learn configuration.\u001b[39;00m\n\u001b[1;32m     36\u001b[0m \u001b[38;5;124;03m\"\"\"\u001b[39;00m\n\u001b[1;32m     37\u001b[0m \u001b[38;5;66;03m# Return a copy of the threadlocal configuration so that users will\u001b[39;00m\n\u001b[1;32m     38\u001b[0m \u001b[38;5;66;03m# not be able to modify the configuration with the returned dict.\u001b[39;00m\n\u001b[0;32m---> 39\u001b[0m \u001b[38;5;28;01mreturn\u001b[39;00m \u001b[43m_get_threadlocal_config\u001b[49m\u001b[43m(\u001b[49m\u001b[43m)\u001b[49m\u001b[38;5;241m.\u001b[39mcopy()\n",
      "File \u001b[0;32m~/opt/anaconda3/lib/python3.9/site-packages/sklearn/_config.py:19\u001b[0m, in \u001b[0;36m_get_threadlocal_config\u001b[0;34m()\u001b[0m\n\u001b[1;32m     16\u001b[0m \u001b[38;5;28;01mdef\u001b[39;00m \u001b[38;5;21m_get_threadlocal_config\u001b[39m():\n\u001b[1;32m     17\u001b[0m     \u001b[38;5;124;03m\"\"\"Get a threadlocal **mutable** configuration. If the configuration\u001b[39;00m\n\u001b[1;32m     18\u001b[0m \u001b[38;5;124;03m    does not exist, copy the default global configuration.\"\"\"\u001b[39;00m\n\u001b[0;32m---> 19\u001b[0m     \u001b[38;5;28;01mif\u001b[39;00m \u001b[38;5;129;01mnot\u001b[39;00m \u001b[38;5;28;43mhasattr\u001b[39;49m\u001b[43m(\u001b[49m\u001b[43m_threadlocal\u001b[49m\u001b[43m,\u001b[49m\u001b[43m \u001b[49m\u001b[38;5;124;43m\"\u001b[39;49m\u001b[38;5;124;43mglobal_config\u001b[39;49m\u001b[38;5;124;43m\"\u001b[39;49m\u001b[43m)\u001b[49m:\n\u001b[1;32m     20\u001b[0m         _threadlocal\u001b[38;5;241m.\u001b[39mglobal_config \u001b[38;5;241m=\u001b[39m _global_config\u001b[38;5;241m.\u001b[39mcopy()\n\u001b[1;32m     21\u001b[0m     \u001b[38;5;28;01mreturn\u001b[39;00m _threadlocal\u001b[38;5;241m.\u001b[39mglobal_config\n",
      "\u001b[0;31mKeyboardInterrupt\u001b[0m: "
     ]
    }
   ],
   "source": [
    "#Meghatarozzuk, hany klaszter erdemes letrehozni a koordinatakra (a konyokpont erteke kell nekunk, ahonnan mar\n",
    "#nem novekszik tovabb lavanyosan a fgv.)\n",
    "K_clusters = range(1,10)\n",
    "kmeans = [KMeans(n_clusters=i) for i in K_clusters]\n",
    "Y_axis = events_df[['coX']]\n",
    "X_axis = events_df[['coY']]\n",
    "score = [kmeans[i].fit(Y_axis).score(Y_axis) for i in range(len(kmeans))]\n",
    "# Visualize\n",
    "plt.plot(K_clusters, score)\n",
    "plt.xlabel('Number of Clusters')\n",
    "plt.ylabel('Score')\n",
    "plt.title('Elbow Curve')\n",
    "plt.show()"
   ]
  },
  {
   "cell_type": "code",
   "execution_count": 192,
   "id": "b4ef554d",
   "metadata": {
    "scrolled": true
   },
   "outputs": [],
   "source": [
    "#Letrehozunk egy uj dataframet a koordinatas vizualizaciohoz az x es y koordinatakkal\n",
    "X = sog_df.loc[:,['coX','coY']]\n",
    "\n",
    "X_round = sog_df.loc[:,['coX','coY']]\n",
    "\n",
    "#Uj dataframe, szamok kerekitve a masodik fajta vizualizaciohoz, hogy a szinek jol nezzenek ki:\n",
    "for idx, i in X_round.iterrows():\n",
    "    X_round.loc[idx,'coX'] = (round(X_round.loc[idx,'coX']/5.0)*5.0)\n",
    "    X_round.loc[idx,'coY'] = (round(X_round.loc[idx,'coY']/5.0)*5.0)\n",
    "#X\n"
   ]
  },
  {
   "cell_type": "code",
   "execution_count": 193,
   "id": "f7e72ae6",
   "metadata": {
    "scrolled": false
   },
   "outputs": [
    {
     "data": {
      "image/png": "[encoded data removed]",
      "text/plain": [
       "<Figure size 432x288 with 1 Axes>"
      ]
     },
     "metadata": {
      "needs_background": "light"
     },
     "output_type": "display_data"
    }
   ],
   "source": [
    "#A meghatarozott klaszterszamot megadva klaszterekbe soroljuk a koordinatakat\n",
    "kmeans = KMeans(n_clusters = 3, init ='k-means++')\n",
    "kmeans.fit(X[X.columns[0:2]]) # Compute k-means clustering.\n",
    "X['cluster_label'] = kmeans.fit_predict(X[X.columns[0:2]])\n",
    "centers = kmeans.cluster_centers_ # Coordinates of cluster centers.\n",
    "labels = kmeans.predict(X[X.columns[0:2]]) # Labels of each point\n",
    "\n",
    "#Kiszamoljuk a pottyok meretet, a klaszterek elemszamat vesszuk es megszorozzuk valamennyiel, hogy nagyobb legyen.\n",
    "size = X.groupby(['cluster_label']).count()\n",
    "size = size['coX']*30\n",
    "\n",
    "#Ket valtozot inicializalunk aminek megadjuk az X es Y oszlopunkat, hogy kesobb be tudjuk taplalni a plot-ba\n",
    "coX = X['coX']\n",
    "coY = X['coY']\n",
    "img = plt.imread('hockeyrink.jpeg')\n",
    "fig, ax = plt.subplots()\n",
    "ax.imshow(img, extent=[0, 100, -42.5, 42.5])\n",
    "ax.scatter(X['coX'], X['coY'])\n",
    "plt.scatter(centers[:, 0], centers[:, 1], c='black', s=size, marker='H', alpha=0.8)\n",
    "plt.xlim(0,100)\n",
    "plt.ylim(-42.5,42.5)\n",
    "plt.show()"
   ]
  },
  {
   "cell_type": "code",
   "execution_count": 61,
   "id": "2215541a",
   "metadata": {
    "scrolled": true
   },
   "outputs": [
    {
     "data": {
      "text/html": [
       "<div>\n",
       "<style scoped>\n",
       "    .dataframe tbody tr th:only-of-type {\n",
       "        vertical-align: middle;\n",
       "    }\n",
       "\n",
       "    .dataframe tbody tr th {\n",
       "        vertical-align: top;\n",
       "    }\n",
       "\n",
       "    .dataframe thead th {\n",
       "        text-align: right;\n",
       "    }\n",
       "</style>\n",
       "<table border=\"1\" class=\"dataframe\">\n",
       "  <thead>\n",
       "    <tr style=\"text-align: right;\">\n",
       "      <th></th>\n",
       "      <th>player1Id</th>\n",
       "      <th>player2Id</th>\n",
       "      <th>count</th>\n",
       "    </tr>\n",
       "  </thead>\n",
       "  <tbody>\n",
       "    <tr>\n",
       "      <th>0</th>\n",
       "      <td>8471214</td>\n",
       "      <td>8475744</td>\n",
       "      <td>15</td>\n",
       "    </tr>\n",
       "    <tr>\n",
       "      <th>1</th>\n",
       "      <td>8471214</td>\n",
       "      <td>8474590</td>\n",
       "      <td>8</td>\n",
       "    </tr>\n",
       "    <tr>\n",
       "      <th>2</th>\n",
       "      <td>8471214</td>\n",
       "      <td>8475200</td>\n",
       "      <td>4</td>\n",
       "    </tr>\n",
       "    <tr>\n",
       "      <th>3</th>\n",
       "      <td>8471214</td>\n",
       "      <td>8476880</td>\n",
       "      <td>4</td>\n",
       "    </tr>\n",
       "    <tr>\n",
       "      <th>4</th>\n",
       "      <td>8471214</td>\n",
       "      <td>8477839</td>\n",
       "      <td>2</td>\n",
       "    </tr>\n",
       "    <tr>\n",
       "      <th>5</th>\n",
       "      <td>8471214</td>\n",
       "      <td>8473563</td>\n",
       "      <td>2</td>\n",
       "    </tr>\n",
       "    <tr>\n",
       "      <th>6</th>\n",
       "      <td>8471214</td>\n",
       "      <td>8474189</td>\n",
       "      <td>2</td>\n",
       "    </tr>\n",
       "    <tr>\n",
       "      <th>7</th>\n",
       "      <td>8471214</td>\n",
       "      <td>8477903</td>\n",
       "      <td>2</td>\n",
       "    </tr>\n",
       "    <tr>\n",
       "      <th>8</th>\n",
       "      <td>8471214</td>\n",
       "      <td>8477845</td>\n",
       "      <td>2</td>\n",
       "    </tr>\n",
       "    <tr>\n",
       "      <th>9</th>\n",
       "      <td>8471214</td>\n",
       "      <td>0</td>\n",
       "      <td>1</td>\n",
       "    </tr>\n",
       "    <tr>\n",
       "      <th>10</th>\n",
       "      <td>8471214</td>\n",
       "      <td>8479406</td>\n",
       "      <td>1</td>\n",
       "    </tr>\n",
       "    <tr>\n",
       "      <th>11</th>\n",
       "      <td>8471214</td>\n",
       "      <td>8478466</td>\n",
       "      <td>1</td>\n",
       "    </tr>\n",
       "    <tr>\n",
       "      <th>12</th>\n",
       "      <td>8471214</td>\n",
       "      <td>8478435</td>\n",
       "      <td>1</td>\n",
       "    </tr>\n",
       "    <tr>\n",
       "      <th>13</th>\n",
       "      <td>8471214</td>\n",
       "      <td>8476434</td>\n",
       "      <td>1</td>\n",
       "    </tr>\n",
       "    <tr>\n",
       "      <th>14</th>\n",
       "      <td>8471214</td>\n",
       "      <td>8477511</td>\n",
       "      <td>1</td>\n",
       "    </tr>\n",
       "    <tr>\n",
       "      <th>15</th>\n",
       "      <td>8471214</td>\n",
       "      <td>8477293</td>\n",
       "      <td>1</td>\n",
       "    </tr>\n",
       "    <tr>\n",
       "      <th>16</th>\n",
       "      <td>8471214</td>\n",
       "      <td>8471698</td>\n",
       "      <td>1</td>\n",
       "    </tr>\n",
       "    <tr>\n",
       "      <th>17</th>\n",
       "      <td>8471214</td>\n",
       "      <td>8475343</td>\n",
       "      <td>1</td>\n",
       "    </tr>\n",
       "    <tr>\n",
       "      <th>18</th>\n",
       "      <td>8471214</td>\n",
       "      <td>8474682</td>\n",
       "      <td>1</td>\n",
       "    </tr>\n",
       "    <tr>\n",
       "      <th>19</th>\n",
       "      <td>8471214</td>\n",
       "      <td>8474602</td>\n",
       "      <td>1</td>\n",
       "    </tr>\n",
       "    <tr>\n",
       "      <th>20</th>\n",
       "      <td>8471214</td>\n",
       "      <td>8481656</td>\n",
       "      <td>1</td>\n",
       "    </tr>\n",
       "  </tbody>\n",
       "</table>\n",
       "</div>"
      ],
      "text/plain": [
       "    player1Id  player2Id  count\n",
       "0     8471214    8475744     15\n",
       "1     8471214    8474590      8\n",
       "2     8471214    8475200      4\n",
       "3     8471214    8476880      4\n",
       "4     8471214    8477839      2\n",
       "5     8471214    8473563      2\n",
       "6     8471214    8474189      2\n",
       "7     8471214    8477903      2\n",
       "8     8471214    8477845      2\n",
       "9     8471214          0      1\n",
       "10    8471214    8479406      1\n",
       "11    8471214    8478466      1\n",
       "12    8471214    8478435      1\n",
       "13    8471214    8476434      1\n",
       "14    8471214    8477511      1\n",
       "15    8471214    8477293      1\n",
       "16    8471214    8471698      1\n",
       "17    8471214    8475343      1\n",
       "18    8471214    8474682      1\n",
       "19    8471214    8474602      1\n",
       "20    8471214    8481656      1"
      ]
     },
     "execution_count": 61,
     "metadata": {},
     "output_type": "execute_result"
    }
   ],
   "source": [
    "#Goal - Assist pairs\n",
    "Y = sog_df.loc[:,['player1Id','player2Id']]\n",
    "Y = Y.groupby(['player1Id', 'player2Id']).size().sort_values(ascending=False).reset_index(name='count') \n",
    "Y"
   ]
  },
  {
   "cell_type": "code",
   "execution_count": 235,
   "id": "7d3b3b5e",
   "metadata": {},
   "outputs": [
    {
     "data": {
      "text/html": [
       "<div>\n",
       "<style scoped>\n",
       "    .dataframe tbody tr th:only-of-type {\n",
       "        vertical-align: middle;\n",
       "    }\n",
       "\n",
       "    .dataframe tbody tr th {\n",
       "        vertical-align: top;\n",
       "    }\n",
       "\n",
       "    .dataframe thead th {\n",
       "        text-align: right;\n",
       "    }\n",
       "</style>\n",
       "<table border=\"1\" class=\"dataframe\">\n",
       "  <thead>\n",
       "    <tr style=\"text-align: right;\">\n",
       "      <th></th>\n",
       "      <th>player1Id</th>\n",
       "      <th>Scorer</th>\n",
       "      <th>First Assist</th>\n",
       "      <th>#</th>\n",
       "    </tr>\n",
       "  </thead>\n",
       "  <tbody>\n",
       "    <tr>\n",
       "      <th>6</th>\n",
       "      <td>8471214</td>\n",
       "      <td>Alex Ovechkin</td>\n",
       "      <td>Evgeny Kuznetsov</td>\n",
       "      <td>15</td>\n",
       "    </tr>\n",
       "    <tr>\n",
       "      <th>65</th>\n",
       "      <td>8471214</td>\n",
       "      <td>Alex Ovechkin</td>\n",
       "      <td>John Carlson</td>\n",
       "      <td>8</td>\n",
       "    </tr>\n",
       "    <tr>\n",
       "      <th>314</th>\n",
       "      <td>8471214</td>\n",
       "      <td>Alex Ovechkin</td>\n",
       "      <td>Dmitry Orlov</td>\n",
       "      <td>4</td>\n",
       "    </tr>\n",
       "    <tr>\n",
       "      <th>337</th>\n",
       "      <td>8471214</td>\n",
       "      <td>Alex Ovechkin</td>\n",
       "      <td>Tom Wilson</td>\n",
       "      <td>4</td>\n",
       "    </tr>\n",
       "    <tr>\n",
       "      <th>1395</th>\n",
       "      <td>8471214</td>\n",
       "      <td>Alex Ovechkin</td>\n",
       "      <td>Lars Eller</td>\n",
       "      <td>2</td>\n",
       "    </tr>\n",
       "    <tr>\n",
       "      <th>1402</th>\n",
       "      <td>8471214</td>\n",
       "      <td>Alex Ovechkin</td>\n",
       "      <td>Nicklas Backstrom</td>\n",
       "      <td>2</td>\n",
       "    </tr>\n",
       "    <tr>\n",
       "      <th>1408</th>\n",
       "      <td>8471214</td>\n",
       "      <td>Alex Ovechkin</td>\n",
       "      <td>Trevor van Riemsdyk</td>\n",
       "      <td>2</td>\n",
       "    </tr>\n",
       "    <tr>\n",
       "      <th>1420</th>\n",
       "      <td>8471214</td>\n",
       "      <td>Alex Ovechkin</td>\n",
       "      <td>Garnet Hathaway</td>\n",
       "      <td>2</td>\n",
       "    </tr>\n",
       "    <tr>\n",
       "      <th>1424</th>\n",
       "      <td>8471214</td>\n",
       "      <td>Alex Ovechkin</td>\n",
       "      <td>Conor Sheary</td>\n",
       "      <td>2</td>\n",
       "    </tr>\n",
       "    <tr>\n",
       "      <th>3635</th>\n",
       "      <td>8471214</td>\n",
       "      <td>Alex Ovechkin</td>\n",
       "      <td>0</td>\n",
       "      <td>1</td>\n",
       "    </tr>\n",
       "    <tr>\n",
       "      <th>3636</th>\n",
       "      <td>8471214</td>\n",
       "      <td>Alex Ovechkin</td>\n",
       "      <td>Aliaksei Protas</td>\n",
       "      <td>1</td>\n",
       "    </tr>\n",
       "    <tr>\n",
       "      <th>3637</th>\n",
       "      <td>8471214</td>\n",
       "      <td>Alex Ovechkin</td>\n",
       "      <td>Anthony Mantha</td>\n",
       "      <td>1</td>\n",
       "    </tr>\n",
       "    <tr>\n",
       "      <th>3638</th>\n",
       "      <td>8471214</td>\n",
       "      <td>Alex Ovechkin</td>\n",
       "      <td>Dan Vladar</td>\n",
       "      <td>1</td>\n",
       "    </tr>\n",
       "    <tr>\n",
       "      <th>3639</th>\n",
       "      <td>8471214</td>\n",
       "      <td>Alex Ovechkin</td>\n",
       "      <td>Daniel Sprong</td>\n",
       "      <td>1</td>\n",
       "    </tr>\n",
       "    <tr>\n",
       "      <th>3640</th>\n",
       "      <td>8471214</td>\n",
       "      <td>Alex Ovechkin</td>\n",
       "      <td>Filip Gustavsson</td>\n",
       "      <td>1</td>\n",
       "    </tr>\n",
       "    <tr>\n",
       "      <th>3641</th>\n",
       "      <td>8471214</td>\n",
       "      <td>Alex Ovechkin</td>\n",
       "      <td>Justin Schultz</td>\n",
       "      <td>1</td>\n",
       "    </tr>\n",
       "    <tr>\n",
       "      <th>3642</th>\n",
       "      <td>8471214</td>\n",
       "      <td>Alex Ovechkin</td>\n",
       "      <td>Nic Dowd</td>\n",
       "      <td>1</td>\n",
       "    </tr>\n",
       "    <tr>\n",
       "      <th>3643</th>\n",
       "      <td>8471214</td>\n",
       "      <td>Alex Ovechkin</td>\n",
       "      <td>T.J. Oshie</td>\n",
       "      <td>1</td>\n",
       "    </tr>\n",
       "  </tbody>\n",
       "</table>\n",
       "</div>"
      ],
      "text/plain": [
       "      player1Id         Scorer         First Assist   #\n",
       "6       8471214  Alex Ovechkin     Evgeny Kuznetsov  15\n",
       "65      8471214  Alex Ovechkin         John Carlson   8\n",
       "314     8471214  Alex Ovechkin         Dmitry Orlov   4\n",
       "337     8471214  Alex Ovechkin           Tom Wilson   4\n",
       "1395    8471214  Alex Ovechkin           Lars Eller   2\n",
       "1402    8471214  Alex Ovechkin    Nicklas Backstrom   2\n",
       "1408    8471214  Alex Ovechkin  Trevor van Riemsdyk   2\n",
       "1420    8471214  Alex Ovechkin      Garnet Hathaway   2\n",
       "1424    8471214  Alex Ovechkin         Conor Sheary   2\n",
       "3635    8471214  Alex Ovechkin                    0   1\n",
       "3636    8471214  Alex Ovechkin      Aliaksei Protas   1\n",
       "3637    8471214  Alex Ovechkin       Anthony Mantha   1\n",
       "3638    8471214  Alex Ovechkin           Dan Vladar   1\n",
       "3639    8471214  Alex Ovechkin        Daniel Sprong   1\n",
       "3640    8471214  Alex Ovechkin     Filip Gustavsson   1\n",
       "3641    8471214  Alex Ovechkin       Justin Schultz   1\n",
       "3642    8471214  Alex Ovechkin             Nic Dowd   1\n",
       "3643    8471214  Alex Ovechkin           T.J. Oshie   1"
      ]
     },
     "execution_count": 235,
     "metadata": {},
     "output_type": "execute_result"
    }
   ],
   "source": [
    "assists = events_df.loc[:,['player1Id', 'player1Name', 'player2Id', 'player2Name','eventType','periodType']]\n",
    "assists = assists[assists['periodType'] != 'SHOOTOUT']\n",
    "assists = assists[assists['eventType'].isin(['Goal'])]\n",
    "assists = assists.groupby(['player1Id','player1Name', 'player2Name']).size().sort_values(ascending=False).reset_index(name='count') \n",
    "assists = assists[assists['player1Name'].isin(['Alex Ovechkin'])]\n",
    "assists = assists.rename(columns={\"player1Name\": \"Scorer\", 'player2Name':'First Assist','count':'#'} )\n",
    "assists"
   ]
  },
  {
   "cell_type": "code",
   "execution_count": 240,
   "id": "6380e458",
   "metadata": {},
   "outputs": [
    {
     "data": {
      "text/html": [
       "<div>\n",
       "<style scoped>\n",
       "    .dataframe tbody tr th:only-of-type {\n",
       "        vertical-align: middle;\n",
       "    }\n",
       "\n",
       "    .dataframe tbody tr th {\n",
       "        vertical-align: top;\n",
       "    }\n",
       "\n",
       "    .dataframe thead th {\n",
       "        text-align: right;\n",
       "    }\n",
       "</style>\n",
       "<table border=\"1\" class=\"dataframe\">\n",
       "  <thead>\n",
       "    <tr style=\"text-align: right;\">\n",
       "      <th></th>\n",
       "      <th>Scorer</th>\n",
       "      <th>First Assist</th>\n",
       "      <th>#</th>\n",
       "    </tr>\n",
       "  </thead>\n",
       "  <tbody>\n",
       "    <tr>\n",
       "      <th>4</th>\n",
       "      <td>Alex Ovechkin</td>\n",
       "      <td>Evgeny Kuznetsov</td>\n",
       "      <td>15</td>\n",
       "    </tr>\n",
       "    <tr>\n",
       "      <th>76</th>\n",
       "      <td>Alex Ovechkin</td>\n",
       "      <td>John Carlson</td>\n",
       "      <td>8</td>\n",
       "    </tr>\n",
       "    <tr>\n",
       "      <th>331</th>\n",
       "      <td>Alex Ovechkin</td>\n",
       "      <td>Dmitry Orlov</td>\n",
       "      <td>4</td>\n",
       "    </tr>\n",
       "    <tr>\n",
       "      <th>337</th>\n",
       "      <td>Alex Ovechkin</td>\n",
       "      <td>Tom Wilson</td>\n",
       "      <td>4</td>\n",
       "    </tr>\n",
       "    <tr>\n",
       "      <th>1012</th>\n",
       "      <td>Alex Ovechkin</td>\n",
       "      <td>Trevor van Riemsdyk</td>\n",
       "      <td>2</td>\n",
       "    </tr>\n",
       "    <tr>\n",
       "      <th>1013</th>\n",
       "      <td>Alex Ovechkin</td>\n",
       "      <td>Nicklas Backstrom</td>\n",
       "      <td>2</td>\n",
       "    </tr>\n",
       "    <tr>\n",
       "      <th>1018</th>\n",
       "      <td>Alex Ovechkin</td>\n",
       "      <td>Lars Eller</td>\n",
       "      <td>2</td>\n",
       "    </tr>\n",
       "    <tr>\n",
       "      <th>1019</th>\n",
       "      <td>Alex Ovechkin</td>\n",
       "      <td>Garnet Hathaway</td>\n",
       "      <td>2</td>\n",
       "    </tr>\n",
       "    <tr>\n",
       "      <th>1025</th>\n",
       "      <td>Alex Ovechkin</td>\n",
       "      <td>Conor Sheary</td>\n",
       "      <td>2</td>\n",
       "    </tr>\n",
       "    <tr>\n",
       "      <th>3593</th>\n",
       "      <td>Alex Ovechkin</td>\n",
       "      <td>0</td>\n",
       "      <td>1</td>\n",
       "    </tr>\n",
       "    <tr>\n",
       "      <th>3594</th>\n",
       "      <td>Alex Ovechkin</td>\n",
       "      <td>Aliaksei Protas</td>\n",
       "      <td>1</td>\n",
       "    </tr>\n",
       "    <tr>\n",
       "      <th>3595</th>\n",
       "      <td>Alex Ovechkin</td>\n",
       "      <td>Anthony Mantha</td>\n",
       "      <td>1</td>\n",
       "    </tr>\n",
       "    <tr>\n",
       "      <th>3596</th>\n",
       "      <td>Alex Ovechkin</td>\n",
       "      <td>Dan Vladar</td>\n",
       "      <td>1</td>\n",
       "    </tr>\n",
       "    <tr>\n",
       "      <th>3597</th>\n",
       "      <td>Alex Ovechkin</td>\n",
       "      <td>Daniel Sprong</td>\n",
       "      <td>1</td>\n",
       "    </tr>\n",
       "    <tr>\n",
       "      <th>3598</th>\n",
       "      <td>Alex Ovechkin</td>\n",
       "      <td>Filip Gustavsson</td>\n",
       "      <td>1</td>\n",
       "    </tr>\n",
       "    <tr>\n",
       "      <th>3599</th>\n",
       "      <td>Alex Ovechkin</td>\n",
       "      <td>Justin Schultz</td>\n",
       "      <td>1</td>\n",
       "    </tr>\n",
       "    <tr>\n",
       "      <th>3600</th>\n",
       "      <td>Alex Ovechkin</td>\n",
       "      <td>Nic Dowd</td>\n",
       "      <td>1</td>\n",
       "    </tr>\n",
       "    <tr>\n",
       "      <th>3601</th>\n",
       "      <td>Alex Ovechkin</td>\n",
       "      <td>T.J. Oshie</td>\n",
       "      <td>1</td>\n",
       "    </tr>\n",
       "  </tbody>\n",
       "</table>\n",
       "</div>"
      ],
      "text/plain": [
       "             Scorer         First Assist   #\n",
       "4     Alex Ovechkin     Evgeny Kuznetsov  15\n",
       "76    Alex Ovechkin         John Carlson   8\n",
       "331   Alex Ovechkin         Dmitry Orlov   4\n",
       "337   Alex Ovechkin           Tom Wilson   4\n",
       "1012  Alex Ovechkin  Trevor van Riemsdyk   2\n",
       "1013  Alex Ovechkin    Nicklas Backstrom   2\n",
       "1018  Alex Ovechkin           Lars Eller   2\n",
       "1019  Alex Ovechkin      Garnet Hathaway   2\n",
       "1025  Alex Ovechkin         Conor Sheary   2\n",
       "3593  Alex Ovechkin                    0   1\n",
       "3594  Alex Ovechkin      Aliaksei Protas   1\n",
       "3595  Alex Ovechkin       Anthony Mantha   1\n",
       "3596  Alex Ovechkin           Dan Vladar   1\n",
       "3597  Alex Ovechkin        Daniel Sprong   1\n",
       "3598  Alex Ovechkin     Filip Gustavsson   1\n",
       "3599  Alex Ovechkin       Justin Schultz   1\n",
       "3600  Alex Ovechkin             Nic Dowd   1\n",
       "3601  Alex Ovechkin           T.J. Oshie   1"
      ]
     },
     "execution_count": 240,
     "metadata": {},
     "output_type": "execute_result"
    }
   ],
   "source": [
    "assists = events_df.loc[:,['player1Name','player2Name','eventType','periodType']]\n",
    "assists = assists[assists['periodType'] != 'SHOOTOUT']\n",
    "assists = assists[assists['eventType'].isin(['Goal'])]\n",
    "assists = assists.groupby(['player1Name', 'player2Name']).size().sort_values(ascending=False).reset_index(name='#') \n",
    "assists = assists[assists['player1Name'].isin(['Alex Ovechkin'])]\n",
    "assists = assists.rename(columns={\"player1Name\": \"Scorer\", 'player2Name':'First Assist'} )\n",
    "assists"
   ]
  },
  {
   "cell_type": "code",
   "execution_count": 195,
   "id": "1fe1e4a6",
   "metadata": {
    "scrolled": false
   },
   "outputs": [
    {
     "data": {
      "text/html": [
       "        <script type=\"text/javascript\">\n",
       "        window.PlotlyConfig = {MathJaxConfig: 'local'};\n",
       "        if (window.MathJax) {MathJax.Hub.Config({SVG: {font: \"STIX-Web\"}});}\n",
       "        if (typeof require !== 'undefined') {\n",
       "        require.undef(\"plotly\");\n",
       "        requirejs.config({\n",
       "            paths: {\n",
       "                'plotly': ['https://cdn.plot.ly/plotly-2.9.0.min']\n",
       "            }\n",
       "        });\n",
       "        require(['plotly'], function(Plotly) {\n",
       "            window._Plotly = Plotly;\n",
       "        });\n",
       "        }\n",
       "        </script>\n",
       "        "
      ]
     },
     "metadata": {},
     "output_type": "display_data"
    },
    {
     "data": {
      "application/vnd.plotly.v1+json": {
       "config": {
        "plotlyServerURL": "https://plot.ly"
       },
       "data": [
        {
         "hovertemplate": "coX=%{x}<br>coY=%{y}<br>counts=%{marker.color}<extra></extra>",
         "legendgroup": "",
         "marker": {
          "color": [
           1,
           1,
           1,
           1,
           1,
           1,
           1,
           2,
           1,
           1,
           1,
           1,
           1,
           1,
           2,
           3,
           1,
           2,
           2,
           1,
           3,
           1,
           1,
           1,
           1,
           1,
           1,
           2,
           2,
           3,
           1,
           1,
           1,
           1,
           3,
           1
          ],
          "coloraxis": "coloraxis",
          "size": [
           1,
           1,
           1,
           1,
           1,
           1,
           1,
           2,
           1,
           1,
           1,
           1,
           1,
           1,
           2,
           3,
           1,
           2,
           2,
           1,
           3,
           1,
           1,
           1,
           1,
           1,
           1,
           2,
           2,
           3,
           1,
           1,
           1,
           1,
           3,
           1
          ],
          "sizemode": "area",
          "sizeref": 0.0075,
          "symbol": "circle"
         },
         "mode": "markers",
         "name": "",
         "orientation": "v",
         "showlegend": false,
         "type": "scatter",
         "x": [
          10,
          15,
          40,
          40,
          50,
          50,
          50,
          50,
          55,
          55,
          55,
          55,
          55,
          55,
          55,
          55,
          60,
          60,
          60,
          60,
          60,
          60,
          65,
          65,
          70,
          70,
          75,
          75,
          75,
          80,
          80,
          80,
          80,
          80,
          85,
          90
         ],
         "xaxis": "x",
         "y": [
          5,
          -35,
          15,
          20,
          -25,
          -5,
          0,
          15,
          -20,
          -10,
          -5,
          5,
          10,
          15,
          20,
          25,
          -25,
          0,
          15,
          20,
          25,
          30,
          -30,
          20,
          0,
          5,
          -5,
          0,
          10,
          -5,
          0,
          5,
          10,
          15,
          5,
          10
         ],
         "yaxis": "y"
        }
       ],
       "layout": {
        "coloraxis": {
         "colorbar": {
          "title": {
           "text": "counts"
          }
         },
         "colorscale": [
          [
           0,
           "#0d0887"
          ],
          [
           0.1111111111111111,
           "#46039f"
          ],
          [
           0.2222222222222222,
           "#7201a8"
          ],
          [
           0.3333333333333333,
           "#9c179e"
          ],
          [
           0.4444444444444444,
           "#bd3786"
          ],
          [
           0.5555555555555556,
           "#d8576b"
          ],
          [
           0.6666666666666666,
           "#ed7953"
          ],
          [
           0.7777777777777778,
           "#fb9f3a"
          ],
          [
           0.8888888888888888,
           "#fdca26"
          ],
          [
           1,
           "#f0f921"
          ]
         ],
         "showscale": true
        },
        "height": 580,
        "images": [
         {
          "layer": "below",
          "opacity": 0.5,
          "sizex": 100,
          "sizey": 85,
          "sizing": "stretch",
          "source": "Half_ice_hockey_rink.png",
          "x": 0,
          "xref": "x",
          "y": 42,
          "yref": "y"
         }
        ],
        "legend": {
         "itemsizing": "constant",
         "tracegroupgap": 0
        },
        "margin": {
         "t": 60
        },
        "template": {
         "data": {
          "bar": [
           {
            "error_x": {
             "color": "#2a3f5f"
            },
            "error_y": {
             "color": "#2a3f5f"
            },
            "marker": {
             "line": {
              "color": "white",
              "width": 0.5
             },
             "pattern": {
              "fillmode": "overlay",
              "size": 10,
              "solidity": 0.2
             }
            },
            "type": "bar"
           }
          ],
          "barpolar": [
           {
            "marker": {
             "line": {
              "color": "white",
              "width": 0.5
             },
             "pattern": {
              "fillmode": "overlay",
              "size": 10,
              "solidity": 0.2
             }
            },
            "type": "barpolar"
           }
          ],
          "carpet": [
           {
            "aaxis": {
             "endlinecolor": "#2a3f5f",
             "gridcolor": "#C8D4E3",
             "linecolor": "#C8D4E3",
             "minorgridcolor": "#C8D4E3",
             "startlinecolor": "#2a3f5f"
            },
            "baxis": {
             "endlinecolor": "#2a3f5f",
             "gridcolor": "#C8D4E3",
             "linecolor": "#C8D4E3",
             "minorgridcolor": "#C8D4E3",
             "startlinecolor": "#2a3f5f"
            },
            "type": "carpet"
           }
          ],
          "choropleth": [
           {
            "colorbar": {
             "outlinewidth": 0,
             "ticks": ""
            },
            "type": "choropleth"
           }
          ],
          "contour": [
           {
            "colorbar": {
             "outlinewidth": 0,
             "ticks": ""
            },
            "colorscale": [
             [
              0,
              "#0d0887"
             ],
             [
              0.1111111111111111,
              "#46039f"
             ],
             [
              0.2222222222222222,
              "#7201a8"
             ],
             [
              0.3333333333333333,
              "#9c179e"
             ],
             [
              0.4444444444444444,
              "#bd3786"
             ],
             [
              0.5555555555555556,
              "#d8576b"
             ],
             [
              0.6666666666666666,
              "#ed7953"
             ],
             [
              0.7777777777777778,
              "#fb9f3a"
             ],
             [
              0.8888888888888888,
              "#fdca26"
             ],
             [
              1,
              "#f0f921"
             ]
            ],
            "type": "contour"
           }
          ],
          "contourcarpet": [
           {
            "colorbar": {
             "outlinewidth": 0,
             "ticks": ""
            },
            "type": "contourcarpet"
           }
          ],
          "heatmap": [
           {
            "colorbar": {
             "outlinewidth": 0,
             "ticks": ""
            },
            "colorscale": [
             [
              0,
              "#0d0887"
             ],
             [
              0.1111111111111111,
              "#46039f"
             ],
             [
              0.2222222222222222,
              "#7201a8"
             ],
             [
              0.3333333333333333,
              "#9c179e"
             ],
             [
              0.4444444444444444,
              "#bd3786"
             ],
             [
              0.5555555555555556,
              "#d8576b"
             ],
             [
              0.6666666666666666,
              "#ed7953"
             ],
             [
              0.7777777777777778,
              "#fb9f3a"
             ],
             [
              0.8888888888888888,
              "#fdca26"
             ],
             [
              1,
              "#f0f921"
             ]
            ],
            "type": "heatmap"
           }
          ],
          "heatmapgl": [
           {
            "colorbar": {
             "outlinewidth": 0,
             "ticks": ""
            },
            "colorscale": [
             [
              0,
              "#0d0887"
             ],
             [
              0.1111111111111111,
              "#46039f"
             ],
             [
              0.2222222222222222,
              "#7201a8"
             ],
             [
              0.3333333333333333,
              "#9c179e"
             ],
             [
              0.4444444444444444,
              "#bd3786"
             ],
             [
              0.5555555555555556,
              "#d8576b"
             ],
             [
              0.6666666666666666,
              "#ed7953"
             ],
             [
              0.7777777777777778,
              "#fb9f3a"
             ],
             [
              0.8888888888888888,
              "#fdca26"
             ],
             [
              1,
              "#f0f921"
             ]
            ],
            "type": "heatmapgl"
           }
          ],
          "histogram": [
           {
            "marker": {
             "pattern": {
              "fillmode": "overlay",
              "size": 10,
              "solidity": 0.2
             }
            },
            "type": "histogram"
           }
          ],
          "histogram2d": [
           {
            "colorbar": {
             "outlinewidth": 0,
             "ticks": ""
            },
            "colorscale": [
             [
              0,
              "#0d0887"
             ],
             [
              0.1111111111111111,
              "#46039f"
             ],
             [
              0.2222222222222222,
              "#7201a8"
             ],
             [
              0.3333333333333333,
              "#9c179e"
             ],
             [
              0.4444444444444444,
              "#bd3786"
             ],
             [
              0.5555555555555556,
              "#d8576b"
             ],
             [
              0.6666666666666666,
              "#ed7953"
             ],
             [
              0.7777777777777778,
              "#fb9f3a"
             ],
             [
              0.8888888888888888,
              "#fdca26"
             ],
             [
              1,
              "#f0f921"
             ]
            ],
            "type": "histogram2d"
           }
          ],
          "histogram2dcontour": [
           {
            "colorbar": {
             "outlinewidth": 0,
             "ticks": ""
            },
            "colorscale": [
             [
              0,
              "#0d0887"
             ],
             [
              0.1111111111111111,
              "#46039f"
             ],
             [
              0.2222222222222222,
              "#7201a8"
             ],
             [
              0.3333333333333333,
              "#9c179e"
             ],
             [
              0.4444444444444444,
              "#bd3786"
             ],
             [
              0.5555555555555556,
              "#d8576b"
             ],
             [
              0.6666666666666666,
              "#ed7953"
             ],
             [
              0.7777777777777778,
              "#fb9f3a"
             ],
             [
              0.8888888888888888,
              "#fdca26"
             ],
             [
              1,
              "#f0f921"
             ]
            ],
            "type": "histogram2dcontour"
           }
          ],
          "mesh3d": [
           {
            "colorbar": {
             "outlinewidth": 0,
             "ticks": ""
            },
            "type": "mesh3d"
           }
          ],
          "parcoords": [
           {
            "line": {
             "colorbar": {
              "outlinewidth": 0,
              "ticks": ""
             }
            },
            "type": "parcoords"
           }
          ],
          "pie": [
           {
            "automargin": true,
            "type": "pie"
           }
          ],
          "scatter": [
           {
            "marker": {
             "colorbar": {
              "outlinewidth": 0,
              "ticks": ""
             }
            },
            "type": "scatter"
           }
          ],
          "scatter3d": [
           {
            "line": {
             "colorbar": {
              "outlinewidth": 0,
              "ticks": ""
             }
            },
            "marker": {
             "colorbar": {
              "outlinewidth": 0,
              "ticks": ""
             }
            },
            "type": "scatter3d"
           }
          ],
          "scattercarpet": [
           {
            "marker": {
             "colorbar": {
              "outlinewidth": 0,
              "ticks": ""
             }
            },
            "type": "scattercarpet"
           }
          ],
          "scattergeo": [
           {
            "marker": {
             "colorbar": {
              "outlinewidth": 0,
              "ticks": ""
             }
            },
            "type": "scattergeo"
           }
          ],
          "scattergl": [
           {
            "marker": {
             "colorbar": {
              "outlinewidth": 0,
              "ticks": ""
             }
            },
            "type": "scattergl"
           }
          ],
          "scattermapbox": [
           {
            "marker": {
             "colorbar": {
              "outlinewidth": 0,
              "ticks": ""
             }
            },
            "type": "scattermapbox"
           }
          ],
          "scatterpolar": [
           {
            "marker": {
             "colorbar": {
              "outlinewidth": 0,
              "ticks": ""
             }
            },
            "type": "scatterpolar"
           }
          ],
          "scatterpolargl": [
           {
            "marker": {
             "colorbar": {
              "outlinewidth": 0,
              "ticks": ""
             }
            },
            "type": "scatterpolargl"
           }
          ],
          "scatterternary": [
           {
            "marker": {
             "colorbar": {
              "outlinewidth": 0,
              "ticks": ""
             }
            },
            "type": "scatterternary"
           }
          ],
          "surface": [
           {
            "colorbar": {
             "outlinewidth": 0,
             "ticks": ""
            },
            "colorscale": [
             [
              0,
              "#0d0887"
             ],
             [
              0.1111111111111111,
              "#46039f"
             ],
             [
              0.2222222222222222,
              "#7201a8"
             ],
             [
              0.3333333333333333,
              "#9c179e"
             ],
             [
              0.4444444444444444,
              "#bd3786"
             ],
             [
              0.5555555555555556,
              "#d8576b"
             ],
             [
              0.6666666666666666,
              "#ed7953"
             ],
             [
              0.7777777777777778,
              "#fb9f3a"
             ],
             [
              0.8888888888888888,
              "#fdca26"
             ],
             [
              1,
              "#f0f921"
             ]
            ],
            "type": "surface"
           }
          ],
          "table": [
           {
            "cells": {
             "fill": {
              "color": "#EBF0F8"
             },
             "line": {
              "color": "white"
             }
            },
            "header": {
             "fill": {
              "color": "#C8D4E3"
             },
             "line": {
              "color": "white"
             }
            },
            "type": "table"
           }
          ]
         },
         "layout": {
          "annotationdefaults": {
           "arrowcolor": "#2a3f5f",
           "arrowhead": 0,
           "arrowwidth": 1
          },
          "autotypenumbers": "strict",
          "coloraxis": {
           "colorbar": {
            "outlinewidth": 0,
            "ticks": ""
           }
          },
          "colorscale": {
           "diverging": [
            [
             0,
             "#8e0152"
            ],
            [
             0.1,
             "#c51b7d"
            ],
            [
             0.2,
             "#de77ae"
            ],
            [
             0.3,
             "#f1b6da"
            ],
            [
             0.4,
             "#fde0ef"
            ],
            [
             0.5,
             "#f7f7f7"
            ],
            [
             0.6,
             "#e6f5d0"
            ],
            [
             0.7,
             "#b8e186"
            ],
            [
             0.8,
             "#7fbc41"
            ],
            [
             0.9,
             "#4d9221"
            ],
            [
             1,
             "#276419"
            ]
           ],
           "sequential": [
            [
             0,
             "#0d0887"
            ],
            [
             0.1111111111111111,
             "#46039f"
            ],
            [
             0.2222222222222222,
             "#7201a8"
            ],
            [
             0.3333333333333333,
             "#9c179e"
            ],
            [
             0.4444444444444444,
             "#bd3786"
            ],
            [
             0.5555555555555556,
             "#d8576b"
            ],
            [
             0.6666666666666666,
             "#ed7953"
            ],
            [
             0.7777777777777778,
             "#fb9f3a"
            ],
            [
             0.8888888888888888,
             "#fdca26"
            ],
            [
             1,
             "#f0f921"
            ]
           ],
           "sequentialminus": [
            [
             0,
             "#0d0887"
            ],
            [
             0.1111111111111111,
             "#46039f"
            ],
            [
             0.2222222222222222,
             "#7201a8"
            ],
            [
             0.3333333333333333,
             "#9c179e"
            ],
            [
             0.4444444444444444,
             "#bd3786"
            ],
            [
             0.5555555555555556,
             "#d8576b"
            ],
            [
             0.6666666666666666,
             "#ed7953"
            ],
            [
             0.7777777777777778,
             "#fb9f3a"
            ],
            [
             0.8888888888888888,
             "#fdca26"
            ],
            [
             1,
             "#f0f921"
            ]
           ]
          },
          "colorway": [
           "#636efa",
           "#EF553B",
           "#00cc96",
           "#ab63fa",
           "#FFA15A",
           "#19d3f3",
           "#FF6692",
           "#B6E880",
           "#FF97FF",
           "#FECB52"
          ],
          "font": {
           "color": "#2a3f5f"
          },
          "geo": {
           "bgcolor": "white",
           "lakecolor": "white",
           "landcolor": "white",
           "showlakes": true,
           "showland": true,
           "subunitcolor": "#C8D4E3"
          },
          "hoverlabel": {
           "align": "left"
          },
          "hovermode": "closest",
          "mapbox": {
           "style": "light"
          },
          "paper_bgcolor": "white",
          "plot_bgcolor": "white",
          "polar": {
           "angularaxis": {
            "gridcolor": "#EBF0F8",
            "linecolor": "#EBF0F8",
            "ticks": ""
           },
           "bgcolor": "white",
           "radialaxis": {
            "gridcolor": "#EBF0F8",
            "linecolor": "#EBF0F8",
            "ticks": ""
           }
          },
          "scene": {
           "xaxis": {
            "backgroundcolor": "white",
            "gridcolor": "#DFE8F3",
            "gridwidth": 2,
            "linecolor": "#EBF0F8",
            "showbackground": true,
            "ticks": "",
            "zerolinecolor": "#EBF0F8"
           },
           "yaxis": {
            "backgroundcolor": "white",
            "gridcolor": "#DFE8F3",
            "gridwidth": 2,
            "linecolor": "#EBF0F8",
            "showbackground": true,
            "ticks": "",
            "zerolinecolor": "#EBF0F8"
           },
           "zaxis": {
            "backgroundcolor": "white",
            "gridcolor": "#DFE8F3",
            "gridwidth": 2,
            "linecolor": "#EBF0F8",
            "showbackground": true,
            "ticks": "",
            "zerolinecolor": "#EBF0F8"
           }
          },
          "shapedefaults": {
           "line": {
            "color": "#2a3f5f"
           }
          },
          "ternary": {
           "aaxis": {
            "gridcolor": "#DFE8F3",
            "linecolor": "#A2B1C6",
            "ticks": ""
           },
           "baxis": {
            "gridcolor": "#DFE8F3",
            "linecolor": "#A2B1C6",
            "ticks": ""
           },
           "bgcolor": "white",
           "caxis": {
            "gridcolor": "#DFE8F3",
            "linecolor": "#A2B1C6",
            "ticks": ""
           }
          },
          "title": {
           "x": 0.05
          },
          "xaxis": {
           "automargin": true,
           "gridcolor": "#EBF0F8",
           "linecolor": "#EBF0F8",
           "ticks": "",
           "title": {
            "standoff": 15
           },
           "zerolinecolor": "#EBF0F8",
           "zerolinewidth": 2
          },
          "yaxis": {
           "automargin": true,
           "gridcolor": "#EBF0F8",
           "linecolor": "#EBF0F8",
           "ticks": "",
           "title": {
            "standoff": 15
           },
           "zerolinecolor": "#EBF0F8",
           "zerolinewidth": 2
          }
         }
        },
        "width": 685,
        "xaxis": {
         "anchor": "y",
         "domain": [
          0,
          1
         ],
         "range": [
          0,
          100
         ],
         "showgrid": false,
         "showticklabels": false,
         "title": {
          "text": ""
         },
         "zeroline": false
        },
        "yaxis": {
         "anchor": "x",
         "domain": [
          0,
          1
         ],
         "range": [
          -42.5,
          42.5
         ],
         "showgrid": false,
         "showticklabels": false,
         "title": {
          "text": ""
         },
         "zeroline": false
        }
       }
      },
      "text/html": [
       "<div>                            <div id=\"1302da14-b50c-4e5a-bc36-f9beceff7692\" class=\"plotly-graph-div\" style=\"height:580px; width:685px;\"></div>            <script type=\"text/javascript\">                require([\"plotly\"], function(Plotly) {                    window.PLOTLYENV=window.PLOTLYENV || {};                                    if (document.getElementById(\"1302da14-b50c-4e5a-bc36-f9beceff7692\")) {                    Plotly.newPlot(                        \"1302da14-b50c-4e5a-bc36-f9beceff7692\",                        [{\"hovertemplate\":\"coX=%{x}<br>coY=%{y}<br>counts=%{marker.color}<extra></extra>\",\"legendgroup\":\"\",\"marker\":{\"color\":[1,1,1,1,1,1,1,2,1,1,1,1,1,1,2,3,1,2,2,1,3,1,1,1,1,1,1,2,2,3,1,1,1,1,3,1],\"coloraxis\":\"coloraxis\",\"size\":[1,1,1,1,1,1,1,2,1,1,1,1,1,1,2,3,1,2,2,1,3,1,1,1,1,1,1,2,2,3,1,1,1,1,3,1],\"sizemode\":\"area\",\"sizeref\":0.0075,\"symbol\":\"circle\"},\"mode\":\"markers\",\"name\":\"\",\"orientation\":\"v\",\"showlegend\":false,\"x\":[10,15,40,40,50,50,50,50,55,55,55,55,55,55,55,55,60,60,60,60,60,60,65,65,70,70,75,75,75,80,80,80,80,80,85,90],\"xaxis\":\"x\",\"y\":[5,-35,15,20,-25,-5,0,15,-20,-10,-5,5,10,15,20,25,-25,0,15,20,25,30,-30,20,0,5,-5,0,10,-5,0,5,10,15,5,10],\"yaxis\":\"y\",\"type\":\"scatter\"}],                        {\"template\":{\"data\":{\"barpolar\":[{\"marker\":{\"line\":{\"color\":\"white\",\"width\":0.5},\"pattern\":{\"fillmode\":\"overlay\",\"size\":10,\"solidity\":0.2}},\"type\":\"barpolar\"}],\"bar\":[{\"error_x\":{\"color\":\"#2a3f5f\"},\"error_y\":{\"color\":\"#2a3f5f\"},\"marker\":{\"line\":{\"color\":\"white\",\"width\":0.5},\"pattern\":{\"fillmode\":\"overlay\",\"size\":10,\"solidity\":0.2}},\"type\":\"bar\"}],\"carpet\":[{\"aaxis\":{\"endlinecolor\":\"#2a3f5f\",\"gridcolor\":\"#C8D4E3\",\"linecolor\":\"#C8D4E3\",\"minorgridcolor\":\"#C8D4E3\",\"startlinecolor\":\"#2a3f5f\"},\"baxis\":{\"endlinecolor\":\"#2a3f5f\",\"gridcolor\":\"#C8D4E3\",\"linecolor\":\"#C8D4E3\",\"minorgridcolor\":\"#C8D4E3\",\"startlinecolor\":\"#2a3f5f\"},\"type\":\"carpet\"}],\"choropleth\":[{\"colorbar\":{\"outlinewidth\":0,\"ticks\":\"\"},\"type\":\"choropleth\"}],\"contourcarpet\":[{\"colorbar\":{\"outlinewidth\":0,\"ticks\":\"\"},\"type\":\"contourcarpet\"}],\"contour\":[{\"colorbar\":{\"outlinewidth\":0,\"ticks\":\"\"},\"colorscale\":[[0.0,\"#0d0887\"],[0.1111111111111111,\"#46039f\"],[0.2222222222222222,\"#7201a8\"],[0.3333333333333333,\"#9c179e\"],[0.4444444444444444,\"#bd3786\"],[0.5555555555555556,\"#d8576b\"],[0.6666666666666666,\"#ed7953\"],[0.7777777777777778,\"#fb9f3a\"],[0.8888888888888888,\"#fdca26\"],[1.0,\"#f0f921\"]],\"type\":\"contour\"}],\"heatmapgl\":[{\"colorbar\":{\"outlinewidth\":0,\"ticks\":\"\"},\"colorscale\":[[0.0,\"#0d0887\"],[0.1111111111111111,\"#46039f\"],[0.2222222222222222,\"#7201a8\"],[0.3333333333333333,\"#9c179e\"],[0.4444444444444444,\"#bd3786\"],[0.5555555555555556,\"#d8576b\"],[0.6666666666666666,\"#ed7953\"],[0.7777777777777778,\"#fb9f3a\"],[0.8888888888888888,\"#fdca26\"],[1.0,\"#f0f921\"]],\"type\":\"heatmapgl\"}],\"heatmap\":[{\"colorbar\":{\"outlinewidth\":0,\"ticks\":\"\"},\"colorscale\":[[0.0,\"#0d0887\"],[0.1111111111111111,\"#46039f\"],[0.2222222222222222,\"#7201a8\"],[0.3333333333333333,\"#9c179e\"],[0.4444444444444444,\"#bd3786\"],[0.5555555555555556,\"#d8576b\"],[0.6666666666666666,\"#ed7953\"],[0.7777777777777778,\"#fb9f3a\"],[0.8888888888888888,\"#fdca26\"],[1.0,\"#f0f921\"]],\"type\":\"heatmap\"}],\"histogram2dcontour\":[{\"colorbar\":{\"outlinewidth\":0,\"ticks\":\"\"},\"colorscale\":[[0.0,\"#0d0887\"],[0.1111111111111111,\"#46039f\"],[0.2222222222222222,\"#7201a8\"],[0.3333333333333333,\"#9c179e\"],[0.4444444444444444,\"#bd3786\"],[0.5555555555555556,\"#d8576b\"],[0.6666666666666666,\"#ed7953\"],[0.7777777777777778,\"#fb9f3a\"],[0.8888888888888888,\"#fdca26\"],[1.0,\"#f0f921\"]],\"type\":\"histogram2dcontour\"}],\"histogram2d\":[{\"colorbar\":{\"outlinewidth\":0,\"ticks\":\"\"},\"colorscale\":[[0.0,\"#0d0887\"],[0.1111111111111111,\"#46039f\"],[0.2222222222222222,\"#7201a8\"],[0.3333333333333333,\"#9c179e\"],[0.4444444444444444,\"#bd3786\"],[0.5555555555555556,\"#d8576b\"],[0.6666666666666666,\"#ed7953\"],[0.7777777777777778,\"#fb9f3a\"],[0.8888888888888888,\"#fdca26\"],[1.0,\"#f0f921\"]],\"type\":\"histogram2d\"}],\"histogram\":[{\"marker\":{\"pattern\":{\"fillmode\":\"overlay\",\"size\":10,\"solidity\":0.2}},\"type\":\"histogram\"}],\"mesh3d\":[{\"colorbar\":{\"outlinewidth\":0,\"ticks\":\"\"},\"type\":\"mesh3d\"}],\"parcoords\":[{\"line\":{\"colorbar\":{\"outlinewidth\":0,\"ticks\":\"\"}},\"type\":\"parcoords\"}],\"pie\":[{\"automargin\":true,\"type\":\"pie\"}],\"scatter3d\":[{\"line\":{\"colorbar\":{\"outlinewidth\":0,\"ticks\":\"\"}},\"marker\":{\"colorbar\":{\"outlinewidth\":0,\"ticks\":\"\"}},\"type\":\"scatter3d\"}],\"scattercarpet\":[{\"marker\":{\"colorbar\":{\"outlinewidth\":0,\"ticks\":\"\"}},\"type\":\"scattercarpet\"}],\"scattergeo\":[{\"marker\":{\"colorbar\":{\"outlinewidth\":0,\"ticks\":\"\"}},\"type\":\"scattergeo\"}],\"scattergl\":[{\"marker\":{\"colorbar\":{\"outlinewidth\":0,\"ticks\":\"\"}},\"type\":\"scattergl\"}],\"scattermapbox\":[{\"marker\":{\"colorbar\":{\"outlinewidth\":0,\"ticks\":\"\"}},\"type\":\"scattermapbox\"}],\"scatterpolargl\":[{\"marker\":{\"colorbar\":{\"outlinewidth\":0,\"ticks\":\"\"}},\"type\":\"scatterpolargl\"}],\"scatterpolar\":[{\"marker\":{\"colorbar\":{\"outlinewidth\":0,\"ticks\":\"\"}},\"type\":\"scatterpolar\"}],\"scatter\":[{\"marker\":{\"colorbar\":{\"outlinewidth\":0,\"ticks\":\"\"}},\"type\":\"scatter\"}],\"scatterternary\":[{\"marker\":{\"colorbar\":{\"outlinewidth\":0,\"ticks\":\"\"}},\"type\":\"scatterternary\"}],\"surface\":[{\"colorbar\":{\"outlinewidth\":0,\"ticks\":\"\"},\"colorscale\":[[0.0,\"#0d0887\"],[0.1111111111111111,\"#46039f\"],[0.2222222222222222,\"#7201a8\"],[0.3333333333333333,\"#9c179e\"],[0.4444444444444444,\"#bd3786\"],[0.5555555555555556,\"#d8576b\"],[0.6666666666666666,\"#ed7953\"],[0.7777777777777778,\"#fb9f3a\"],[0.8888888888888888,\"#fdca26\"],[1.0,\"#f0f921\"]],\"type\":\"surface\"}],\"table\":[{\"cells\":{\"fill\":{\"color\":\"#EBF0F8\"},\"line\":{\"color\":\"white\"}},\"header\":{\"fill\":{\"color\":\"#C8D4E3\"},\"line\":{\"color\":\"white\"}},\"type\":\"table\"}]},\"layout\":{\"annotationdefaults\":{\"arrowcolor\":\"#2a3f5f\",\"arrowhead\":0,\"arrowwidth\":1},\"autotypenumbers\":\"strict\",\"coloraxis\":{\"colorbar\":{\"outlinewidth\":0,\"ticks\":\"\"}},\"colorscale\":{\"diverging\":[[0,\"#8e0152\"],[0.1,\"#c51b7d\"],[0.2,\"#de77ae\"],[0.3,\"#f1b6da\"],[0.4,\"#fde0ef\"],[0.5,\"#f7f7f7\"],[0.6,\"#e6f5d0\"],[0.7,\"#b8e186\"],[0.8,\"#7fbc41\"],[0.9,\"#4d9221\"],[1,\"#276419\"]],\"sequential\":[[0.0,\"#0d0887\"],[0.1111111111111111,\"#46039f\"],[0.2222222222222222,\"#7201a8\"],[0.3333333333333333,\"#9c179e\"],[0.4444444444444444,\"#bd3786\"],[0.5555555555555556,\"#d8576b\"],[0.6666666666666666,\"#ed7953\"],[0.7777777777777778,\"#fb9f3a\"],[0.8888888888888888,\"#fdca26\"],[1.0,\"#f0f921\"]],\"sequentialminus\":[[0.0,\"#0d0887\"],[0.1111111111111111,\"#46039f\"],[0.2222222222222222,\"#7201a8\"],[0.3333333333333333,\"#9c179e\"],[0.4444444444444444,\"#bd3786\"],[0.5555555555555556,\"#d8576b\"],[0.6666666666666666,\"#ed7953\"],[0.7777777777777778,\"#fb9f3a\"],[0.8888888888888888,\"#fdca26\"],[1.0,\"#f0f921\"]]},\"colorway\":[\"#636efa\",\"#EF553B\",\"#00cc96\",\"#ab63fa\",\"#FFA15A\",\"#19d3f3\",\"#FF6692\",\"#B6E880\",\"#FF97FF\",\"#FECB52\"],\"font\":{\"color\":\"#2a3f5f\"},\"geo\":{\"bgcolor\":\"white\",\"lakecolor\":\"white\",\"landcolor\":\"white\",\"showlakes\":true,\"showland\":true,\"subunitcolor\":\"#C8D4E3\"},\"hoverlabel\":{\"align\":\"left\"},\"hovermode\":\"closest\",\"mapbox\":{\"style\":\"light\"},\"paper_bgcolor\":\"white\",\"plot_bgcolor\":\"white\",\"polar\":{\"angularaxis\":{\"gridcolor\":\"#EBF0F8\",\"linecolor\":\"#EBF0F8\",\"ticks\":\"\"},\"bgcolor\":\"white\",\"radialaxis\":{\"gridcolor\":\"#EBF0F8\",\"linecolor\":\"#EBF0F8\",\"ticks\":\"\"}},\"scene\":{\"xaxis\":{\"backgroundcolor\":\"white\",\"gridcolor\":\"#DFE8F3\",\"gridwidth\":2,\"linecolor\":\"#EBF0F8\",\"showbackground\":true,\"ticks\":\"\",\"zerolinecolor\":\"#EBF0F8\"},\"yaxis\":{\"backgroundcolor\":\"white\",\"gridcolor\":\"#DFE8F3\",\"gridwidth\":2,\"linecolor\":\"#EBF0F8\",\"showbackground\":true,\"ticks\":\"\",\"zerolinecolor\":\"#EBF0F8\"},\"zaxis\":{\"backgroundcolor\":\"white\",\"gridcolor\":\"#DFE8F3\",\"gridwidth\":2,\"linecolor\":\"#EBF0F8\",\"showbackground\":true,\"ticks\":\"\",\"zerolinecolor\":\"#EBF0F8\"}},\"shapedefaults\":{\"line\":{\"color\":\"#2a3f5f\"}},\"ternary\":{\"aaxis\":{\"gridcolor\":\"#DFE8F3\",\"linecolor\":\"#A2B1C6\",\"ticks\":\"\"},\"baxis\":{\"gridcolor\":\"#DFE8F3\",\"linecolor\":\"#A2B1C6\",\"ticks\":\"\"},\"bgcolor\":\"white\",\"caxis\":{\"gridcolor\":\"#DFE8F3\",\"linecolor\":\"#A2B1C6\",\"ticks\":\"\"}},\"title\":{\"x\":0.05},\"xaxis\":{\"automargin\":true,\"gridcolor\":\"#EBF0F8\",\"linecolor\":\"#EBF0F8\",\"ticks\":\"\",\"title\":{\"standoff\":15},\"zerolinecolor\":\"#EBF0F8\",\"zerolinewidth\":2},\"yaxis\":{\"automargin\":true,\"gridcolor\":\"#EBF0F8\",\"linecolor\":\"#EBF0F8\",\"ticks\":\"\",\"title\":{\"standoff\":15},\"zerolinecolor\":\"#EBF0F8\",\"zerolinewidth\":2}}},\"xaxis\":{\"anchor\":\"y\",\"domain\":[0.0,1.0],\"title\":{\"text\":\"\"},\"range\":[0,100],\"showgrid\":false,\"zeroline\":false,\"showticklabels\":false},\"yaxis\":{\"anchor\":\"x\",\"domain\":[0.0,1.0],\"title\":{\"text\":\"\"},\"range\":[-42.5,42.5],\"showgrid\":false,\"zeroline\":false,\"showticklabels\":false},\"coloraxis\":{\"colorbar\":{\"title\":{\"text\":\"counts\"}},\"colorscale\":[[0.0,\"#0d0887\"],[0.1111111111111111,\"#46039f\"],[0.2222222222222222,\"#7201a8\"],[0.3333333333333333,\"#9c179e\"],[0.4444444444444444,\"#bd3786\"],[0.5555555555555556,\"#d8576b\"],[0.6666666666666666,\"#ed7953\"],[0.7777777777777778,\"#fb9f3a\"],[0.8888888888888888,\"#fdca26\"],[1.0,\"#f0f921\"]],\"showscale\":true},\"legend\":{\"tracegroupgap\":0,\"itemsizing\":\"constant\"},\"margin\":{\"t\":60},\"height\":580,\"width\":685,\"images\":[{\"layer\":\"below\",\"opacity\":0.5,\"sizex\":100,\"sizey\":85,\"sizing\":\"stretch\",\"source\":\"Half_ice_hockey_rink.png\",\"x\":0,\"xref\":\"x\",\"y\":42,\"yref\":\"y\"}]},                        {\"responsive\": true}                    ).then(function(){\n",
       "                            \n",
       "var gd = document.getElementById('1302da14-b50c-4e5a-bc36-f9beceff7692');\n",
       "var x = new MutationObserver(function (mutations, observer) {{\n",
       "        var display = window.getComputedStyle(gd).display;\n",
       "        if (!display || display === 'none') {{\n",
       "            console.log([gd, 'removed!']);\n",
       "            Plotly.purge(gd);\n",
       "            observer.disconnect();\n",
       "        }}\n",
       "}});\n",
       "\n",
       "// Listen for the removal of the full notebook cells\n",
       "var notebookContainer = gd.closest('#notebook-container');\n",
       "if (notebookContainer) {{\n",
       "    x.observe(notebookContainer, {childList: true});\n",
       "}}\n",
       "\n",
       "// Listen for the clearing of the current output cell\n",
       "var outputEl = gd.closest('.output');\n",
       "if (outputEl) {{\n",
       "    x.observe(outputEl, {childList: true});\n",
       "}}\n",
       "\n",
       "                        })                };                });            </script>        </div>"
      ]
     },
     "metadata": {},
     "output_type": "display_data"
    }
   ],
   "source": [
    "import plotly.offline as py\n",
    "py.init_notebook_mode(connected=True)\n",
    "df_counts = X_round.groupby(['coX', 'coY']).size().reset_index(name='counts')\n",
    "\n",
    "fig = px.scatter(df_counts, x='coX', y='coY',\n",
    "                 color='counts',\n",
    "                 size='counts',\n",
    "                 width=685, height=580)\n",
    "\n",
    "fig.update_layout(yaxis_range=[-42.5,42.5])\n",
    "fig.update_layout(xaxis_range=[0,100])\n",
    "\n",
    "# Remove side scale and hide zero and gridlines\n",
    "fig.update_layout(\n",
    "    coloraxis_showscale=True,\n",
    "    xaxis=dict(showgrid=False, zeroline=False),\n",
    "    yaxis=dict(showgrid=False, zeroline=False),)\n",
    "# Disable axis ticks and labels\n",
    "fig.update_xaxes(showticklabels=False)\n",
    "fig.update_yaxes(showticklabels=False)\n",
    "fig.update_xaxes(title_text='')\n",
    "fig.update_yaxes(title_text='')\n",
    "\n",
    "fig.add_layout_image(\n",
    "        dict(\n",
    "            source='Half_ice_hockey_rink.png',\n",
    "            xref=\"x\",\n",
    "            yref=\"y\",\n",
    "            x=0,\n",
    "            y=42,\n",
    "            sizex=100,\n",
    "            sizey=85,\n",
    "            sizing=\"stretch\",\n",
    "            opacity=0.5,\n",
    "            layer=\"below\")\n",
    ")\n",
    "\n",
    "fig.update_layout(template=\"plotly_white\")\n",
    "#df_counts\n",
    "fig.show()"
   ]
  },
  {
   "cell_type": "code",
   "execution_count": 196,
   "id": "f605691e",
   "metadata": {},
   "outputs": [
    {
     "name": "stderr",
     "output_type": "stream",
     "text": [
      "/var/folders/z6/nzpwwscs6qj7t6gldff9vtlw0000gn/T/ipykernel_57337/1790363992.py:13: FutureWarning:\n",
      "\n",
      "The frame.append method is deprecated and will be removed from pandas in a future version. Use pandas.concat instead.\n",
      "\n",
      "/var/folders/z6/nzpwwscs6qj7t6gldff9vtlw0000gn/T/ipykernel_57337/1790363992.py:23: SettingWithCopyWarning:\n",
      "\n",
      "\n",
      "A value is trying to be set on a copy of a slice from a DataFrame\n",
      "\n",
      "See the caveats in the documentation: https://pandas.pydata.org/pandas-docs/stable/user_guide/indexing.html#returning-a-view-versus-a-copy\n",
      "\n",
      "/var/folders/z6/nzpwwscs6qj7t6gldff9vtlw0000gn/T/ipykernel_57337/1790363992.py:21: SettingWithCopyWarning:\n",
      "\n",
      "\n",
      "A value is trying to be set on a copy of a slice from a DataFrame\n",
      "\n",
      "See the caveats in the documentation: https://pandas.pydata.org/pandas-docs/stable/user_guide/indexing.html#returning-a-view-versus-a-copy\n",
      "\n"
     ]
    },
    {
     "data": {
      "image/png": "[encoded data removed]",
      "text/plain": [
       "<Figure size 1080x576 with 2 Axes>"
      ]
     },
     "metadata": {
      "needs_background": "light"
     },
     "output_type": "display_data"
    }
   ],
   "source": [
    "#Koordinatakban van megadva a tavolsag, atszamolni meterre?\n",
    "dist1 = events_df[['shot_distance','player1Id','eventType','periodType']]\n",
    "dist1 = dist1[dist1['periodType'] != 'SHOOTOUT']\n",
    "dist1 = dist1[dist1['eventType'].isin(['Shot','Missed Shot','Goal'])]\n",
    "dist1 = dist1[dist1['player1Id'].isin([8471214])]\n",
    "\n",
    "dist2 = events_df[['shot_distance','player2Id','eventType','periodType']]\n",
    "dist2 = dist2[dist2['periodType'] != 'SHOOTOUT']\n",
    "dist2 = dist2[dist2['eventType'].isin(['Blocked Shot'])]\n",
    "dist2 = dist2.rename(columns={\"player2Id\": \"player1Id\"})\n",
    "dist2 = dist2[dist2['player1Id'].isin([8471214])]\n",
    "\n",
    "dist = dist1.append(dist2, ignore_index=True)\n",
    "\n",
    "fig, (ax1, ax2) = plt.subplots(1,2, figsize=(15,8))\n",
    "\n",
    "dist['isGoal'] = ''\n",
    "\n",
    "for idx, i in enumerate(dist['eventType']):\n",
    "    if i == 'Goal':\n",
    "        dist['isGoal'].iloc[idx] = \"Goal\"\n",
    "    else:\n",
    "        dist['isGoal'].iloc[idx] = \"Shot\"\n",
    "        \n",
    "\n",
    "sb.stripplot(data=dist, x=dist['shot_distance'], y=[\"\"]*len(dist), ax=ax1, hue=dist['isGoal'],palette=\"Paired\", \n",
    "             size=8, marker=\"H\", edgecolor=\"gray\", alpha=.8, jitter = .2)\n",
    "\n",
    "sb.swarmplot(data=dist, x=dist['shot_distance'], ax=ax2,  y=[\"\"]*len(dist),hue=dist['isGoal'],palette=('Paired'), \n",
    "             size=8, marker=\"H\",edgecolor=\"gray\",alpha=.8)\n",
    "\n",
    "plt.tight_layout()"
   ]
  },
  {
   "cell_type": "code",
   "execution_count": 238,
   "id": "89eca721",
   "metadata": {},
   "outputs": [
    {
     "name": "stderr",
     "output_type": "stream",
     "text": [
      "/var/folders/z6/nzpwwscs6qj7t6gldff9vtlw0000gn/T/ipykernel_57337/3196334590.py:10: FutureWarning:\n",
      "\n",
      "The frame.append method is deprecated and will be removed from pandas in a future version. Use pandas.concat instead.\n",
      "\n"
     ]
    },
    {
     "data": {
      "text/html": [
       "<div>\n",
       "<style scoped>\n",
       "    .dataframe tbody tr th:only-of-type {\n",
       "        vertical-align: middle;\n",
       "    }\n",
       "\n",
       "    .dataframe tbody tr th {\n",
       "        vertical-align: top;\n",
       "    }\n",
       "\n",
       "    .dataframe thead th {\n",
       "        text-align: right;\n",
       "    }\n",
       "</style>\n",
       "<table border=\"1\" class=\"dataframe\">\n",
       "  <thead>\n",
       "    <tr style=\"text-align: right;\">\n",
       "      <th></th>\n",
       "      <th>Shot Type</th>\n",
       "      <th>#</th>\n",
       "      <th>%</th>\n",
       "    </tr>\n",
       "  </thead>\n",
       "  <tbody>\n",
       "    <tr>\n",
       "      <th>0</th>\n",
       "      <td>Shot</td>\n",
       "      <td>284</td>\n",
       "      <td>44.24</td>\n",
       "    </tr>\n",
       "    <tr>\n",
       "      <th>1</th>\n",
       "      <td>Blocked Shot</td>\n",
       "      <td>174</td>\n",
       "      <td>27.10</td>\n",
       "    </tr>\n",
       "    <tr>\n",
       "      <th>2</th>\n",
       "      <td>Missed Shot</td>\n",
       "      <td>134</td>\n",
       "      <td>20.87</td>\n",
       "    </tr>\n",
       "    <tr>\n",
       "      <th>3</th>\n",
       "      <td>Goal</td>\n",
       "      <td>50</td>\n",
       "      <td>7.79</td>\n",
       "    </tr>\n",
       "  </tbody>\n",
       "</table>\n",
       "</div>"
      ],
      "text/plain": [
       "      Shot Type    #      %\n",
       "0          Shot  284  44.24\n",
       "1  Blocked Shot  174  27.10\n",
       "2   Missed Shot  134  20.87\n",
       "3          Goal   50   7.79"
      ]
     },
     "execution_count": 238,
     "metadata": {},
     "output_type": "execute_result"
    }
   ],
   "source": [
    "all_sog1 = events_df[['player1Id','eventType','periodType']]\n",
    "all_sog1 = all_sog1[all_sog1['periodType'] != 'SHOOTOUT']\n",
    "all_sog1 = all_sog1[all_sog1['eventType'].isin(['Shot','Missed Shot','Goal'])]\n",
    "\n",
    "all_sog2 = events_df[['player2Id','eventType','periodType']]\n",
    "all_sog2 = all_sog2[all_sog2['periodType'] != 'SHOOTOUT']\n",
    "all_sog2 = all_sog2[all_sog2['eventType'].isin(['Blocked Shot'])]\n",
    "all_sog2 = all_sog2.rename(columns={\"player2Id\": \"player1Id\"})\n",
    "\n",
    "all_sog = all_sog1.append(all_sog2, ignore_index=True)\n",
    "\n",
    "all_sog = all_sog[all_sog['player1Id'].isin([8471214])]\n",
    "\n",
    "all_sog = all_sog.groupby(['eventType']).size().sort_values(ascending=False).reset_index(name='player1Id') \n",
    "\n",
    "all_sog = all_sog.rename(columns={\"player1Id\": \"#\", 'eventType':'Shot Type'})\n",
    "\n",
    "all_sog['%'] = round((all_sog['#'] / all_sog['#'].sum())*100,2)\n",
    "\n",
    "all_sog"
   ]
  },
  {
   "cell_type": "code",
   "execution_count": 1180,
   "id": "86475f18",
   "metadata": {},
   "outputs": [],
   "source": [
    "#events_df.player1Type.unique() #'Winner', 'Scorer', 'Shooter', 'PenaltyOn', 'PlayerID','Blocker', 'Hitter'\n",
    "#events_df.player2Type.unique() #'Loser', 'Assist', 'DrewBy', 'Goalie', 'Shooter', 'Hittee' \n",
    "    #(Blocked Shot-nal elso a Blocker masodik a Shooter)\n",
    "#events_df.player3Type.unique() #'Assist', 'Goalie', 'ServedBy'\n",
    "#events_df.player4Type.unique() #'Golie'\n",
    "#events_df.eventType.unique()"
   ]
  },
  {
   "cell_type": "code",
   "execution_count": 231,
   "id": "db33c97e",
   "metadata": {},
   "outputs": [
    {
     "data": {
      "text/plain": [
       "Text(0, 0.5, 'SH%')"
      ]
     },
     "execution_count": 231,
     "metadata": {},
     "output_type": "execute_result"
    },
    {
     "data": {
      "image/png": "[encoded data removed]",
      "text/plain": [
       "<Figure size 432x288 with 1 Axes>"
      ]
     },
     "metadata": {
      "needs_background": "light"
     },
     "output_type": "display_data"
    }
   ],
   "source": [
    "#Shots on Goal % szamitas.\n",
    "#Elso temp DataFrame: osszes kapuraloves a player 1-tol\n",
    "tmp_sog = events_df[['gameId','player1Id','startDate','eventType','periodType']]\n",
    "tmp_sog = tmp_sog[tmp_sog['periodType'] != 'SHOOTOUT']\n",
    "tmp_sog = tmp_sog[tmp_sog['eventType'].isin(['Shot','Missed Shot','Goal'])]\n",
    "tmp_sog_calc = tmp_sog.groupby(['gameId','startDate','player1Id']).count()\n",
    "tmp_sog_calc = tmp_sog_calc.rename(columns={\"eventType\": \"allShots\"})\n",
    "tmp_sog_calc.reset_index(inplace=True)\n",
    "#tmp_sog_calc\n",
    "\n",
    "#Masodik temp dataframe: osszes kapuraloves a player 2-tol (Blocked Shot-nal player 2-n van logolva a Shooter)\n",
    "tmp_sog_b = events_df[['gameId','player2Id','startDate','eventType','periodType']]\n",
    "tmp_sog_b = tmp_sog_b[tmp_sog_b['periodType'] != 'SHOOTOUT']\n",
    "tmp_sog_b = tmp_sog_b[tmp_sog_b['eventType'].isin(['Blocked Shot'])]\n",
    "tmp_sog_calc_b = tmp_sog_b.groupby(['gameId','startDate','player2Id']).count()\n",
    "tmp_sog_calc_b = tmp_sog_calc_b.rename(columns={\"eventType\": \"allShots\"})\n",
    "tmp_sog_calc_b.reset_index(inplace=True)\n",
    "#tmp_sog_calc_b\n",
    "\n",
    "#Harmadik temp DataFrame: Az osszes kapuraloves\n",
    "tmp_allsog = pd.merge(left=tmp_sog_calc, right=tmp_sog_calc_b, \n",
    "                          left_on=['gameId','startDate','player1Id'], right_on=['gameId','startDate','player2Id'], \n",
    "                          how='left')\n",
    "tmp_allsog = tmp_allsog.fillna(0)\n",
    "tmp_allsog = tmp_allsog.astype({'allShots_y': 'int64'})\n",
    "tmp_allsog['allShots'] = tmp_allsog['allShots_x']+tmp_allsog['allShots_y']\n",
    "tmp_allsog = tmp_allsog.drop(columns=['allShots_x','player2Id','allShots_y'])\n",
    "#tmp_allsog\n",
    "\n",
    "#Negyedik temp DataFrame: Az osszes Goal\n",
    "tmp_goal = events_df[['gameId','player1Id','startDate','eventType','periodType']]\n",
    "tmp_goal = tmp_goal[tmp_goal['periodType'] != 'SHOOTOUT']\n",
    "tmp_goal = tmp_goal[tmp_goal['eventType'].isin(['Goal'])]\n",
    "tmp_goal_calc = tmp_goal.groupby(['gameId','startDate','player1Id']).count()\n",
    "tmp_goal_calc = tmp_goal_calc.rename(columns={\"eventType\": \"allGoals\"})\n",
    "tmp_goal_calc.reset_index()\n",
    "\n",
    "#Vegso DataFrame: Osszes kapuraloves es goal merge, szazalek szamitas\n",
    "sog_percentage = pd.merge(left=tmp_allsog, right=tmp_goal_calc, \n",
    "                          left_on=['gameId','startDate','player1Id'], right_on=['gameId','startDate','player1Id'], \n",
    "                          how='left')\n",
    "\n",
    "sog_percentage['sog%'] = round(((sog_percentage['allGoals']/sog_percentage['allShots'])*100),1)\n",
    "sog_percentage[\"Date\"] = pd.to_datetime(sog_percentage[\"startDate\"])\n",
    "sog_percentage.reset_index(inplace=True)\n",
    "\n",
    "sog_null = sog_percentage.fillna(0)\n",
    "sog_null = sog_null[sog_null['player1Id'].isin([8471214])]\n",
    "sog_null = sog_null[sog_null['allGoals'] < 1]\n",
    "nogoal = sog_null.shape[0]\n",
    "\n",
    "goaldf = sog_percentage.fillna(0)\n",
    "goaldf = goaldf[goaldf['player1Id'].isin([8471214])]\n",
    "goaldf = goaldf[goaldf['allGoals'] > 0]\n",
    "goal = goaldf.shape[0]\n",
    "\n",
    "\n",
    "#nogoal+goal\n",
    "\n",
    "sog_percentage = sog_percentage[sog_percentage['player1Id'].isin([8471214])]\n",
    "sog_percentage.plot(x='Date',y='sog%', kind='scatter',s=50)\n",
    "allgame = sog_percentage.shape[0]\n",
    "plt.title('Out of '+str(allgame)+' games: goals on '+str(goal)+', no goals on '+str(nogoal))\n",
    "plt.xlabel('Date')\n",
    "plt.ylabel('SH%')"
   ]
  },
  {
   "cell_type": "code",
   "execution_count": 233,
   "id": "9e1772cb",
   "metadata": {
    "scrolled": false
   },
   "outputs": [
    {
     "data": {
      "text/plain": [
       "(77, 11)"
      ]
     },
     "execution_count": 233,
     "metadata": {},
     "output_type": "execute_result"
    }
   ],
   "source": [
    "hattrick = sog_percentage[sog_percentage['allGoals'] >= 3]\n",
    "hattrickcount = hattrick.shape[0]\n",
    "\n",
    "        \n",
    "sog_percentage.shape"
   ]
  },
  {
   "cell_type": "code",
   "execution_count": 292,
   "id": "455eb09f",
   "metadata": {},
   "outputs": [
    {
     "name": "stderr",
     "output_type": "stream",
     "text": [
      "/var/folders/z6/nzpwwscs6qj7t6gldff9vtlw0000gn/T/ipykernel_13054/1981558009.py:11: FutureWarning:\n",
      "\n",
      "The frame.append method is deprecated and will be removed from pandas in a future version. Use pandas.concat instead.\n",
      "\n"
     ]
    },
    {
     "data": {
      "text/plain": [
       "Text(0.5, 0, 'Period Time')"
      ]
     },
     "execution_count": 292,
     "metadata": {},
     "output_type": "execute_result"
    },
    {
     "data": {
      "image/png": "[encoded data removed]",
      "text/plain": [
       "<Figure size 576x432 with 1 Axes>"
      ]
     },
     "metadata": {
      "needs_background": "light"
     },
     "output_type": "display_data"
    }
   ],
   "source": [
    "#Timeline: X axis-on a 60 perc, esemenyeket percre kerekitem. A szezon osszes kapuralovese az adott percben adott embertol\n",
    "#A kapuraloves lehet: 'Shot','Missed Shot','Goal' es 'Blocked Shot'. Blokkoltnal a Player2-n van logolva a Shooter\n",
    "#REGULAR period type\n",
    "tmp_sog_time = events_df[['player1Id','eventType','periodTimeFull_rounded']]\n",
    "tmp_sog_time = tmp_sog_time[tmp_sog_time['eventType'].isin(['Shot','Missed Shot','Goal'])]\n",
    "\n",
    "tmp_sog_b_time = events_df[['player2Id','eventType','periodTimeFull_rounded']]\n",
    "tmp_sog_b_time = tmp_sog_b_time[tmp_sog_b_time['eventType'].isin(['Blocked Shot'])]\n",
    "tmp_sog_b_time = tmp_sog_b_time.rename(columns={\"player2Id\": \"player1Id\"})\n",
    "\n",
    "timechart = tmp_sog_time.append(tmp_sog_b_time, ignore_index=True)\n",
    "\n",
    "#REGULAR period type (OverTime es Shootout kiszurese):\n",
    "timechart = timechart.loc[timechart['periodTimeFull_rounded'] <= pd.to_timedelta('01:00:00')]\n",
    "\n",
    "timechart = timechart[timechart['player1Id'].isin([8471214])]\n",
    "\n",
    "timechart = timechart.groupby(['periodTimeFull_rounded']).count()\n",
    "timechart = timechart.drop(columns=['eventType'])\n",
    "timechart = timechart.rename(columns={\"player1Id\": \"Number of SOG\"})\n",
    "timechart.reset_index(inplace=True)\n",
    "timechart.plot(x='periodTimeFull_rounded', figsize=(8,6), cmap='Dark2')\n",
    "plt.xlabel('Period Time')\n",
    "#px.line(timechart, x=\"periodTimeFull_rounded\", y=\"Number of SOG\", title='# of SOG')\n",
    "#timechart"
   ]
  },
  {
   "cell_type": "code",
   "execution_count": 210,
   "id": "63d309dc",
   "metadata": {},
   "outputs": [
    {
     "data": {
      "image/png": "[encoded data removed]",
      "text/plain": [
       "<Figure size 576x504 with 1 Axes>"
      ]
     },
     "metadata": {
      "needs_background": "light"
     },
     "output_type": "display_data"
    }
   ],
   "source": [
    "#Szogek vizualizalasa\n",
    "#Atszamoljuk radianra, aztan elforgatjuk hogy 0-180 kozott tudjam abrazolni\n",
    "events_df['shot_angle_rad'] = events_df['shot_angle']*(math.pi/180)\n",
    "events_df['shot_angle_vis'] = events_df['shot_angle_rad']*-1+(math.pi/2)\n",
    "\n",
    "#Parameterek, pl Ovechkin goljai:\n",
    "angledf = pd.DataFrame()\n",
    "angledf = events_df[events_df['eventType'].isin(['Goal'])]\n",
    "angledf = angledf[angledf['periodType'] != 'SHOOTOUT']\n",
    "angledf = angledf[angledf['player1Id'].isin([8471214])]\n",
    "\n",
    "theta = angledf['shot_angle_vis']\n",
    "r = angledf['shot_distance']\n",
    "colors = theta\n",
    "size = angledf['shot_angle_vis'].count()*2\n",
    "\n",
    "fig = plt.figure()\n",
    "ax = fig.add_subplot(projection='polar')\n",
    "#bx = fig.add_subplot()\n",
    "c = ax.scatter(theta, r, s=size, cmap='Dark2', c = colors, alpha=0.75)\n",
    "plt.gcf().set_size_inches(8, 7)\n",
    "img = plt.imread('hockeyrink.jpeg')\n",
    "\n",
    "#bx.imshow(img, extent=[0, 100, -42.5, 42.5])\n",
    "ax.text(0.2, 0.2, 'Goal Line',\n",
    "        verticalalignment='bottom', horizontalalignment='left',\n",
    "        transform=ax.transAxes,\n",
    "        color='red', fontsize=10)\n",
    "ax.text(0.42, 0.25, 'Goal Center',\n",
    "        verticalalignment='bottom', horizontalalignment='left',\n",
    "        transform=ax.transAxes,\n",
    "        color='red', fontsize=10)\n",
    "ax.set_thetamin(0)\n",
    "ax.set_thetamax(180)"
   ]
  },
  {
   "cell_type": "code",
   "execution_count": 98,
   "id": "b64a3279",
   "metadata": {},
   "outputs": [
    {
     "data": {
      "image/png": "[encoded data removed]",
      "text/plain": [
       "<Figure size 640x320 with 1 Axes>"
      ]
     },
     "metadata": {
      "needs_background": "light"
     },
     "output_type": "display_data"
    }
   ],
   "source": [
    "#Individual Expected Goals: ixG, letoltott csv-ben vannak statisztikai szamaim, ezt csak beolvasom, nem API-zok\n",
    "players_stat_18 = pd.read_csv('playerstats_2018.csv')\n",
    "players_stat_19 = pd.read_csv('playerstats_2019.csv')\n",
    "players_stat_20 = pd.read_csv('playerstats_20.csv')\n",
    "players_stat_21 = pd.read_csv('playerstats_21.csv')\n",
    "\n",
    "name = 'Alex Ovechkin'\n",
    "\n",
    "#Dataframek amiben csak az ixG kerul 1 emberre\n",
    "oneplayerstat_18 = players_stat_18.loc[:,['Player', 'Goals', 'ixG','GP']]\n",
    "oneplayerstat_18 = oneplayerstat_18[oneplayerstat_18['Player'] == (name)]\n",
    "oneplayerstat_18 = oneplayerstat_18.rename(columns={\"ixG\": \"ixG_18\", 'Goals':'Goals_18','GP':'GP_18'})\n",
    "\n",
    "oneplayerstat_19 = players_stat_19.loc[:,['Player', 'Goals', 'ixG','GP']]\n",
    "oneplayerstat_19 = oneplayerstat_19[oneplayerstat_19['Player'] == (name)]\n",
    "oneplayerstat_19 = oneplayerstat_19.rename(columns={\"ixG\": \"ixG_19\", 'Goals':'Goals_19','GP':'GP_19'})\n",
    "\n",
    "oneplayerstat_20 = players_stat_20.loc[:,['Player', 'Goals', 'ixG','GP']]\n",
    "oneplayerstat_20 = oneplayerstat_20[oneplayerstat_20['Player'] == (name)]\n",
    "oneplayerstat_20 = oneplayerstat_20.rename(columns={\"ixG\": \"ixG_20\", 'Goals':'Goals_20','GP':'GP_20'})\n",
    "\n",
    "oneplayerstat_21 = players_stat_21.loc[:,['Player', 'Goals', 'ixG','GP']]\n",
    "oneplayerstat_21 = oneplayerstat_21[oneplayerstat_21['Player'] == (name)]\n",
    "oneplayerstat_21 = oneplayerstat_21.rename(columns={\"ixG\": \"ixG_21\", 'Goals':'Goals_21','GP':'GP_21'})\n",
    "\n",
    "fig, ax = plt.subplots(1,1,figsize=(8,4), dpi= 80)\n",
    "\n",
    "#Vertical lines\n",
    "ax.vlines(x=1, ymin=0, ymax=80, color='black', alpha=0.7, linewidth=1, linestyles='dotted')\n",
    "ax.vlines(x=3, ymin=0, ymax=80, color='black', alpha=0.7, linewidth=1, linestyles='dotted')\n",
    "ax.vlines(x=5, ymin=0, ymax=80, color='black', alpha=0.7, linewidth=1, linestyles='dotted')\n",
    "ax.vlines(x=7, ymin=0, ymax=80, color='black', alpha=0.7, linewidth=1, linestyles='dotted')\n",
    "\n",
    "# Points\n",
    "#Goals\n",
    "ax.scatter(y=oneplayerstat_18['Goals_18'], x=np.repeat(1, oneplayerstat_18.shape[0]), s=10, color='black', alpha=0.7)\n",
    "ax.scatter(y=oneplayerstat_19['Goals_19'], x=np.repeat(3, oneplayerstat_19.shape[0]), s=10, color='black', alpha=0.7)\n",
    "ax.scatter(y=oneplayerstat_20['Goals_20'], x=np.repeat(5, oneplayerstat_20.shape[0]), s=10, color='black', alpha=0.7)\n",
    "ax.scatter(y=oneplayerstat_21['Goals_21'], x=np.repeat(7, oneplayerstat_21.shape[0]), s=10, color='black', alpha=0.7)\n",
    "#ixG\n",
    "ax.scatter(y=oneplayerstat_18['ixG_18'], x=np.repeat(1, oneplayerstat_18.shape[0]), s=30, color='blue', alpha=0.7)\n",
    "ax.scatter(y=oneplayerstat_19['ixG_19'], x=np.repeat(3, oneplayerstat_19.shape[0]), s=30, color='blue', alpha=0.7)\n",
    "ax.scatter(y=oneplayerstat_20['ixG_20'], x=np.repeat(5, oneplayerstat_20.shape[0]), s=30, color='blue', alpha=0.7)\n",
    "ax.scatter(y=oneplayerstat_21['ixG_21'], x=np.repeat(7, oneplayerstat_21.shape[0]), s=30, color='blue', alpha=0.7)\n",
    "\n",
    "def newline(p1, p2, color='black'):\n",
    "    ax = plt.gca()\n",
    "    l = mlines.Line2D([p1[0],p2[0]], [p1[1],p2[1]], color='red' if p1[1]-p2[1] > 0 else 'green', marker='o', markersize=6)\n",
    "    ax.add_line(l)\n",
    "    return l\n",
    "\n",
    "# Line Segmentsand Annotation\n",
    "for p1, p2 in zip(oneplayerstat_18['Goals_18'], oneplayerstat_19['Goals_19']):\n",
    "    newline([1,p1], [3,p2])\n",
    "    \n",
    "for p1, p2 in zip(oneplayerstat_19['Goals_19'], oneplayerstat_20['Goals_20']):\n",
    "    newline([3,p1], [5,p2])\n",
    "    \n",
    "for p1, p2 in zip(oneplayerstat_20['Goals_20'], oneplayerstat_21['Goals_21']):\n",
    "    newline([5,p1], [7,p2])\n",
    "    \n",
    "# Decoration\n",
    "#ax.set_title(\"Comparing Expected Goals and Goals in 2021\", fontdict={'size':15})\n",
    "ax.set(xlim=(0,8), ylim=(10,80), ylabel='# of Goals')\n",
    "ax.set_xticks([1,3,5,7])\n",
    "ax.set_xticklabels([\"2018\", \"2019\",\"2020\",\"2021\"])\n",
    "plt.yticks((0,10,20,30,40,50,60,70,80), fontsize=10)\n",
    "\n",
    "# Lighten borders\n",
    "plt.gca().spines[\"top\"].set_alpha(.0)\n",
    "plt.gca().spines[\"bottom\"].set_alpha(.0)\n",
    "plt.gca().spines[\"right\"].set_alpha(.0)\n",
    "plt.gca().spines[\"left\"].set_alpha(.0)\n"
   ]
  },
  {
   "cell_type": "code",
   "execution_count": 100,
   "id": "86853c0c",
   "metadata": {},
   "outputs": [
    {
     "data": {
      "image/png": "[encoded data removed]",
      "text/plain": [
       "<Figure size 640x320 with 1 Axes>"
      ]
     },
     "metadata": {
      "needs_background": "light"
     },
     "output_type": "display_data"
    }
   ],
   "source": [
    "#Individual Expected Goals: ixG, letoltott csv-ben vannak statisztikai szamaim, ezt csak beolvasom, nem API-zok\n",
    "players_stat_18 = pd.read_csv('playerstats_2018.csv')\n",
    "players_stat_19 = pd.read_csv('playerstats_2019.csv')\n",
    "players_stat_20 = pd.read_csv('playerstats_20.csv')\n",
    "players_stat_21 = pd.read_csv('playerstats_21.csv')\n",
    "\n",
    "name = 'Alex Ovechkin'\n",
    "\n",
    "#Dataframek amiben csak az ixG kerul 1 emberre\n",
    "oneplayerstat_18 = players_stat_18.loc[:,['Player', 'Goals', 'ixG','GP']]\n",
    "oneplayerstat_18 = oneplayerstat_18[oneplayerstat_18['Player'] == (name)]\n",
    "oneplayerstat_18 = oneplayerstat_18.rename(columns={\"ixG\": \"ixG_18\", 'Goals':'Goals_18','GP':'GP_18'})\n",
    "\n",
    "oneplayerstat_19 = players_stat_19.loc[:,['Player', 'Goals', 'ixG','GP']]\n",
    "oneplayerstat_19 = oneplayerstat_19[oneplayerstat_19['Player'] == (name)]\n",
    "oneplayerstat_19 = oneplayerstat_19.rename(columns={\"ixG\": \"ixG_19\", 'Goals':'Goals_19','GP':'GP_19'})\n",
    "\n",
    "oneplayerstat_20 = players_stat_20.loc[:,['Player', 'Goals', 'ixG','GP']]\n",
    "oneplayerstat_20 = oneplayerstat_20[oneplayerstat_20['Player'] == (name)]\n",
    "oneplayerstat_20 = oneplayerstat_20.rename(columns={\"ixG\": \"ixG_20\", 'Goals':'Goals_20','GP':'GP_20'})\n",
    "\n",
    "oneplayerstat_21 = players_stat_21.loc[:,['Player', 'Goals', 'ixG','GP']]\n",
    "oneplayerstat_21 = oneplayerstat_21[oneplayerstat_21['Player'] == (name)]\n",
    "oneplayerstat_21 = oneplayerstat_21.rename(columns={\"ixG\": \"ixG_21\", 'Goals':'Goals_21','GP':'GP_21'})\n",
    "\n",
    "\n",
    "#ixg_1819 = pd.merge(left=oneplayerstat_18, right=oneplayerstat_19, left_on = 'Player', right_on='Player', how='left')\n",
    "#ixg = oneplayerstat_21\n",
    "\n",
    "fig, ax = plt.subplots(1,1,figsize=(8,4), dpi= 80)\n",
    "\n",
    "#Vertical lines\n",
    "ax.vlines(x=1, ymin=0, ymax=2, color='black', alpha=0.7, linewidth=1, linestyles='dotted')\n",
    "ax.vlines(x=3, ymin=0, ymax=2, color='black', alpha=0.7, linewidth=1, linestyles='dotted')\n",
    "ax.vlines(x=5, ymin=0, ymax=2, color='black', alpha=0.7, linewidth=1, linestyles='dotted')\n",
    "ax.vlines(x=7, ymin=0, ymax=2, color='black', alpha=0.7, linewidth=1, linestyles='dotted')\n",
    "\n",
    "gpg_18 = (oneplayerstat_18['Goals_18']/oneplayerstat_18['GP_18'])\n",
    "gpg_19 = (oneplayerstat_19['Goals_19']/oneplayerstat_19['GP_19'])\n",
    "gpg_20 = (oneplayerstat_20['Goals_20']/oneplayerstat_20['GP_20'])\n",
    "gpg_21 = (oneplayerstat_21['Goals_21']/oneplayerstat_21['GP_21'])\n",
    "\n",
    "# Points\n",
    "#GP\n",
    "ax.scatter(y=gpg_18, x=np.repeat(1, oneplayerstat_18.shape[0]), s=30, color='red', alpha=0.7)\n",
    "ax.scatter(y=gpg_19, x=np.repeat(3, oneplayerstat_19.shape[0]), s=30, color='red', alpha=0.7)\n",
    "ax.scatter(y=gpg_20, x=np.repeat(5, oneplayerstat_20.shape[0]), s=30, color='red', alpha=0.7)\n",
    "ax.scatter(y=gpg_21, x=np.repeat(7, oneplayerstat_21.shape[0]), s=30, color='red', alpha=0.7)\n",
    "\n",
    "def newline(p1, p2, color='black'):\n",
    "    ax = plt.gca()\n",
    "    l = mlines.Line2D([p1[0],p2[0]], [p1[1],p2[1]], color='red' if p1[1]-p2[1] > 0 else 'green', marker='o', markersize=6)\n",
    "    ax.add_line(l)\n",
    "    return l\n",
    "\n",
    "# Line Segmentsand Annotation\n",
    "for p1, p2 in zip(gpg_18, gpg_19):\n",
    "    newline([1,p1], [3,p2])\n",
    "    \n",
    "for p1, p2 in zip(gpg_19, gpg_20):\n",
    "    newline([3,p1], [5,p2])\n",
    "    \n",
    "for p1, p2 in zip(gpg_20, gpg_21):\n",
    "    newline([5,p1], [7,p2])\n",
    "    \n",
    "# Decoration\n",
    "#ax.set_title(\"Comparing Expected Goals and Goals in 2021\", fontdict={'size':15})\n",
    "ax.set(xlim=(0,8), ylim=(0,0.9), ylabel='Goals/Games')\n",
    "ax.set_xticks([1,3,5,7])\n",
    "ax.set_xticklabels([\"2018\", \"2019\",\"2020\",\"2021\"])\n",
    "plt.yticks((0,0.1,0.2,0.3,0.4,0.5,0.6,0.7,0.8,0.9), fontsize=10)\n",
    "\n",
    "# Lighten borders\n",
    "plt.gca().spines[\"top\"].set_alpha(.0)\n",
    "plt.gca().spines[\"bottom\"].set_alpha(.0)\n",
    "plt.gca().spines[\"right\"].set_alpha(.0)\n",
    "plt.gca().spines[\"left\"].set_alpha(.0)\n"
   ]
  },
  {
   "cell_type": "code",
   "execution_count": 325,
   "id": "30b4a39d",
   "metadata": {},
   "outputs": [],
   "source": [
    "#players_df.dtypes"
   ]
  },
  {
   "cell_type": "code",
   "execution_count": 326,
   "id": "878f4252",
   "metadata": {},
   "outputs": [],
   "source": [
    "#teams_df.dtypes"
   ]
  },
  {
   "cell_type": "code",
   "execution_count": 327,
   "id": "485fb5e2",
   "metadata": {},
   "outputs": [],
   "source": [
    "#games_df.dtypes"
   ]
  },
  {
   "cell_type": "code",
   "execution_count": 328,
   "id": "682656ff",
   "metadata": {},
   "outputs": [],
   "source": [
    "#events_df.dtypes"
   ]
  },
  {
   "cell_type": "code",
   "execution_count": 242,
   "id": "13675f4c",
   "metadata": {
    "scrolled": true
   },
   "outputs": [
    {
     "data": {
      "image/png": "[encoded data removed]",
      "text/plain": [
       "<Figure size 640x320 with 1 Axes>"
      ]
     },
     "metadata": {
      "needs_background": "light"
     },
     "output_type": "display_data"
    }
   ],
   "source": [
    "#Individual Expected Goals: ixG, letoltott csv-ben vannak statisztikai szamaim, ezt csak beolvasom, nem API-zok\n",
    "players_stat_18 = pd.read_csv('playerstats_2018.csv')\n",
    "players_stat_19 = pd.read_csv('playerstats_2019.csv')\n",
    "players_stat_20 = pd.read_csv('playerstats_20.csv')\n",
    "players_stat_21 = pd.read_csv('playerstats_21.csv')\n",
    "\n",
    "name = 'Alex Ovechkin'\n",
    "\n",
    "#Dataframek amiben csak az ixG kerul 1 emberre\n",
    "oneplayerstat_18 = players_stat_18.loc[:,['Player', 'Goals', 'ixG','GP']]\n",
    "oneplayerstat_18 = oneplayerstat_18[oneplayerstat_18['Player'] == (name)]\n",
    "oneplayerstat_18 = oneplayerstat_18.rename(columns={\"ixG\": \"ixG_18\", 'Goals':'Goals_18','GP':'GP_18'})\n",
    "\n",
    "oneplayerstat_19 = players_stat_19.loc[:,['Player', 'Goals', 'ixG','GP']]\n",
    "oneplayerstat_19 = oneplayerstat_19[oneplayerstat_19['Player'] == (name)]\n",
    "oneplayerstat_19 = oneplayerstat_19.rename(columns={\"ixG\": \"ixG_19\", 'Goals':'Goals_19','GP':'GP_19'})\n",
    "\n",
    "oneplayerstat_20 = players_stat_20.loc[:,['Player', 'Goals', 'ixG','GP']]\n",
    "oneplayerstat_20 = oneplayerstat_20[oneplayerstat_20['Player'] == (name)]\n",
    "oneplayerstat_20 = oneplayerstat_20.rename(columns={\"ixG\": \"ixG_20\", 'Goals':'Goals_20','GP':'GP_20'})\n",
    "\n",
    "oneplayerstat_21 = players_stat_21.loc[:,['Player', 'Goals', 'ixG','GP']]\n",
    "oneplayerstat_21 = oneplayerstat_21[oneplayerstat_21['Player'] == (name)]\n",
    "oneplayerstat_21 = oneplayerstat_21.rename(columns={\"ixG\": \"ixG_21\", 'Goals':'Goals_21','GP':'GP_21'})\n",
    "\n",
    "fig, ax = plt.subplots(1,1,figsize=(8,4), dpi= 80)\n",
    "\n",
    "#Vertical lines\n",
    "ax.vlines(x=1, ymin=0, ymax=80, color='black', alpha=0.7, linewidth=1, linestyles='dotted')\n",
    "ax.vlines(x=3, ymin=0, ymax=80, color='black', alpha=0.7, linewidth=1, linestyles='dotted')\n",
    "#ax.vlines(x=5, ymin=0, ymax=80, color='black', alpha=0.7, linewidth=1, linestyles='dotted')\n",
    "#ax.vlines(x=7, ymin=0, ymax=80, color='black', alpha=0.7, linewidth=1, linestyles='dotted')\n",
    "\n",
    "# Points\n",
    "#Goals\n",
    "#ax.scatter(y=oneplayerstat_18['Goals_18'], x=np.repeat(1, oneplayerstat_18.shape[0]), s=10, color='black', alpha=0.7)\n",
    "ax.scatter(y=oneplayerstat_21['Goals_21'], x=np.repeat(3, oneplayerstat_21.shape[0]), s=10, color='black', alpha=0.7)\n",
    "#ax.scatter(y=oneplayerstat_20['Goals_20'], x=np.repeat(5, oneplayerstat_20.shape[0]), s=10, color='black', alpha=0.7)\n",
    "#ax.scatter(y=oneplayerstat_21['Goals_21'], x=np.repeat(7, oneplayerstat_21.shape[0]), s=10, color='black', alpha=0.7)\n",
    "#ixG\n",
    "ax.scatter(y=oneplayerstat_21['ixG_21'], x=np.repeat(1, oneplayerstat_21.shape[0]), s=30, color='black', alpha=0.7)\n",
    "#ax.scatter(y=oneplayerstat_19['ixG_19'], x=np.repeat(3, oneplayerstat_19.shape[0]), s=30, color='blue', alpha=0.7)\n",
    "#ax.scatter(y=oneplayerstat_20['ixG_20'], x=np.repeat(5, oneplayerstat_20.shape[0]), s=30, color='blue', alpha=0.7)\n",
    "#ax.scatter(y=oneplayerstat_21['ixG_21'], x=np.repeat(7, oneplayerstat_21.shape[0]), s=30, color='blue', alpha=0.7)\n",
    "\n",
    "def newline(p1, p2, color='black'):\n",
    "    ax = plt.gca()\n",
    "    l = mlines.Line2D([p1[0],p2[0]], [p1[1],p2[1]], color='red' if p1[1]-p2[1] > 0 else 'green', marker='o', markersize=6)\n",
    "    ax.add_line(l)\n",
    "    return l\n",
    "\n",
    "# Line Segmentsand Annotation\n",
    "for p1, p2 in zip(oneplayerstat_21['ixG_21'], oneplayerstat_21['Goals_21']):\n",
    "    newline([1,p1], [3,p2])\n",
    "    \n",
    "#for p1, p2 in zip(oneplayerstat_19['Goals_19'], oneplayerstat_20['Goals_20']):\n",
    " #   newline([3,p1], [5,p2])\n",
    "    \n",
    "#for p1, p2 in zip(oneplayerstat_20['Goals_20'], oneplayerstat_21['Goals_21']):\n",
    " #   newline([5,p1], [7,p2])\n",
    "    \n",
    "# Decoration\n",
    "#ax.set_title(\"Comparing Expected Goals and Goals in 2021\", fontdict={'size':15})\n",
    "ax.set(xlim=(0,8), ylim=(10,80), ylabel='# of Goals')\n",
    "ax.set_xticks([1,3])\n",
    "ax.set_xticklabels([\"ixG\", \"Goals\"])\n",
    "plt.yticks((0,10,20,30,40,50,60,70,80), fontsize=10)\n",
    "\n",
    "# Lighten borders\n",
    "plt.gca().spines[\"top\"].set_alpha(.0)\n",
    "plt.gca().spines[\"bottom\"].set_alpha(.0)\n",
    "plt.gca().spines[\"right\"].set_alpha(.0)\n",
    "plt.gca().spines[\"left\"].set_alpha(.0)"
   ]
  },
  {
   "cell_type": "code",
   "execution_count": null,
   "id": "5d23a298",
   "metadata": {},
   "outputs": [],
   "source": []
  },
  {
   "cell_type": "code",
   "execution_count": null,
   "id": "94d7bb4d",
   "metadata": {},
   "outputs": [],
   "source": []
  },
  {
   "cell_type": "code",
   "execution_count": null,
   "id": "a3463746",
   "metadata": {},
   "outputs": [],
   "source": []
  }
 ],
 "metadata": {
  "kernelspec": {
   "display_name": "Python 3 (ipykernel)",
   "language": "python",
   "name": "python3"
  },
  "language_info": {
   "codemirror_mode": {
    "name": "ipython",
    "version": 3
   },
   "file_extension": ".py",
   "mimetype": "text/x-python",
   "name": "python",
   "nbconvert_exporter": "python",
   "pygments_lexer": "ipython3",
   "version": "3.9.12"
  }
 },
 "nbformat": 4,
 "nbformat_minor": 5
}
